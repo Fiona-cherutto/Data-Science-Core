{
  "nbformat": 4,
  "nbformat_minor": 0,
  "metadata": {
    "colab": {
      "name": "Copy of Moringa_Data_Science_Prep_Wk5_UnderworldConsultants_Notebook.ipynb",
      "provenance": [],
      "collapsed_sections": [
        "YDTFwKmZ62-m",
        "IHkigMgieUpQ",
        "i47sXD4t1TqF",
        "w8NkQRF_mJ4x",
        "WRWuM7tZ8yIm",
        "-SRIsJss8vha",
        "ufRxVB2Z8oXO",
        "DiQC_7wn7Hx5",
        "Vvl75mQQYjz8",
        "08UjEUD3rHTz",
        "GuMdBXx5_eTY"
      ],
      "toc_visible": true,
      "include_colab_link": true
    },
    "kernelspec": {
      "name": "python3",
      "display_name": "Python 3"
    }
  },
  "cells": [
    {
      "cell_type": "markdown",
      "metadata": {
        "id": "view-in-github",
        "colab_type": "text"
      },
      "source": [
        "<a href=\"https://colab.research.google.com/github/Fiona-cherutto/Data-Science-Core/blob/main/Copy_of_Moringa_Data_Science_Prep_Wk5_UnderworldConsultants_Notebook.ipynb\" target=\"_parent\"><img src=\"https://colab.research.google.com/assets/colab-badge.svg\" alt=\"Open In Colab\"/></a>"
      ]
    },
    {
      "cell_type": "markdown",
      "metadata": {
        "id": "BS8NbTRlEL5V"
      },
      "source": [
        ""
      ]
    },
    {
      "cell_type": "markdown",
      "metadata": {
        "id": "bMqDiPjTza8G"
      },
      "source": [
        "##loading necessary datasets and tools"
      ]
    },
    {
      "cell_type": "code",
      "metadata": {
        "id": "ii4xLEB1roRK",
        "outputId": "d5fcb691-1271-4616-d526-a52436524dcb",
        "colab": {
          "base_uri": "https://localhost:8080/",
          "height": 35
        }
      },
      "source": [
        "%load_ext sql\n",
        "%sql sqlite://"
      ],
      "execution_count": null,
      "outputs": [
        {
          "output_type": "execute_result",
          "data": {
            "application/vnd.google.colaboratory.intrinsic+json": {
              "type": "string"
            },
            "text/plain": [
              "'Connected: @None'"
            ]
          },
          "metadata": {
            "tags": []
          },
          "execution_count": 3
        }
      ]
    },
    {
      "cell_type": "code",
      "metadata": {
        "id": "VGTNTPi5r1AG"
      },
      "source": [
        "import pandas as pd\n",
        "import numpy as np\n",
        "import matplotlib.pyplot as plt\n",
        "%matplotlib inline"
      ],
      "execution_count": null,
      "outputs": []
    },
    {
      "cell_type": "code",
      "metadata": {
        "id": "uY9XHVmfr9JI"
      },
      "source": [
        "movies=pd.read_csv('IMDb movies.csv', low_memory=False)\n",
        "names=pd.read_csv('IMDb names.csv', low_memory=False)\n",
        "ratings=pd.read_csv('IMDb ratings.csv', low_memory=False)\n",
        "title_principles=pd.read_csv('IMDb title_principals.csv', low_memory=False)"
      ],
      "execution_count": null,
      "outputs": []
    },
    {
      "cell_type": "code",
      "metadata": {
        "id": "O6lhZ7u6iPtY",
        "outputId": "d4f044f4-281a-4b00-9809-fa4e0671378f",
        "colab": {
          "base_uri": "https://localhost:8080/",
          "height": 1000
        }
      },
      "source": [
        "movies"
      ],
      "execution_count": null,
      "outputs": [
        {
          "output_type": "execute_result",
          "data": {
            "text/html": [
              "<div>\n",
              "<style scoped>\n",
              "    .dataframe tbody tr th:only-of-type {\n",
              "        vertical-align: middle;\n",
              "    }\n",
              "\n",
              "    .dataframe tbody tr th {\n",
              "        vertical-align: top;\n",
              "    }\n",
              "\n",
              "    .dataframe thead th {\n",
              "        text-align: right;\n",
              "    }\n",
              "</style>\n",
              "<table border=\"1\" class=\"dataframe\">\n",
              "  <thead>\n",
              "    <tr style=\"text-align: right;\">\n",
              "      <th></th>\n",
              "      <th>imdb_title_id</th>\n",
              "      <th>title</th>\n",
              "      <th>original_title</th>\n",
              "      <th>year</th>\n",
              "      <th>date_published</th>\n",
              "      <th>genre</th>\n",
              "      <th>duration</th>\n",
              "      <th>country</th>\n",
              "      <th>language</th>\n",
              "      <th>director</th>\n",
              "      <th>writer</th>\n",
              "      <th>production_company</th>\n",
              "      <th>actors</th>\n",
              "      <th>description</th>\n",
              "      <th>avg_vote</th>\n",
              "      <th>votes</th>\n",
              "      <th>budget</th>\n",
              "      <th>usa_gross_income</th>\n",
              "      <th>worlwide_gross_income</th>\n",
              "      <th>metascore</th>\n",
              "      <th>reviews_from_users</th>\n",
              "      <th>reviews_from_critics</th>\n",
              "    </tr>\n",
              "  </thead>\n",
              "  <tbody>\n",
              "    <tr>\n",
              "      <th>0</th>\n",
              "      <td>tt0000009</td>\n",
              "      <td>Miss Jerry</td>\n",
              "      <td>Miss Jerry</td>\n",
              "      <td>1894</td>\n",
              "      <td>1894-10-09</td>\n",
              "      <td>Romance</td>\n",
              "      <td>45</td>\n",
              "      <td>USA</td>\n",
              "      <td>None</td>\n",
              "      <td>Alexander Black</td>\n",
              "      <td>Alexander Black</td>\n",
              "      <td>Alexander Black Photoplays</td>\n",
              "      <td>Blanche Bayliss, William Courtenay, Chauncey D...</td>\n",
              "      <td>The adventures of a female reporter in the 1890s.</td>\n",
              "      <td>5.9</td>\n",
              "      <td>154</td>\n",
              "      <td>NaN</td>\n",
              "      <td>NaN</td>\n",
              "      <td>NaN</td>\n",
              "      <td>NaN</td>\n",
              "      <td>1.0</td>\n",
              "      <td>2.0</td>\n",
              "    </tr>\n",
              "    <tr>\n",
              "      <th>1</th>\n",
              "      <td>tt0000574</td>\n",
              "      <td>The Story of the Kelly Gang</td>\n",
              "      <td>The Story of the Kelly Gang</td>\n",
              "      <td>1906</td>\n",
              "      <td>1906-12-26</td>\n",
              "      <td>Biography, Crime, Drama</td>\n",
              "      <td>70</td>\n",
              "      <td>Australia</td>\n",
              "      <td>None</td>\n",
              "      <td>Charles Tait</td>\n",
              "      <td>Charles Tait</td>\n",
              "      <td>J. and N. Tait</td>\n",
              "      <td>Elizabeth Tait, John Tait, Norman Campbell, Be...</td>\n",
              "      <td>True story of notorious Australian outlaw Ned ...</td>\n",
              "      <td>6.1</td>\n",
              "      <td>589</td>\n",
              "      <td>$ 2250</td>\n",
              "      <td>NaN</td>\n",
              "      <td>NaN</td>\n",
              "      <td>NaN</td>\n",
              "      <td>7.0</td>\n",
              "      <td>7.0</td>\n",
              "    </tr>\n",
              "    <tr>\n",
              "      <th>2</th>\n",
              "      <td>tt0001892</td>\n",
              "      <td>Den sorte drøm</td>\n",
              "      <td>Den sorte drøm</td>\n",
              "      <td>1911</td>\n",
              "      <td>1911-08-19</td>\n",
              "      <td>Drama</td>\n",
              "      <td>53</td>\n",
              "      <td>Germany, Denmark</td>\n",
              "      <td>NaN</td>\n",
              "      <td>Urban Gad</td>\n",
              "      <td>Urban Gad, Gebhard Schätzler-Perasini</td>\n",
              "      <td>Fotorama</td>\n",
              "      <td>Asta Nielsen, Valdemar Psilander, Gunnar Helse...</td>\n",
              "      <td>Two men of high rank are both wooing the beaut...</td>\n",
              "      <td>5.8</td>\n",
              "      <td>188</td>\n",
              "      <td>NaN</td>\n",
              "      <td>NaN</td>\n",
              "      <td>NaN</td>\n",
              "      <td>NaN</td>\n",
              "      <td>5.0</td>\n",
              "      <td>2.0</td>\n",
              "    </tr>\n",
              "    <tr>\n",
              "      <th>3</th>\n",
              "      <td>tt0002101</td>\n",
              "      <td>Cleopatra</td>\n",
              "      <td>Cleopatra</td>\n",
              "      <td>1912</td>\n",
              "      <td>1912-11-13</td>\n",
              "      <td>Drama, History</td>\n",
              "      <td>100</td>\n",
              "      <td>USA</td>\n",
              "      <td>English</td>\n",
              "      <td>Charles L. Gaskill</td>\n",
              "      <td>Victorien Sardou</td>\n",
              "      <td>Helen Gardner Picture Players</td>\n",
              "      <td>Helen Gardner, Pearl Sindelar, Miss Fielding, ...</td>\n",
              "      <td>The fabled queen of Egypt's affair with Roman ...</td>\n",
              "      <td>5.2</td>\n",
              "      <td>446</td>\n",
              "      <td>$ 45000</td>\n",
              "      <td>NaN</td>\n",
              "      <td>NaN</td>\n",
              "      <td>NaN</td>\n",
              "      <td>25.0</td>\n",
              "      <td>3.0</td>\n",
              "    </tr>\n",
              "    <tr>\n",
              "      <th>4</th>\n",
              "      <td>tt0002130</td>\n",
              "      <td>L'Inferno</td>\n",
              "      <td>L'Inferno</td>\n",
              "      <td>1911</td>\n",
              "      <td>1911-03-06</td>\n",
              "      <td>Adventure, Drama, Fantasy</td>\n",
              "      <td>68</td>\n",
              "      <td>Italy</td>\n",
              "      <td>Italian</td>\n",
              "      <td>Francesco Bertolini, Adolfo Padovan</td>\n",
              "      <td>Dante Alighieri</td>\n",
              "      <td>Milano Film</td>\n",
              "      <td>Salvatore Papa, Arturo Pirovano, Giuseppe de L...</td>\n",
              "      <td>Loosely adapted from Dante's Divine Comedy and...</td>\n",
              "      <td>7.0</td>\n",
              "      <td>2237</td>\n",
              "      <td>NaN</td>\n",
              "      <td>NaN</td>\n",
              "      <td>NaN</td>\n",
              "      <td>NaN</td>\n",
              "      <td>31.0</td>\n",
              "      <td>14.0</td>\n",
              "    </tr>\n",
              "    <tr>\n",
              "      <th>...</th>\n",
              "      <td>...</td>\n",
              "      <td>...</td>\n",
              "      <td>...</td>\n",
              "      <td>...</td>\n",
              "      <td>...</td>\n",
              "      <td>...</td>\n",
              "      <td>...</td>\n",
              "      <td>...</td>\n",
              "      <td>...</td>\n",
              "      <td>...</td>\n",
              "      <td>...</td>\n",
              "      <td>...</td>\n",
              "      <td>...</td>\n",
              "      <td>...</td>\n",
              "      <td>...</td>\n",
              "      <td>...</td>\n",
              "      <td>...</td>\n",
              "      <td>...</td>\n",
              "      <td>...</td>\n",
              "      <td>...</td>\n",
              "      <td>...</td>\n",
              "      <td>...</td>\n",
              "    </tr>\n",
              "    <tr>\n",
              "      <th>85850</th>\n",
              "      <td>tt9908390</td>\n",
              "      <td>Le lion</td>\n",
              "      <td>Le lion</td>\n",
              "      <td>2020</td>\n",
              "      <td>2020-01-29</td>\n",
              "      <td>Comedy</td>\n",
              "      <td>95</td>\n",
              "      <td>France, Belgium</td>\n",
              "      <td>French</td>\n",
              "      <td>Ludovic Colbeau-Justin</td>\n",
              "      <td>Alexandre Coquelle, Matthieu Le Naour</td>\n",
              "      <td>Monkey Pack Films</td>\n",
              "      <td>Dany Boon, Philippe Katerine, Anne Serra, Samu...</td>\n",
              "      <td>A psychiatric hospital patient pretends to be ...</td>\n",
              "      <td>5.3</td>\n",
              "      <td>398</td>\n",
              "      <td>NaN</td>\n",
              "      <td>NaN</td>\n",
              "      <td>$ 3507171</td>\n",
              "      <td>NaN</td>\n",
              "      <td>NaN</td>\n",
              "      <td>4.0</td>\n",
              "    </tr>\n",
              "    <tr>\n",
              "      <th>85851</th>\n",
              "      <td>tt9911196</td>\n",
              "      <td>De Beentjes van Sint-Hildegard</td>\n",
              "      <td>De Beentjes van Sint-Hildegard</td>\n",
              "      <td>2020</td>\n",
              "      <td>2020-02-13</td>\n",
              "      <td>Comedy, Drama</td>\n",
              "      <td>103</td>\n",
              "      <td>Netherlands</td>\n",
              "      <td>German, Dutch</td>\n",
              "      <td>Johan Nijenhuis</td>\n",
              "      <td>Radek Bajgar, Herman Finkers</td>\n",
              "      <td>Johan Nijenhuis &amp; Co</td>\n",
              "      <td>Herman Finkers, Johanna ter Steege, Leonie ter...</td>\n",
              "      <td>A middle-aged veterinary surgeon believes his ...</td>\n",
              "      <td>7.7</td>\n",
              "      <td>724</td>\n",
              "      <td>NaN</td>\n",
              "      <td>NaN</td>\n",
              "      <td>$ 7299062</td>\n",
              "      <td>NaN</td>\n",
              "      <td>6.0</td>\n",
              "      <td>4.0</td>\n",
              "    </tr>\n",
              "    <tr>\n",
              "      <th>85852</th>\n",
              "      <td>tt9911774</td>\n",
              "      <td>Padmavyuhathile Abhimanyu</td>\n",
              "      <td>Padmavyuhathile Abhimanyu</td>\n",
              "      <td>2019</td>\n",
              "      <td>2019-03-08</td>\n",
              "      <td>Drama</td>\n",
              "      <td>130</td>\n",
              "      <td>India</td>\n",
              "      <td>Malayalam</td>\n",
              "      <td>Vineesh Aaradya</td>\n",
              "      <td>Vineesh Aaradya, Vineesh Aaradya</td>\n",
              "      <td>RMCC Productions</td>\n",
              "      <td>Anoop Chandran, Indrans, Sona Nair, Simon Brit...</td>\n",
              "      <td>NaN</td>\n",
              "      <td>7.9</td>\n",
              "      <td>265</td>\n",
              "      <td>NaN</td>\n",
              "      <td>NaN</td>\n",
              "      <td>NaN</td>\n",
              "      <td>NaN</td>\n",
              "      <td>NaN</td>\n",
              "      <td>NaN</td>\n",
              "    </tr>\n",
              "    <tr>\n",
              "      <th>85853</th>\n",
              "      <td>tt9914286</td>\n",
              "      <td>Sokagin Çocuklari</td>\n",
              "      <td>Sokagin Çocuklari</td>\n",
              "      <td>2019</td>\n",
              "      <td>2019-03-15</td>\n",
              "      <td>Drama, Family</td>\n",
              "      <td>98</td>\n",
              "      <td>Turkey</td>\n",
              "      <td>Turkish</td>\n",
              "      <td>Ahmet Faik Akinci</td>\n",
              "      <td>Ahmet Faik Akinci, Kasim Uçkan</td>\n",
              "      <td>Gizem Ajans</td>\n",
              "      <td>Ahmet Faik Akinci, Belma Mamati, Metin Keçeci,...</td>\n",
              "      <td>NaN</td>\n",
              "      <td>6.4</td>\n",
              "      <td>194</td>\n",
              "      <td>NaN</td>\n",
              "      <td>NaN</td>\n",
              "      <td>$ 2833</td>\n",
              "      <td>NaN</td>\n",
              "      <td>NaN</td>\n",
              "      <td>NaN</td>\n",
              "    </tr>\n",
              "    <tr>\n",
              "      <th>85854</th>\n",
              "      <td>tt9914942</td>\n",
              "      <td>La vida sense la Sara Amat</td>\n",
              "      <td>La vida sense la Sara Amat</td>\n",
              "      <td>2019</td>\n",
              "      <td>2020-02-05</td>\n",
              "      <td>Drama</td>\n",
              "      <td>74</td>\n",
              "      <td>Spain</td>\n",
              "      <td>Catalan</td>\n",
              "      <td>Laura Jou</td>\n",
              "      <td>Coral Cruz, Pep Puig</td>\n",
              "      <td>La Xarxa de Comunicació Local</td>\n",
              "      <td>Maria Morera Colomer, Biel Rossell Pelfort, Is...</td>\n",
              "      <td>Pep, a 13-year-old boy, is in love with a girl...</td>\n",
              "      <td>6.7</td>\n",
              "      <td>102</td>\n",
              "      <td>NaN</td>\n",
              "      <td>NaN</td>\n",
              "      <td>$ 59794</td>\n",
              "      <td>NaN</td>\n",
              "      <td>NaN</td>\n",
              "      <td>2.0</td>\n",
              "    </tr>\n",
              "  </tbody>\n",
              "</table>\n",
              "<p>85855 rows × 22 columns</p>\n",
              "</div>"
            ],
            "text/plain": [
              "      imdb_title_id  ... reviews_from_critics\n",
              "0         tt0000009  ...                  2.0\n",
              "1         tt0000574  ...                  7.0\n",
              "2         tt0001892  ...                  2.0\n",
              "3         tt0002101  ...                  3.0\n",
              "4         tt0002130  ...                 14.0\n",
              "...             ...  ...                  ...\n",
              "85850     tt9908390  ...                  4.0\n",
              "85851     tt9911196  ...                  4.0\n",
              "85852     tt9911774  ...                  NaN\n",
              "85853     tt9914286  ...                  NaN\n",
              "85854     tt9914942  ...                  2.0\n",
              "\n",
              "[85855 rows x 22 columns]"
            ]
          },
          "metadata": {
            "tags": []
          },
          "execution_count": 15
        }
      ]
    },
    {
      "cell_type": "code",
      "metadata": {
        "id": "tQYaqSoL71JV",
        "outputId": "15cc4790-c109-446b-8af3-93cdc2ed065a",
        "colab": {
          "base_uri": "https://localhost:8080/",
          "height": 1000
        }
      },
      "source": [
        "names"
      ],
      "execution_count": null,
      "outputs": [
        {
          "output_type": "execute_result",
          "data": {
            "text/html": [
              "<div>\n",
              "<style scoped>\n",
              "    .dataframe tbody tr th:only-of-type {\n",
              "        vertical-align: middle;\n",
              "    }\n",
              "\n",
              "    .dataframe tbody tr th {\n",
              "        vertical-align: top;\n",
              "    }\n",
              "\n",
              "    .dataframe thead th {\n",
              "        text-align: right;\n",
              "    }\n",
              "</style>\n",
              "<table border=\"1\" class=\"dataframe\">\n",
              "  <thead>\n",
              "    <tr style=\"text-align: right;\">\n",
              "      <th></th>\n",
              "      <th>imdb_name_id</th>\n",
              "      <th>name</th>\n",
              "      <th>birth_name</th>\n",
              "      <th>height</th>\n",
              "      <th>bio</th>\n",
              "      <th>birth_details</th>\n",
              "      <th>date_of_birth</th>\n",
              "      <th>place_of_birth</th>\n",
              "      <th>death_details</th>\n",
              "      <th>date_of_death</th>\n",
              "      <th>place_of_death</th>\n",
              "      <th>reason_of_death</th>\n",
              "      <th>spouses_string</th>\n",
              "      <th>spouses</th>\n",
              "      <th>divorces</th>\n",
              "      <th>spouses_with_children</th>\n",
              "      <th>children</th>\n",
              "    </tr>\n",
              "  </thead>\n",
              "  <tbody>\n",
              "    <tr>\n",
              "      <th>0</th>\n",
              "      <td>nm0000001</td>\n",
              "      <td>Fred Astaire</td>\n",
              "      <td>Frederic Austerlitz Jr.</td>\n",
              "      <td>177.0</td>\n",
              "      <td>Fred Astaire was born in Omaha, Nebraska, to J...</td>\n",
              "      <td>May 10, 1899 in Omaha, Nebraska, USA</td>\n",
              "      <td>1899-05-10</td>\n",
              "      <td>Omaha, Nebraska, USA</td>\n",
              "      <td>June 22, 1987 in Los Angeles, California, USA ...</td>\n",
              "      <td>1987-06-22</td>\n",
              "      <td>Los Angeles, California, USA</td>\n",
              "      <td>pneumonia</td>\n",
              "      <td>Robyn Smith  (27 June 1980 - 22 June 1987) (hi...</td>\n",
              "      <td>2</td>\n",
              "      <td>0</td>\n",
              "      <td>1</td>\n",
              "      <td>2</td>\n",
              "    </tr>\n",
              "    <tr>\n",
              "      <th>1</th>\n",
              "      <td>nm0000002</td>\n",
              "      <td>Lauren Bacall</td>\n",
              "      <td>Betty Joan Perske</td>\n",
              "      <td>174.0</td>\n",
              "      <td>Lauren Bacall was born Betty Joan Perske on Se...</td>\n",
              "      <td>September 16, 1924 in The Bronx, New York City...</td>\n",
              "      <td>1924-09-16</td>\n",
              "      <td>The Bronx, New York City, New York, USA</td>\n",
              "      <td>August 12, 2014 in New York City, New York, US...</td>\n",
              "      <td>2014-08-12</td>\n",
              "      <td>New York City, New York, USA</td>\n",
              "      <td>stroke</td>\n",
              "      <td>Jason Robards  (4 July 1961 - 10 September 196...</td>\n",
              "      <td>2</td>\n",
              "      <td>1</td>\n",
              "      <td>2</td>\n",
              "      <td>3</td>\n",
              "    </tr>\n",
              "    <tr>\n",
              "      <th>2</th>\n",
              "      <td>nm0000003</td>\n",
              "      <td>Brigitte Bardot</td>\n",
              "      <td>Brigitte Bardot</td>\n",
              "      <td>166.0</td>\n",
              "      <td>Brigitte Bardot was born on September 28, 1934...</td>\n",
              "      <td>September 28, 1934 in Paris, France</td>\n",
              "      <td>1934-09-28</td>\n",
              "      <td>Paris, France</td>\n",
              "      <td>NaN</td>\n",
              "      <td>NaN</td>\n",
              "      <td>NaN</td>\n",
              "      <td>NaN</td>\n",
              "      <td>Bernard d'Ormale  (16 August 1992 - present)\\n...</td>\n",
              "      <td>4</td>\n",
              "      <td>3</td>\n",
              "      <td>1</td>\n",
              "      <td>1</td>\n",
              "    </tr>\n",
              "    <tr>\n",
              "      <th>3</th>\n",
              "      <td>nm0000004</td>\n",
              "      <td>John Belushi</td>\n",
              "      <td>John Adam Belushi</td>\n",
              "      <td>170.0</td>\n",
              "      <td>John Belushi was born in Chicago, Illinois, US...</td>\n",
              "      <td>January 24, 1949 in Chicago, Illinois, USA</td>\n",
              "      <td>1949-01-24</td>\n",
              "      <td>Chicago, Illinois, USA</td>\n",
              "      <td>March 5, 1982 in Hollywood, Los Angeles, Calif...</td>\n",
              "      <td>1982-03-05</td>\n",
              "      <td>Hollywood, Los Angeles, California, USA</td>\n",
              "      <td>acute cocaine and heroin intoxication</td>\n",
              "      <td>Judith Belushi-Pisano  (31 December 1976 - 5 M...</td>\n",
              "      <td>1</td>\n",
              "      <td>0</td>\n",
              "      <td>0</td>\n",
              "      <td>0</td>\n",
              "    </tr>\n",
              "    <tr>\n",
              "      <th>4</th>\n",
              "      <td>nm0000005</td>\n",
              "      <td>Ingmar Bergman</td>\n",
              "      <td>Ernst Ingmar Bergman</td>\n",
              "      <td>179.0</td>\n",
              "      <td>Ernst Ingmar Bergman was born July 14, 1918, t...</td>\n",
              "      <td>July 14, 1918 in Uppsala, Uppsala län, Sweden</td>\n",
              "      <td>1918-07-14</td>\n",
              "      <td>Uppsala, Uppsala län, Sweden</td>\n",
              "      <td>July 30, 2007 in Fårö, Gotlands län, Sweden  (...</td>\n",
              "      <td>2007-07-30</td>\n",
              "      <td>Fårö, Gotlands län, Sweden</td>\n",
              "      <td>natural causes</td>\n",
              "      <td>Ingrid Bergman  (11 November 1971 - 20 May 199...</td>\n",
              "      <td>5</td>\n",
              "      <td>4</td>\n",
              "      <td>5</td>\n",
              "      <td>8</td>\n",
              "    </tr>\n",
              "    <tr>\n",
              "      <th>...</th>\n",
              "      <td>...</td>\n",
              "      <td>...</td>\n",
              "      <td>...</td>\n",
              "      <td>...</td>\n",
              "      <td>...</td>\n",
              "      <td>...</td>\n",
              "      <td>...</td>\n",
              "      <td>...</td>\n",
              "      <td>...</td>\n",
              "      <td>...</td>\n",
              "      <td>...</td>\n",
              "      <td>...</td>\n",
              "      <td>...</td>\n",
              "      <td>...</td>\n",
              "      <td>...</td>\n",
              "      <td>...</td>\n",
              "      <td>...</td>\n",
              "    </tr>\n",
              "    <tr>\n",
              "      <th>297700</th>\n",
              "      <td>nm5474275</td>\n",
              "      <td>Sunay Terzioglu</td>\n",
              "      <td>Sunay Terzioglu</td>\n",
              "      <td>NaN</td>\n",
              "      <td>NaN</td>\n",
              "      <td>NaN</td>\n",
              "      <td>NaN</td>\n",
              "      <td>NaN</td>\n",
              "      <td>NaN</td>\n",
              "      <td>NaN</td>\n",
              "      <td>NaN</td>\n",
              "      <td>NaN</td>\n",
              "      <td>NaN</td>\n",
              "      <td>0</td>\n",
              "      <td>0</td>\n",
              "      <td>0</td>\n",
              "      <td>0</td>\n",
              "    </tr>\n",
              "    <tr>\n",
              "      <th>297701</th>\n",
              "      <td>nm5909653</td>\n",
              "      <td>Sung Lim Ju</td>\n",
              "      <td>Sung Lim Ju</td>\n",
              "      <td>NaN</td>\n",
              "      <td>NaN</td>\n",
              "      <td>NaN</td>\n",
              "      <td>NaN</td>\n",
              "      <td>NaN</td>\n",
              "      <td>NaN</td>\n",
              "      <td>NaN</td>\n",
              "      <td>NaN</td>\n",
              "      <td>NaN</td>\n",
              "      <td>NaN</td>\n",
              "      <td>0</td>\n",
              "      <td>0</td>\n",
              "      <td>0</td>\n",
              "      <td>0</td>\n",
              "    </tr>\n",
              "    <tr>\n",
              "      <th>297702</th>\n",
              "      <td>nm5993616</td>\n",
              "      <td>Coulee Nazha</td>\n",
              "      <td>Gülnezer Bextiyar</td>\n",
              "      <td>NaN</td>\n",
              "      <td>Coulee Nazha was born on May 2, 1992 in Urumqi...</td>\n",
              "      <td>May 2, 1992 in Urumqi, Xinjiang, China</td>\n",
              "      <td>1992-05-02</td>\n",
              "      <td>Urumqi, Xinjiang, China</td>\n",
              "      <td>NaN</td>\n",
              "      <td>NaN</td>\n",
              "      <td>NaN</td>\n",
              "      <td>NaN</td>\n",
              "      <td>NaN</td>\n",
              "      <td>0</td>\n",
              "      <td>0</td>\n",
              "      <td>0</td>\n",
              "      <td>0</td>\n",
              "    </tr>\n",
              "    <tr>\n",
              "      <th>297703</th>\n",
              "      <td>nm7634163</td>\n",
              "      <td>Ge Ou</td>\n",
              "      <td>Ge Ou</td>\n",
              "      <td>NaN</td>\n",
              "      <td>NaN</td>\n",
              "      <td>NaN</td>\n",
              "      <td>NaN</td>\n",
              "      <td>NaN</td>\n",
              "      <td>NaN</td>\n",
              "      <td>NaN</td>\n",
              "      <td>NaN</td>\n",
              "      <td>NaN</td>\n",
              "      <td>NaN</td>\n",
              "      <td>0</td>\n",
              "      <td>0</td>\n",
              "      <td>0</td>\n",
              "      <td>0</td>\n",
              "    </tr>\n",
              "    <tr>\n",
              "      <th>297704</th>\n",
              "      <td>nm3834123</td>\n",
              "      <td>Richa Langella</td>\n",
              "      <td>Richa Langella</td>\n",
              "      <td>170.0</td>\n",
              "      <td>Richa Langella, formerly known as Richa Gangop...</td>\n",
              "      <td>March 20, 1986 in New Delhi, India</td>\n",
              "      <td>1986-03-20</td>\n",
              "      <td>New Delhi, India</td>\n",
              "      <td>NaN</td>\n",
              "      <td>NaN</td>\n",
              "      <td>NaN</td>\n",
              "      <td>NaN</td>\n",
              "      <td>Joe Langella  (? - present)</td>\n",
              "      <td>1</td>\n",
              "      <td>0</td>\n",
              "      <td>0</td>\n",
              "      <td>0</td>\n",
              "    </tr>\n",
              "  </tbody>\n",
              "</table>\n",
              "<p>297705 rows × 17 columns</p>\n",
              "</div>"
            ],
            "text/plain": [
              "       imdb_name_id             name  ... spouses_with_children  children\n",
              "0         nm0000001     Fred Astaire  ...                     1         2\n",
              "1         nm0000002    Lauren Bacall  ...                     2         3\n",
              "2         nm0000003  Brigitte Bardot  ...                     1         1\n",
              "3         nm0000004     John Belushi  ...                     0         0\n",
              "4         nm0000005   Ingmar Bergman  ...                     5         8\n",
              "...             ...              ...  ...                   ...       ...\n",
              "297700    nm5474275  Sunay Terzioglu  ...                     0         0\n",
              "297701    nm5909653      Sung Lim Ju  ...                     0         0\n",
              "297702    nm5993616     Coulee Nazha  ...                     0         0\n",
              "297703    nm7634163            Ge Ou  ...                     0         0\n",
              "297704    nm3834123   Richa Langella  ...                     0         0\n",
              "\n",
              "[297705 rows x 17 columns]"
            ]
          },
          "metadata": {
            "tags": []
          },
          "execution_count": 14
        }
      ]
    },
    {
      "cell_type": "code",
      "metadata": {
        "id": "HF-Pxax871GD",
        "outputId": "089b4a8e-678e-418e-8a31-500828c86359",
        "colab": {
          "base_uri": "https://localhost:8080/",
          "height": 411
        }
      },
      "source": [
        "ratings"
      ],
      "execution_count": null,
      "outputs": [
        {
          "output_type": "execute_result",
          "data": {
            "text/html": [
              "<div>\n",
              "<style scoped>\n",
              "    .dataframe tbody tr th:only-of-type {\n",
              "        vertical-align: middle;\n",
              "    }\n",
              "\n",
              "    .dataframe tbody tr th {\n",
              "        vertical-align: top;\n",
              "    }\n",
              "\n",
              "    .dataframe thead th {\n",
              "        text-align: right;\n",
              "    }\n",
              "</style>\n",
              "<table border=\"1\" class=\"dataframe\">\n",
              "  <thead>\n",
              "    <tr style=\"text-align: right;\">\n",
              "      <th></th>\n",
              "      <th>imdb_title_id</th>\n",
              "      <th>weighted_average_vote</th>\n",
              "      <th>total_votes</th>\n",
              "      <th>mean_vote</th>\n",
              "      <th>median_vote</th>\n",
              "      <th>votes_10</th>\n",
              "      <th>votes_9</th>\n",
              "      <th>votes_8</th>\n",
              "      <th>votes_7</th>\n",
              "      <th>votes_6</th>\n",
              "      <th>votes_5</th>\n",
              "      <th>votes_4</th>\n",
              "      <th>votes_3</th>\n",
              "      <th>votes_2</th>\n",
              "      <th>votes_1</th>\n",
              "      <th>allgenders_0age_avg_vote</th>\n",
              "      <th>allgenders_0age_votes</th>\n",
              "      <th>allgenders_18age_avg_vote</th>\n",
              "      <th>allgenders_18age_votes</th>\n",
              "      <th>allgenders_30age_avg_vote</th>\n",
              "      <th>allgenders_30age_votes</th>\n",
              "      <th>allgenders_45age_avg_vote</th>\n",
              "      <th>allgenders_45age_votes</th>\n",
              "      <th>males_allages_avg_vote</th>\n",
              "      <th>males_allages_votes</th>\n",
              "      <th>males_0age_avg_vote</th>\n",
              "      <th>males_0age_votes</th>\n",
              "      <th>males_18age_avg_vote</th>\n",
              "      <th>males_18age_votes</th>\n",
              "      <th>males_30age_avg_vote</th>\n",
              "      <th>males_30age_votes</th>\n",
              "      <th>males_45age_avg_vote</th>\n",
              "      <th>males_45age_votes</th>\n",
              "      <th>females_allages_avg_vote</th>\n",
              "      <th>females_allages_votes</th>\n",
              "      <th>females_0age_avg_vote</th>\n",
              "      <th>females_0age_votes</th>\n",
              "      <th>females_18age_avg_vote</th>\n",
              "      <th>females_18age_votes</th>\n",
              "      <th>females_30age_avg_vote</th>\n",
              "      <th>females_30age_votes</th>\n",
              "      <th>females_45age_avg_vote</th>\n",
              "      <th>females_45age_votes</th>\n",
              "      <th>top1000_voters_rating</th>\n",
              "      <th>top1000_voters_votes</th>\n",
              "      <th>us_voters_rating</th>\n",
              "      <th>us_voters_votes</th>\n",
              "      <th>non_us_voters_rating</th>\n",
              "      <th>non_us_voters_votes</th>\n",
              "    </tr>\n",
              "  </thead>\n",
              "  <tbody>\n",
              "    <tr>\n",
              "      <th>0</th>\n",
              "      <td>tt0000009</td>\n",
              "      <td>5.9</td>\n",
              "      <td>154</td>\n",
              "      <td>5.9</td>\n",
              "      <td>6.0</td>\n",
              "      <td>12</td>\n",
              "      <td>4</td>\n",
              "      <td>10</td>\n",
              "      <td>43</td>\n",
              "      <td>28</td>\n",
              "      <td>28</td>\n",
              "      <td>9</td>\n",
              "      <td>1</td>\n",
              "      <td>5</td>\n",
              "      <td>14</td>\n",
              "      <td>7.2</td>\n",
              "      <td>4.0</td>\n",
              "      <td>6.0</td>\n",
              "      <td>38.0</td>\n",
              "      <td>5.7</td>\n",
              "      <td>50.0</td>\n",
              "      <td>6.6</td>\n",
              "      <td>35.0</td>\n",
              "      <td>6.2</td>\n",
              "      <td>97.0</td>\n",
              "      <td>7.0</td>\n",
              "      <td>1.0</td>\n",
              "      <td>5.9</td>\n",
              "      <td>24.0</td>\n",
              "      <td>5.6</td>\n",
              "      <td>36.0</td>\n",
              "      <td>6.7</td>\n",
              "      <td>31.0</td>\n",
              "      <td>6.0</td>\n",
              "      <td>35.0</td>\n",
              "      <td>7.3</td>\n",
              "      <td>3.0</td>\n",
              "      <td>5.9</td>\n",
              "      <td>14.0</td>\n",
              "      <td>5.7</td>\n",
              "      <td>13.0</td>\n",
              "      <td>4.5</td>\n",
              "      <td>4.0</td>\n",
              "      <td>5.7</td>\n",
              "      <td>34.0</td>\n",
              "      <td>6.4</td>\n",
              "      <td>51.0</td>\n",
              "      <td>6.0</td>\n",
              "      <td>70.0</td>\n",
              "    </tr>\n",
              "    <tr>\n",
              "      <th>1</th>\n",
              "      <td>tt0000574</td>\n",
              "      <td>6.1</td>\n",
              "      <td>589</td>\n",
              "      <td>6.3</td>\n",
              "      <td>6.0</td>\n",
              "      <td>57</td>\n",
              "      <td>18</td>\n",
              "      <td>58</td>\n",
              "      <td>137</td>\n",
              "      <td>139</td>\n",
              "      <td>103</td>\n",
              "      <td>28</td>\n",
              "      <td>20</td>\n",
              "      <td>13</td>\n",
              "      <td>16</td>\n",
              "      <td>6.0</td>\n",
              "      <td>1.0</td>\n",
              "      <td>6.1</td>\n",
              "      <td>114.0</td>\n",
              "      <td>6.0</td>\n",
              "      <td>239.0</td>\n",
              "      <td>6.3</td>\n",
              "      <td>115.0</td>\n",
              "      <td>6.1</td>\n",
              "      <td>425.0</td>\n",
              "      <td>6.0</td>\n",
              "      <td>1.0</td>\n",
              "      <td>6.2</td>\n",
              "      <td>102.0</td>\n",
              "      <td>6.0</td>\n",
              "      <td>210.0</td>\n",
              "      <td>6.2</td>\n",
              "      <td>100.0</td>\n",
              "      <td>6.2</td>\n",
              "      <td>50.0</td>\n",
              "      <td>NaN</td>\n",
              "      <td>NaN</td>\n",
              "      <td>5.9</td>\n",
              "      <td>12.0</td>\n",
              "      <td>6.2</td>\n",
              "      <td>23.0</td>\n",
              "      <td>6.6</td>\n",
              "      <td>14.0</td>\n",
              "      <td>6.4</td>\n",
              "      <td>66.0</td>\n",
              "      <td>6.0</td>\n",
              "      <td>96.0</td>\n",
              "      <td>6.2</td>\n",
              "      <td>331.0</td>\n",
              "    </tr>\n",
              "    <tr>\n",
              "      <th>2</th>\n",
              "      <td>tt0001892</td>\n",
              "      <td>5.8</td>\n",
              "      <td>188</td>\n",
              "      <td>6.0</td>\n",
              "      <td>6.0</td>\n",
              "      <td>6</td>\n",
              "      <td>6</td>\n",
              "      <td>17</td>\n",
              "      <td>44</td>\n",
              "      <td>52</td>\n",
              "      <td>32</td>\n",
              "      <td>16</td>\n",
              "      <td>5</td>\n",
              "      <td>6</td>\n",
              "      <td>4</td>\n",
              "      <td>NaN</td>\n",
              "      <td>NaN</td>\n",
              "      <td>5.5</td>\n",
              "      <td>25.0</td>\n",
              "      <td>5.8</td>\n",
              "      <td>72.0</td>\n",
              "      <td>6.2</td>\n",
              "      <td>62.0</td>\n",
              "      <td>5.9</td>\n",
              "      <td>146.0</td>\n",
              "      <td>NaN</td>\n",
              "      <td>NaN</td>\n",
              "      <td>5.5</td>\n",
              "      <td>21.0</td>\n",
              "      <td>5.9</td>\n",
              "      <td>67.0</td>\n",
              "      <td>6.2</td>\n",
              "      <td>55.0</td>\n",
              "      <td>5.7</td>\n",
              "      <td>15.0</td>\n",
              "      <td>NaN</td>\n",
              "      <td>NaN</td>\n",
              "      <td>5.8</td>\n",
              "      <td>4.0</td>\n",
              "      <td>5.8</td>\n",
              "      <td>4.0</td>\n",
              "      <td>6.8</td>\n",
              "      <td>7.0</td>\n",
              "      <td>5.4</td>\n",
              "      <td>32.0</td>\n",
              "      <td>6.2</td>\n",
              "      <td>31.0</td>\n",
              "      <td>5.9</td>\n",
              "      <td>123.0</td>\n",
              "    </tr>\n",
              "    <tr>\n",
              "      <th>3</th>\n",
              "      <td>tt0002101</td>\n",
              "      <td>5.2</td>\n",
              "      <td>446</td>\n",
              "      <td>5.3</td>\n",
              "      <td>5.0</td>\n",
              "      <td>15</td>\n",
              "      <td>8</td>\n",
              "      <td>16</td>\n",
              "      <td>62</td>\n",
              "      <td>98</td>\n",
              "      <td>117</td>\n",
              "      <td>63</td>\n",
              "      <td>26</td>\n",
              "      <td>25</td>\n",
              "      <td>16</td>\n",
              "      <td>NaN</td>\n",
              "      <td>NaN</td>\n",
              "      <td>5.3</td>\n",
              "      <td>23.0</td>\n",
              "      <td>5.0</td>\n",
              "      <td>111.0</td>\n",
              "      <td>5.3</td>\n",
              "      <td>193.0</td>\n",
              "      <td>5.1</td>\n",
              "      <td>299.0</td>\n",
              "      <td>NaN</td>\n",
              "      <td>NaN</td>\n",
              "      <td>5.2</td>\n",
              "      <td>20.0</td>\n",
              "      <td>4.9</td>\n",
              "      <td>96.0</td>\n",
              "      <td>5.2</td>\n",
              "      <td>171.0</td>\n",
              "      <td>5.9</td>\n",
              "      <td>39.0</td>\n",
              "      <td>NaN</td>\n",
              "      <td>NaN</td>\n",
              "      <td>5.7</td>\n",
              "      <td>3.0</td>\n",
              "      <td>5.5</td>\n",
              "      <td>14.0</td>\n",
              "      <td>6.1</td>\n",
              "      <td>21.0</td>\n",
              "      <td>4.9</td>\n",
              "      <td>57.0</td>\n",
              "      <td>5.5</td>\n",
              "      <td>207.0</td>\n",
              "      <td>4.7</td>\n",
              "      <td>105.0</td>\n",
              "    </tr>\n",
              "    <tr>\n",
              "      <th>4</th>\n",
              "      <td>tt0002130</td>\n",
              "      <td>7.0</td>\n",
              "      <td>2237</td>\n",
              "      <td>6.9</td>\n",
              "      <td>7.0</td>\n",
              "      <td>210</td>\n",
              "      <td>225</td>\n",
              "      <td>436</td>\n",
              "      <td>641</td>\n",
              "      <td>344</td>\n",
              "      <td>169</td>\n",
              "      <td>66</td>\n",
              "      <td>39</td>\n",
              "      <td>20</td>\n",
              "      <td>87</td>\n",
              "      <td>7.5</td>\n",
              "      <td>4.0</td>\n",
              "      <td>7.0</td>\n",
              "      <td>402.0</td>\n",
              "      <td>7.0</td>\n",
              "      <td>895.0</td>\n",
              "      <td>7.1</td>\n",
              "      <td>482.0</td>\n",
              "      <td>7.0</td>\n",
              "      <td>1607.0</td>\n",
              "      <td>8.0</td>\n",
              "      <td>2.0</td>\n",
              "      <td>7.0</td>\n",
              "      <td>346.0</td>\n",
              "      <td>7.0</td>\n",
              "      <td>804.0</td>\n",
              "      <td>7.0</td>\n",
              "      <td>396.0</td>\n",
              "      <td>7.2</td>\n",
              "      <td>215.0</td>\n",
              "      <td>7.0</td>\n",
              "      <td>2.0</td>\n",
              "      <td>7.0</td>\n",
              "      <td>52.0</td>\n",
              "      <td>7.3</td>\n",
              "      <td>82.0</td>\n",
              "      <td>7.4</td>\n",
              "      <td>77.0</td>\n",
              "      <td>6.9</td>\n",
              "      <td>139.0</td>\n",
              "      <td>7.0</td>\n",
              "      <td>488.0</td>\n",
              "      <td>7.0</td>\n",
              "      <td>1166.0</td>\n",
              "    </tr>\n",
              "    <tr>\n",
              "      <th>...</th>\n",
              "      <td>...</td>\n",
              "      <td>...</td>\n",
              "      <td>...</td>\n",
              "      <td>...</td>\n",
              "      <td>...</td>\n",
              "      <td>...</td>\n",
              "      <td>...</td>\n",
              "      <td>...</td>\n",
              "      <td>...</td>\n",
              "      <td>...</td>\n",
              "      <td>...</td>\n",
              "      <td>...</td>\n",
              "      <td>...</td>\n",
              "      <td>...</td>\n",
              "      <td>...</td>\n",
              "      <td>...</td>\n",
              "      <td>...</td>\n",
              "      <td>...</td>\n",
              "      <td>...</td>\n",
              "      <td>...</td>\n",
              "      <td>...</td>\n",
              "      <td>...</td>\n",
              "      <td>...</td>\n",
              "      <td>...</td>\n",
              "      <td>...</td>\n",
              "      <td>...</td>\n",
              "      <td>...</td>\n",
              "      <td>...</td>\n",
              "      <td>...</td>\n",
              "      <td>...</td>\n",
              "      <td>...</td>\n",
              "      <td>...</td>\n",
              "      <td>...</td>\n",
              "      <td>...</td>\n",
              "      <td>...</td>\n",
              "      <td>...</td>\n",
              "      <td>...</td>\n",
              "      <td>...</td>\n",
              "      <td>...</td>\n",
              "      <td>...</td>\n",
              "      <td>...</td>\n",
              "      <td>...</td>\n",
              "      <td>...</td>\n",
              "      <td>...</td>\n",
              "      <td>...</td>\n",
              "      <td>...</td>\n",
              "      <td>...</td>\n",
              "      <td>...</td>\n",
              "      <td>...</td>\n",
              "    </tr>\n",
              "    <tr>\n",
              "      <th>85850</th>\n",
              "      <td>tt9908390</td>\n",
              "      <td>5.3</td>\n",
              "      <td>398</td>\n",
              "      <td>5.5</td>\n",
              "      <td>6.0</td>\n",
              "      <td>13</td>\n",
              "      <td>9</td>\n",
              "      <td>26</td>\n",
              "      <td>65</td>\n",
              "      <td>104</td>\n",
              "      <td>86</td>\n",
              "      <td>32</td>\n",
              "      <td>28</td>\n",
              "      <td>15</td>\n",
              "      <td>20</td>\n",
              "      <td>6.0</td>\n",
              "      <td>1.0</td>\n",
              "      <td>5.8</td>\n",
              "      <td>42.0</td>\n",
              "      <td>5.3</td>\n",
              "      <td>137.0</td>\n",
              "      <td>5.2</td>\n",
              "      <td>101.0</td>\n",
              "      <td>5.3</td>\n",
              "      <td>267.0</td>\n",
              "      <td>6.0</td>\n",
              "      <td>1.0</td>\n",
              "      <td>5.6</td>\n",
              "      <td>28.0</td>\n",
              "      <td>5.3</td>\n",
              "      <td>121.0</td>\n",
              "      <td>5.2</td>\n",
              "      <td>97.0</td>\n",
              "      <td>6.0</td>\n",
              "      <td>26.0</td>\n",
              "      <td>NaN</td>\n",
              "      <td>NaN</td>\n",
              "      <td>6.2</td>\n",
              "      <td>11.0</td>\n",
              "      <td>5.7</td>\n",
              "      <td>11.0</td>\n",
              "      <td>5.0</td>\n",
              "      <td>2.0</td>\n",
              "      <td>5.5</td>\n",
              "      <td>12.0</td>\n",
              "      <td>6.3</td>\n",
              "      <td>22.0</td>\n",
              "      <td>5.3</td>\n",
              "      <td>214.0</td>\n",
              "    </tr>\n",
              "    <tr>\n",
              "      <th>85851</th>\n",
              "      <td>tt9911196</td>\n",
              "      <td>7.7</td>\n",
              "      <td>724</td>\n",
              "      <td>7.9</td>\n",
              "      <td>8.0</td>\n",
              "      <td>65</td>\n",
              "      <td>139</td>\n",
              "      <td>288</td>\n",
              "      <td>170</td>\n",
              "      <td>42</td>\n",
              "      <td>7</td>\n",
              "      <td>5</td>\n",
              "      <td>2</td>\n",
              "      <td>2</td>\n",
              "      <td>4</td>\n",
              "      <td>NaN</td>\n",
              "      <td>NaN</td>\n",
              "      <td>7.5</td>\n",
              "      <td>105.0</td>\n",
              "      <td>7.7</td>\n",
              "      <td>207.0</td>\n",
              "      <td>7.9</td>\n",
              "      <td>194.0</td>\n",
              "      <td>7.8</td>\n",
              "      <td>412.0</td>\n",
              "      <td>NaN</td>\n",
              "      <td>NaN</td>\n",
              "      <td>7.6</td>\n",
              "      <td>70.0</td>\n",
              "      <td>7.6</td>\n",
              "      <td>150.0</td>\n",
              "      <td>7.9</td>\n",
              "      <td>161.0</td>\n",
              "      <td>7.6</td>\n",
              "      <td>109.0</td>\n",
              "      <td>NaN</td>\n",
              "      <td>NaN</td>\n",
              "      <td>7.4</td>\n",
              "      <td>29.0</td>\n",
              "      <td>8.0</td>\n",
              "      <td>47.0</td>\n",
              "      <td>7.3</td>\n",
              "      <td>30.0</td>\n",
              "      <td>7.0</td>\n",
              "      <td>6.0</td>\n",
              "      <td>6.8</td>\n",
              "      <td>13.0</td>\n",
              "      <td>7.7</td>\n",
              "      <td>388.0</td>\n",
              "    </tr>\n",
              "    <tr>\n",
              "      <th>85852</th>\n",
              "      <td>tt9911774</td>\n",
              "      <td>7.9</td>\n",
              "      <td>265</td>\n",
              "      <td>7.8</td>\n",
              "      <td>8.0</td>\n",
              "      <td>63</td>\n",
              "      <td>29</td>\n",
              "      <td>61</td>\n",
              "      <td>61</td>\n",
              "      <td>31</td>\n",
              "      <td>5</td>\n",
              "      <td>5</td>\n",
              "      <td>6</td>\n",
              "      <td>1</td>\n",
              "      <td>3</td>\n",
              "      <td>NaN</td>\n",
              "      <td>NaN</td>\n",
              "      <td>1.0</td>\n",
              "      <td>1.0</td>\n",
              "      <td>10.0</td>\n",
              "      <td>1.0</td>\n",
              "      <td>3.0</td>\n",
              "      <td>1.0</td>\n",
              "      <td>6.0</td>\n",
              "      <td>4.0</td>\n",
              "      <td>NaN</td>\n",
              "      <td>NaN</td>\n",
              "      <td>1.0</td>\n",
              "      <td>1.0</td>\n",
              "      <td>10.0</td>\n",
              "      <td>1.0</td>\n",
              "      <td>3.0</td>\n",
              "      <td>1.0</td>\n",
              "      <td>NaN</td>\n",
              "      <td>NaN</td>\n",
              "      <td>NaN</td>\n",
              "      <td>NaN</td>\n",
              "      <td>NaN</td>\n",
              "      <td>NaN</td>\n",
              "      <td>NaN</td>\n",
              "      <td>NaN</td>\n",
              "      <td>NaN</td>\n",
              "      <td>NaN</td>\n",
              "      <td>1.0</td>\n",
              "      <td>1.0</td>\n",
              "      <td>NaN</td>\n",
              "      <td>NaN</td>\n",
              "      <td>2.0</td>\n",
              "      <td>2.0</td>\n",
              "    </tr>\n",
              "    <tr>\n",
              "      <th>85853</th>\n",
              "      <td>tt9914286</td>\n",
              "      <td>6.4</td>\n",
              "      <td>194</td>\n",
              "      <td>9.4</td>\n",
              "      <td>10.0</td>\n",
              "      <td>176</td>\n",
              "      <td>0</td>\n",
              "      <td>2</td>\n",
              "      <td>2</td>\n",
              "      <td>1</td>\n",
              "      <td>0</td>\n",
              "      <td>1</td>\n",
              "      <td>1</td>\n",
              "      <td>0</td>\n",
              "      <td>11</td>\n",
              "      <td>NaN</td>\n",
              "      <td>NaN</td>\n",
              "      <td>6.5</td>\n",
              "      <td>2.0</td>\n",
              "      <td>1.8</td>\n",
              "      <td>5.0</td>\n",
              "      <td>3.0</td>\n",
              "      <td>3.0</td>\n",
              "      <td>3.1</td>\n",
              "      <td>10.0</td>\n",
              "      <td>NaN</td>\n",
              "      <td>NaN</td>\n",
              "      <td>6.5</td>\n",
              "      <td>2.0</td>\n",
              "      <td>1.8</td>\n",
              "      <td>5.0</td>\n",
              "      <td>1.0</td>\n",
              "      <td>2.0</td>\n",
              "      <td>4.0</td>\n",
              "      <td>2.0</td>\n",
              "      <td>NaN</td>\n",
              "      <td>NaN</td>\n",
              "      <td>NaN</td>\n",
              "      <td>NaN</td>\n",
              "      <td>NaN</td>\n",
              "      <td>NaN</td>\n",
              "      <td>7.0</td>\n",
              "      <td>1.0</td>\n",
              "      <td>4.0</td>\n",
              "      <td>3.0</td>\n",
              "      <td>1.7</td>\n",
              "      <td>5.0</td>\n",
              "      <td>5.8</td>\n",
              "      <td>5.0</td>\n",
              "    </tr>\n",
              "    <tr>\n",
              "      <th>85854</th>\n",
              "      <td>tt9914942</td>\n",
              "      <td>6.7</td>\n",
              "      <td>102</td>\n",
              "      <td>6.8</td>\n",
              "      <td>7.0</td>\n",
              "      <td>4</td>\n",
              "      <td>4</td>\n",
              "      <td>21</td>\n",
              "      <td>35</td>\n",
              "      <td>27</td>\n",
              "      <td>2</td>\n",
              "      <td>4</td>\n",
              "      <td>3</td>\n",
              "      <td>1</td>\n",
              "      <td>1</td>\n",
              "      <td>NaN</td>\n",
              "      <td>NaN</td>\n",
              "      <td>6.8</td>\n",
              "      <td>18.0</td>\n",
              "      <td>6.5</td>\n",
              "      <td>35.0</td>\n",
              "      <td>6.6</td>\n",
              "      <td>26.0</td>\n",
              "      <td>6.6</td>\n",
              "      <td>68.0</td>\n",
              "      <td>NaN</td>\n",
              "      <td>NaN</td>\n",
              "      <td>6.8</td>\n",
              "      <td>12.0</td>\n",
              "      <td>6.4</td>\n",
              "      <td>31.0</td>\n",
              "      <td>6.5</td>\n",
              "      <td>21.0</td>\n",
              "      <td>6.9</td>\n",
              "      <td>15.0</td>\n",
              "      <td>NaN</td>\n",
              "      <td>NaN</td>\n",
              "      <td>6.7</td>\n",
              "      <td>6.0</td>\n",
              "      <td>6.8</td>\n",
              "      <td>4.0</td>\n",
              "      <td>7.5</td>\n",
              "      <td>4.0</td>\n",
              "      <td>7.0</td>\n",
              "      <td>4.0</td>\n",
              "      <td>6.7</td>\n",
              "      <td>13.0</td>\n",
              "      <td>6.7</td>\n",
              "      <td>60.0</td>\n",
              "    </tr>\n",
              "  </tbody>\n",
              "</table>\n",
              "<p>85855 rows × 49 columns</p>\n",
              "</div>"
            ],
            "text/plain": [
              "      imdb_title_id  ...  non_us_voters_votes\n",
              "0         tt0000009  ...                 70.0\n",
              "1         tt0000574  ...                331.0\n",
              "2         tt0001892  ...                123.0\n",
              "3         tt0002101  ...                105.0\n",
              "4         tt0002130  ...               1166.0\n",
              "...             ...  ...                  ...\n",
              "85850     tt9908390  ...                214.0\n",
              "85851     tt9911196  ...                388.0\n",
              "85852     tt9911774  ...                  2.0\n",
              "85853     tt9914286  ...                  5.0\n",
              "85854     tt9914942  ...                 60.0\n",
              "\n",
              "[85855 rows x 49 columns]"
            ]
          },
          "metadata": {
            "tags": []
          },
          "execution_count": 13
        }
      ]
    },
    {
      "cell_type": "code",
      "metadata": {
        "id": "__X74ZTPiTFE",
        "outputId": "9d05e7a1-8aa6-450a-dfc3-bb5dae7c7250",
        "colab": {
          "base_uri": "https://localhost:8080/",
          "height": 391
        }
      },
      "source": [
        "title_principles"
      ],
      "execution_count": null,
      "outputs": [
        {
          "output_type": "execute_result",
          "data": {
            "text/html": [
              "<div>\n",
              "<style scoped>\n",
              "    .dataframe tbody tr th:only-of-type {\n",
              "        vertical-align: middle;\n",
              "    }\n",
              "\n",
              "    .dataframe tbody tr th {\n",
              "        vertical-align: top;\n",
              "    }\n",
              "\n",
              "    .dataframe thead th {\n",
              "        text-align: right;\n",
              "    }\n",
              "</style>\n",
              "<table border=\"1\" class=\"dataframe\">\n",
              "  <thead>\n",
              "    <tr style=\"text-align: right;\">\n",
              "      <th></th>\n",
              "      <th>imdb_title_id</th>\n",
              "      <th>ordering</th>\n",
              "      <th>imdb_name_id</th>\n",
              "      <th>category</th>\n",
              "      <th>job</th>\n",
              "      <th>characters</th>\n",
              "    </tr>\n",
              "  </thead>\n",
              "  <tbody>\n",
              "    <tr>\n",
              "      <th>0</th>\n",
              "      <td>tt0000009</td>\n",
              "      <td>1</td>\n",
              "      <td>nm0063086</td>\n",
              "      <td>actress</td>\n",
              "      <td>NaN</td>\n",
              "      <td>[\"Miss Geraldine Holbrook (Miss Jerry)\"]</td>\n",
              "    </tr>\n",
              "    <tr>\n",
              "      <th>1</th>\n",
              "      <td>tt0000009</td>\n",
              "      <td>2</td>\n",
              "      <td>nm0183823</td>\n",
              "      <td>actor</td>\n",
              "      <td>NaN</td>\n",
              "      <td>[\"Mr. Hamilton\"]</td>\n",
              "    </tr>\n",
              "    <tr>\n",
              "      <th>2</th>\n",
              "      <td>tt0000009</td>\n",
              "      <td>3</td>\n",
              "      <td>nm1309758</td>\n",
              "      <td>actor</td>\n",
              "      <td>NaN</td>\n",
              "      <td>[\"Chauncey Depew - the Director of the New Yor...</td>\n",
              "    </tr>\n",
              "    <tr>\n",
              "      <th>3</th>\n",
              "      <td>tt0000009</td>\n",
              "      <td>4</td>\n",
              "      <td>nm0085156</td>\n",
              "      <td>director</td>\n",
              "      <td>NaN</td>\n",
              "      <td>NaN</td>\n",
              "    </tr>\n",
              "    <tr>\n",
              "      <th>4</th>\n",
              "      <td>tt0000574</td>\n",
              "      <td>1</td>\n",
              "      <td>nm0846887</td>\n",
              "      <td>actress</td>\n",
              "      <td>NaN</td>\n",
              "      <td>[\"Kate Kelly\"]</td>\n",
              "    </tr>\n",
              "    <tr>\n",
              "      <th>...</th>\n",
              "      <td>...</td>\n",
              "      <td>...</td>\n",
              "      <td>...</td>\n",
              "      <td>...</td>\n",
              "      <td>...</td>\n",
              "      <td>...</td>\n",
              "    </tr>\n",
              "    <tr>\n",
              "      <th>835508</th>\n",
              "      <td>tt9914942</td>\n",
              "      <td>6</td>\n",
              "      <td>nm3678448</td>\n",
              "      <td>writer</td>\n",
              "      <td>NaN</td>\n",
              "      <td>NaN</td>\n",
              "    </tr>\n",
              "    <tr>\n",
              "      <th>835509</th>\n",
              "      <td>tt9914942</td>\n",
              "      <td>7</td>\n",
              "      <td>nm9361716</td>\n",
              "      <td>writer</td>\n",
              "      <td>novel</td>\n",
              "      <td>NaN</td>\n",
              "    </tr>\n",
              "    <tr>\n",
              "      <th>835510</th>\n",
              "      <td>tt9914942</td>\n",
              "      <td>8</td>\n",
              "      <td>nm2262072</td>\n",
              "      <td>composer</td>\n",
              "      <td>NaN</td>\n",
              "      <td>NaN</td>\n",
              "    </tr>\n",
              "    <tr>\n",
              "      <th>835511</th>\n",
              "      <td>tt9914942</td>\n",
              "      <td>9</td>\n",
              "      <td>nm1966322</td>\n",
              "      <td>cinematographer</td>\n",
              "      <td>NaN</td>\n",
              "      <td>NaN</td>\n",
              "    </tr>\n",
              "    <tr>\n",
              "      <th>835512</th>\n",
              "      <td>tt9914942</td>\n",
              "      <td>10</td>\n",
              "      <td>nm0739828</td>\n",
              "      <td>editor</td>\n",
              "      <td>NaN</td>\n",
              "      <td>NaN</td>\n",
              "    </tr>\n",
              "  </tbody>\n",
              "</table>\n",
              "<p>835513 rows × 6 columns</p>\n",
              "</div>"
            ],
            "text/plain": [
              "       imdb_title_id  ...                                         characters\n",
              "0          tt0000009  ...           [\"Miss Geraldine Holbrook (Miss Jerry)\"]\n",
              "1          tt0000009  ...                                   [\"Mr. Hamilton\"]\n",
              "2          tt0000009  ...  [\"Chauncey Depew - the Director of the New Yor...\n",
              "3          tt0000009  ...                                                NaN\n",
              "4          tt0000574  ...                                     [\"Kate Kelly\"]\n",
              "...              ...  ...                                                ...\n",
              "835508     tt9914942  ...                                                NaN\n",
              "835509     tt9914942  ...                                                NaN\n",
              "835510     tt9914942  ...                                                NaN\n",
              "835511     tt9914942  ...                                                NaN\n",
              "835512     tt9914942  ...                                                NaN\n",
              "\n",
              "[835513 rows x 6 columns]"
            ]
          },
          "metadata": {
            "tags": []
          },
          "execution_count": 12
        }
      ]
    },
    {
      "cell_type": "code",
      "metadata": {
        "id": "BVk2f8QazYVh",
        "outputId": "0f9cb7e4-b7a7-44cd-ce94-ee6f3e0b1596",
        "colab": {
          "base_uri": "https://localhost:8080/",
          "height": 505
        }
      },
      "source": [
        "print(movies.info())"
      ],
      "execution_count": null,
      "outputs": [
        {
          "output_type": "stream",
          "text": [
            "<class 'pandas.core.frame.DataFrame'>\n",
            "RangeIndex: 85855 entries, 0 to 85854\n",
            "Data columns (total 22 columns):\n",
            " #   Column                 Non-Null Count  Dtype  \n",
            "---  ------                 --------------  -----  \n",
            " 0   imdb_title_id          85855 non-null  object \n",
            " 1   title                  85855 non-null  object \n",
            " 2   original_title         85855 non-null  object \n",
            " 3   year                   85855 non-null  object \n",
            " 4   date_published         85855 non-null  object \n",
            " 5   genre                  85855 non-null  object \n",
            " 6   duration               85855 non-null  int64  \n",
            " 7   country                85791 non-null  object \n",
            " 8   language               85022 non-null  object \n",
            " 9   director               85768 non-null  object \n",
            " 10  writer                 84283 non-null  object \n",
            " 11  production_company     81400 non-null  object \n",
            " 12  actors                 85786 non-null  object \n",
            " 13  description            83740 non-null  object \n",
            " 14  avg_vote               85855 non-null  float64\n",
            " 15  votes                  85855 non-null  int64  \n",
            " 16  budget                 23710 non-null  object \n",
            " 17  usa_gross_income       15326 non-null  object \n",
            " 18  worlwide_gross_income  31016 non-null  object \n",
            " 19  metascore              13305 non-null  float64\n",
            " 20  reviews_from_users     78258 non-null  float64\n",
            " 21  reviews_from_critics   74058 non-null  float64\n",
            "dtypes: float64(4), int64(2), object(16)\n",
            "memory usage: 14.4+ MB\n",
            "None\n"
          ],
          "name": "stdout"
        }
      ]
    },
    {
      "cell_type": "code",
      "metadata": {
        "id": "Fx53V9ANzYEW",
        "outputId": "2a1ce87d-3db2-4632-b935-3d2a071665e6",
        "colab": {
          "base_uri": "https://localhost:8080/",
          "height": 423
        }
      },
      "source": [
        "print(names.info())"
      ],
      "execution_count": null,
      "outputs": [
        {
          "output_type": "stream",
          "text": [
            "<class 'pandas.core.frame.DataFrame'>\n",
            "RangeIndex: 297705 entries, 0 to 297704\n",
            "Data columns (total 17 columns):\n",
            " #   Column                 Non-Null Count   Dtype  \n",
            "---  ------                 --------------   -----  \n",
            " 0   imdb_name_id           297705 non-null  object \n",
            " 1   name                   297705 non-null  object \n",
            " 2   birth_name             297705 non-null  object \n",
            " 3   height                 44681 non-null   float64\n",
            " 4   bio                    204698 non-null  object \n",
            " 5   birth_details          110612 non-null  object \n",
            " 6   date_of_birth          110612 non-null  object \n",
            " 7   place_of_birth         103992 non-null  object \n",
            " 8   death_details          39933 non-null   object \n",
            " 9   date_of_death          39933 non-null   object \n",
            " 10  place_of_death         37038 non-null   object \n",
            " 11  reason_of_death        22694 non-null   object \n",
            " 12  spouses_string         45352 non-null   object \n",
            " 13  spouses                297705 non-null  int64  \n",
            " 14  divorces               297705 non-null  int64  \n",
            " 15  spouses_with_children  297705 non-null  int64  \n",
            " 16  children               297705 non-null  int64  \n",
            "dtypes: float64(1), int64(4), object(12)\n",
            "memory usage: 38.6+ MB\n",
            "None\n"
          ],
          "name": "stdout"
        }
      ]
    },
    {
      "cell_type": "code",
      "metadata": {
        "id": "rDMp-TPw25vU",
        "outputId": "81f02dbf-d9fe-47f6-81f2-b2d206ee05fa",
        "colab": {
          "base_uri": "https://localhost:8080/",
          "height": 1000
        }
      },
      "source": [
        "print(ratings.info())"
      ],
      "execution_count": null,
      "outputs": [
        {
          "output_type": "stream",
          "text": [
            "<class 'pandas.core.frame.DataFrame'>\n",
            "RangeIndex: 85855 entries, 0 to 85854\n",
            "Data columns (total 49 columns):\n",
            " #   Column                     Non-Null Count  Dtype  \n",
            "---  ------                     --------------  -----  \n",
            " 0   imdb_title_id              85855 non-null  object \n",
            " 1   weighted_average_vote      85855 non-null  float64\n",
            " 2   total_votes                85855 non-null  int64  \n",
            " 3   mean_vote                  85855 non-null  float64\n",
            " 4   median_vote                85855 non-null  float64\n",
            " 5   votes_10                   85855 non-null  int64  \n",
            " 6   votes_9                    85855 non-null  int64  \n",
            " 7   votes_8                    85855 non-null  int64  \n",
            " 8   votes_7                    85855 non-null  int64  \n",
            " 9   votes_6                    85855 non-null  int64  \n",
            " 10  votes_5                    85855 non-null  int64  \n",
            " 11  votes_4                    85855 non-null  int64  \n",
            " 12  votes_3                    85855 non-null  int64  \n",
            " 13  votes_2                    85855 non-null  int64  \n",
            " 14  votes_1                    85855 non-null  int64  \n",
            " 15  allgenders_0age_avg_vote   33359 non-null  float64\n",
            " 16  allgenders_0age_votes      33359 non-null  float64\n",
            " 17  allgenders_18age_avg_vote  85149 non-null  float64\n",
            " 18  allgenders_18age_votes     85149 non-null  float64\n",
            " 19  allgenders_30age_avg_vote  85845 non-null  float64\n",
            " 20  allgenders_30age_votes     85845 non-null  float64\n",
            " 21  allgenders_45age_avg_vote  85775 non-null  float64\n",
            " 22  allgenders_45age_votes     85775 non-null  float64\n",
            " 23  males_allages_avg_vote     85854 non-null  float64\n",
            " 24  males_allages_votes        85854 non-null  float64\n",
            " 25  males_0age_avg_vote        27411 non-null  float64\n",
            " 26  males_0age_votes           27411 non-null  float64\n",
            " 27  males_18age_avg_vote       84390 non-null  float64\n",
            " 28  males_18age_votes          84390 non-null  float64\n",
            " 29  males_30age_avg_vote       85843 non-null  float64\n",
            " 30  males_30age_votes          85843 non-null  float64\n",
            " 31  males_45age_avg_vote       85754 non-null  float64\n",
            " 32  males_45age_votes          85754 non-null  float64\n",
            " 33  females_allages_avg_vote   85774 non-null  float64\n",
            " 34  females_allages_votes      85774 non-null  float64\n",
            " 35  females_0age_avg_vote      22117 non-null  float64\n",
            " 36  females_0age_votes         22117 non-null  float64\n",
            " 37  females_18age_avg_vote     79334 non-null  float64\n",
            " 38  females_18age_votes        79334 non-null  float64\n",
            " 39  females_30age_avg_vote     84911 non-null  float64\n",
            " 40  females_30age_votes        84911 non-null  float64\n",
            " 41  females_45age_avg_vote     83057 non-null  float64\n",
            " 42  females_45age_votes        83057 non-null  float64\n",
            " 43  top1000_voters_rating      85176 non-null  float64\n",
            " 44  top1000_voters_votes       85176 non-null  float64\n",
            " 45  us_voters_rating           85646 non-null  float64\n",
            " 46  us_voters_votes            85646 non-null  float64\n",
            " 47  non_us_voters_rating       85854 non-null  float64\n",
            " 48  non_us_voters_votes        85854 non-null  float64\n",
            "dtypes: float64(37), int64(11), object(1)\n",
            "memory usage: 32.1+ MB\n",
            "None\n"
          ],
          "name": "stdout"
        }
      ]
    },
    {
      "cell_type": "code",
      "metadata": {
        "id": "9-6M7jk125sM",
        "outputId": "c281414c-e12c-49c2-b9ee-e133cbf221f2",
        "colab": {
          "base_uri": "https://localhost:8080/",
          "height": 265
        }
      },
      "source": [
        "print(title_principles.info())"
      ],
      "execution_count": null,
      "outputs": [
        {
          "output_type": "stream",
          "text": [
            "<class 'pandas.core.frame.DataFrame'>\n",
            "RangeIndex: 835513 entries, 0 to 835512\n",
            "Data columns (total 6 columns):\n",
            " #   Column         Non-Null Count   Dtype \n",
            "---  ------         --------------   ----- \n",
            " 0   imdb_title_id  835513 non-null  object\n",
            " 1   ordering       835513 non-null  int64 \n",
            " 2   imdb_name_id   835513 non-null  object\n",
            " 3   category       835513 non-null  object\n",
            " 4   job            212731 non-null  object\n",
            " 5   characters     340836 non-null  object\n",
            "dtypes: int64(1), object(5)\n",
            "memory usage: 38.2+ MB\n",
            "None\n"
          ],
          "name": "stdout"
        }
      ]
    },
    {
      "cell_type": "markdown",
      "metadata": {
        "id": "1mvt9CBa7F5q"
      },
      "source": [
        "####droping unnecesary rows"
      ]
    },
    {
      "cell_type": "code",
      "metadata": {
        "id": "FdPQrxGABTnm"
      },
      "source": [
        "movies.drop(columns=['writer','actors','description'],inplace=True)"
      ],
      "execution_count": null,
      "outputs": []
    },
    {
      "cell_type": "code",
      "metadata": {
        "id": "RWWaEGEQ7EO0"
      },
      "source": [
        "names.drop(columns=['bio','birth_details','death_details','spouses_string','reason_of_death'],inplace=True)"
      ],
      "execution_count": null,
      "outputs": []
    },
    {
      "cell_type": "code",
      "metadata": {
        "id": "kpj-LHKjBTEE"
      },
      "source": [
        "title_principles.drop(columns='job',inplace=True)"
      ],
      "execution_count": null,
      "outputs": []
    },
    {
      "cell_type": "markdown",
      "metadata": {
        "id": "YDTFwKmZ62-m"
      },
      "source": [
        "####filling na"
      ]
    },
    {
      "cell_type": "code",
      "metadata": {
        "id": "RkfBIEPc3Uga",
        "outputId": "236c41b9-b4b1-4c73-d892-b18a5d5cc54c",
        "colab": {
          "base_uri": "https://localhost:8080/",
          "height": 372
        }
      },
      "source": [
        "movies.isna().sum()"
      ],
      "execution_count": null,
      "outputs": [
        {
          "output_type": "execute_result",
          "data": {
            "text/plain": [
              "imdb_title_id                0\n",
              "title                        0\n",
              "original_title               0\n",
              "year                         0\n",
              "date_published               0\n",
              "genre                        0\n",
              "duration                     0\n",
              "country                     64\n",
              "language                   833\n",
              "director                    87\n",
              "production_company        4455\n",
              "avg_vote                     0\n",
              "votes                        0\n",
              "budget                   62145\n",
              "usa_gross_income         70529\n",
              "worlwide_gross_income    54839\n",
              "metascore                72550\n",
              "reviews_from_users        7597\n",
              "reviews_from_critics     11797\n",
              "dtype: int64"
            ]
          },
          "metadata": {
            "tags": []
          },
          "execution_count": 39
        }
      ]
    },
    {
      "cell_type": "markdown",
      "metadata": {
        "id": "BYXojvpsZ-R1"
      },
      "source": [
        "because usa_gross_income and worlwide_gross_income had null values over half the data provided we will not be basing our success on either of these"
      ]
    },
    {
      "cell_type": "code",
      "metadata": {
        "id": "d3b6lSHDam6w"
      },
      "source": [
        "movies.drop(columns=['usa_gross_income','worlwide_gross_income','budget','metascore','language'],inplace=True)"
      ],
      "execution_count": null,
      "outputs": []
    },
    {
      "cell_type": "code",
      "metadata": {
        "id": "rwZy-ibL3ndA"
      },
      "source": [
        "movies.fillna('-',inplace=True)"
      ],
      "execution_count": null,
      "outputs": []
    },
    {
      "cell_type": "code",
      "metadata": {
        "id": "lhGYtvp94pBN",
        "outputId": "22e3e83d-3d99-4eaa-c93d-0460d28553aa",
        "colab": {
          "base_uri": "https://localhost:8080/",
          "height": 247
        }
      },
      "source": [
        "names.isna().sum()"
      ],
      "execution_count": null,
      "outputs": [
        {
          "output_type": "execute_result",
          "data": {
            "text/plain": [
              "imdb_name_id                  0\n",
              "name                          0\n",
              "birth_name                    0\n",
              "height                   253024\n",
              "date_of_birth            187093\n",
              "place_of_birth           193713\n",
              "date_of_death            257772\n",
              "place_of_death           260667\n",
              "spouses                       0\n",
              "divorces                      0\n",
              "spouses_with_children         0\n",
              "children                      0\n",
              "dtype: int64"
            ]
          },
          "metadata": {
            "tags": []
          },
          "execution_count": 42
        }
      ]
    },
    {
      "cell_type": "code",
      "metadata": {
        "id": "RdRIz2Gl4z_2"
      },
      "source": [
        "names.fillna('-',inplace=True)"
      ],
      "execution_count": null,
      "outputs": []
    },
    {
      "cell_type": "code",
      "metadata": {
        "id": "sy5n-P226WhB",
        "outputId": "71cdf135-106d-4a2f-b468-040aaadfa59a",
        "colab": {
          "base_uri": "https://localhost:8080/",
          "height": 905
        }
      },
      "source": [
        "ratings.isna().sum()"
      ],
      "execution_count": null,
      "outputs": [
        {
          "output_type": "execute_result",
          "data": {
            "text/plain": [
              "imdb_title_id                    0\n",
              "weighted_average_vote            0\n",
              "total_votes                      0\n",
              "mean_vote                        0\n",
              "median_vote                      0\n",
              "votes_10                         0\n",
              "votes_9                          0\n",
              "votes_8                          0\n",
              "votes_7                          0\n",
              "votes_6                          0\n",
              "votes_5                          0\n",
              "votes_4                          0\n",
              "votes_3                          0\n",
              "votes_2                          0\n",
              "votes_1                          0\n",
              "allgenders_0age_avg_vote     52496\n",
              "allgenders_0age_votes        52496\n",
              "allgenders_18age_avg_vote      706\n",
              "allgenders_18age_votes         706\n",
              "allgenders_30age_avg_vote       10\n",
              "allgenders_30age_votes          10\n",
              "allgenders_45age_avg_vote       80\n",
              "allgenders_45age_votes          80\n",
              "males_allages_avg_vote           1\n",
              "males_allages_votes              1\n",
              "males_0age_avg_vote          58444\n",
              "males_0age_votes             58444\n",
              "males_18age_avg_vote          1465\n",
              "males_18age_votes             1465\n",
              "males_30age_avg_vote            12\n",
              "males_30age_votes               12\n",
              "males_45age_avg_vote           101\n",
              "males_45age_votes              101\n",
              "females_allages_avg_vote        81\n",
              "females_allages_votes           81\n",
              "females_0age_avg_vote        63738\n",
              "females_0age_votes           63738\n",
              "females_18age_avg_vote        6521\n",
              "females_18age_votes           6521\n",
              "females_30age_avg_vote         944\n",
              "females_30age_votes            944\n",
              "females_45age_avg_vote        2798\n",
              "females_45age_votes           2798\n",
              "top1000_voters_rating          679\n",
              "top1000_voters_votes           679\n",
              "us_voters_rating               209\n",
              "us_voters_votes                209\n",
              "non_us_voters_rating             1\n",
              "non_us_voters_votes              1\n",
              "dtype: int64"
            ]
          },
          "metadata": {
            "tags": []
          },
          "execution_count": 44
        }
      ]
    },
    {
      "cell_type": "code",
      "metadata": {
        "id": "vojQtHWmdCYE"
      },
      "source": [
        "ratings.drop(columns=ratings.iloc[:,15:43],inplace=True)"
      ],
      "execution_count": null,
      "outputs": []
    },
    {
      "cell_type": "markdown",
      "metadata": {
        "id": "v8Qgl83Re8Da"
      },
      "source": [
        "There were so many rows null the above so we droped them"
      ]
    },
    {
      "cell_type": "code",
      "metadata": {
        "id": "TNKH1YwO6WnB"
      },
      "source": [
        "ratings.fillna(0.0,inplace=True)"
      ],
      "execution_count": null,
      "outputs": []
    },
    {
      "cell_type": "code",
      "metadata": {
        "id": "rDXD4nVa6EjB",
        "outputId": "e9b03602-3ca6-472c-8340-0b5fa792282b",
        "colab": {
          "base_uri": "https://localhost:8080/",
          "height": 123
        }
      },
      "source": [
        "title_principles.isna().sum()"
      ],
      "execution_count": null,
      "outputs": [
        {
          "output_type": "execute_result",
          "data": {
            "text/plain": [
              "imdb_title_id         0\n",
              "ordering              0\n",
              "imdb_name_id          0\n",
              "category              0\n",
              "characters       494677\n",
              "dtype: int64"
            ]
          },
          "metadata": {
            "tags": []
          },
          "execution_count": 47
        }
      ]
    },
    {
      "cell_type": "code",
      "metadata": {
        "id": "HwUazfxs6Ef3"
      },
      "source": [
        "title_principles.fillna('-',inplace=True)"
      ],
      "execution_count": null,
      "outputs": []
    },
    {
      "cell_type": "markdown",
      "metadata": {
        "id": "_38r8PNm67-b"
      },
      "source": [
        "####merging the datasets"
      ]
    },
    {
      "cell_type": "code",
      "metadata": {
        "id": "iDdw-Bvq6p9P"
      },
      "source": [
        "mr=movies.merge(title_principles,left_on='imdb_title_id',right_on='imdb_title_id').merge(ratings,left_on='imdb_title_id',right_on='imdb_title_id')\n",
        "all=mr.merge(names,left_on='imdb_name_id',right_on='imdb_name_id')"
      ],
      "execution_count": null,
      "outputs": []
    },
    {
      "cell_type": "code",
      "metadata": {
        "id": "jUI1XpxUkTQy"
      },
      "source": [
        "all.drop(columns=['votes','avg_vote'],inplace=True)"
      ],
      "execution_count": null,
      "outputs": []
    },
    {
      "cell_type": "markdown",
      "metadata": {
        "id": "BImQPad8kuTJ"
      },
      "source": [
        "Votes and avg votes were identical columns to total_votes and mean_votes"
      ]
    },
    {
      "cell_type": "code",
      "metadata": {
        "id": "R7fwIMgGCkVf",
        "outputId": "4d89ca70-dc41-42bf-8524-d9ae63617ac3",
        "colab": {
          "base_uri": "https://localhost:8080/",
          "height": 34
        }
      },
      "source": [
        "all.isna().sum().sum()"
      ],
      "execution_count": null,
      "outputs": [
        {
          "output_type": "execute_result",
          "data": {
            "text/plain": [
              "0"
            ]
          },
          "metadata": {
            "tags": []
          },
          "execution_count": 51
        }
      ]
    },
    {
      "cell_type": "markdown",
      "metadata": {
        "id": "Rz8TzsAFM_nj"
      },
      "source": [
        "####accuracy"
      ]
    },
    {
      "cell_type": "code",
      "metadata": {
        "id": "GevtLThLRzCd",
        "outputId": "6ba22fb3-f708-4d6a-aa05-b398707d5620",
        "colab": {
          "base_uri": "https://localhost:8080/",
          "height": 33
        }
      },
      "source": [
        "sm=all.votes_1+all.votes_2+all.votes_3+all.votes_4+all.votes_5+all.votes_6+all.votes_7+all.votes_8+all.votes_9+all.votes_10\n",
        "all.total_votes[~all.total_votes==sm]"
      ],
      "execution_count": null,
      "outputs": [
        {
          "output_type": "execute_result",
          "data": {
            "text/plain": [
              "Series([], Name: total_votes, dtype: int64)"
            ]
          },
          "metadata": {
            "tags": []
          },
          "execution_count": 207
        }
      ]
    },
    {
      "cell_type": "markdown",
      "metadata": {
        "id": "IHkigMgieUpQ"
      },
      "source": [
        "####consistency"
      ]
    },
    {
      "cell_type": "code",
      "metadata": {
        "id": "vG6KjVi0UVpC",
        "outputId": "73c8a3cf-119f-40be-9e7f-3a8c63f59a40",
        "colab": {
          "base_uri": "https://localhost:8080/"
        }
      },
      "source": [
        "all.duplicated().sum()"
      ],
      "execution_count": null,
      "outputs": [
        {
          "output_type": "execute_result",
          "data": {
            "text/plain": [
              "0"
            ]
          },
          "metadata": {
            "tags": []
          },
          "execution_count": 52
        }
      ]
    },
    {
      "cell_type": "markdown",
      "metadata": {
        "id": "1jzN1dkNUe17"
      },
      "source": [
        "no duplicates were found"
      ]
    },
    {
      "cell_type": "markdown",
      "metadata": {
        "id": "4Ii7Br5pECrb"
      },
      "source": [
        ""
      ]
    },
    {
      "cell_type": "markdown",
      "metadata": {
        "id": "6aWTAYnWUTSv"
      },
      "source": [
        "####uniformity"
      ]
    },
    {
      "cell_type": "code",
      "metadata": {
        "id": "E5__AXxPhYci"
      },
      "source": [
        "g1=all.genre.str.split(',',expand=True)\n",
        "all['genre1']=g1[0]\n",
        "all['genre2']=g1[1]\n",
        "all['genre3']=g1[2]"
      ],
      "execution_count": null,
      "outputs": []
    },
    {
      "cell_type": "code",
      "metadata": {
        "id": "LwW3cKGQhooa"
      },
      "source": [
        "ct=all.place_of_birth.str.split(',',expand=True)\n",
        "dt=all.place_of_death.str.split(',',expand=True)\n",
        "all['city of birth']=ct[0]\n",
        "all['city_of_death']=dt[0]"
      ],
      "execution_count": null,
      "outputs": []
    },
    {
      "cell_type": "code",
      "metadata": {
        "id": "3TiCY5fLppvz"
      },
      "source": [
        "all.drop(columns=['place_of_birth','place_of_death'],inplace=True)"
      ],
      "execution_count": null,
      "outputs": []
    },
    {
      "cell_type": "code",
      "metadata": {
        "id": "D82-9_YSkhwb"
      },
      "source": [
        "all.characters=all.characters.str.replace('[','').str.replace(']','').str.replace('\"','')"
      ],
      "execution_count": null,
      "outputs": []
    },
    {
      "cell_type": "code",
      "metadata": {
        "id": "ORJffVn0WRA2",
        "outputId": "b798097e-b42b-4119-afd4-8ed47ef70819",
        "colab": {
          "base_uri": "https://localhost:8080/",
          "height": 654
        }
      },
      "source": [
        "all.date_published=pd.to_datetime(all.date_published)"
      ],
      "execution_count": null,
      "outputs": [
        {
          "output_type": "error",
          "ename": "ParserError",
          "evalue": "ignored",
          "traceback": [
            "\u001b[0;31m---------------------------------------------------------------------------\u001b[0m",
            "\u001b[0;31mTypeError\u001b[0m                                 Traceback (most recent call last)",
            "\u001b[0;32m/usr/local/lib/python3.6/dist-packages/pandas/core/arrays/datetimes.py\u001b[0m in \u001b[0;36mobjects_to_datetime64ns\u001b[0;34m(data, dayfirst, yearfirst, utc, errors, require_iso8601, allow_object)\u001b[0m\n\u001b[1;32m   1857\u001b[0m         \u001b[0;32mtry\u001b[0m\u001b[0;34m:\u001b[0m\u001b[0;34m\u001b[0m\u001b[0;34m\u001b[0m\u001b[0m\n\u001b[0;32m-> 1858\u001b[0;31m             \u001b[0mvalues\u001b[0m\u001b[0;34m,\u001b[0m \u001b[0mtz_parsed\u001b[0m \u001b[0;34m=\u001b[0m \u001b[0mconversion\u001b[0m\u001b[0;34m.\u001b[0m\u001b[0mdatetime_to_datetime64\u001b[0m\u001b[0;34m(\u001b[0m\u001b[0mdata\u001b[0m\u001b[0;34m)\u001b[0m\u001b[0;34m\u001b[0m\u001b[0;34m\u001b[0m\u001b[0m\n\u001b[0m\u001b[1;32m   1859\u001b[0m             \u001b[0;31m# If tzaware, these values represent unix timestamps, so we\u001b[0m\u001b[0;34m\u001b[0m\u001b[0;34m\u001b[0m\u001b[0;34m\u001b[0m\u001b[0m\n",
            "\u001b[0;32mpandas/_libs/tslibs/conversion.pyx\u001b[0m in \u001b[0;36mpandas._libs.tslibs.conversion.datetime_to_datetime64\u001b[0;34m()\u001b[0m\n",
            "\u001b[0;31mTypeError\u001b[0m: Unrecognized value type: <class 'str'>",
            "\nDuring handling of the above exception, another exception occurred:\n",
            "\u001b[0;31mParserError\u001b[0m                               Traceback (most recent call last)",
            "\u001b[0;32m<ipython-input-57-8c59ea737059>\u001b[0m in \u001b[0;36m<module>\u001b[0;34m()\u001b[0m\n\u001b[0;32m----> 1\u001b[0;31m \u001b[0mall\u001b[0m\u001b[0;34m.\u001b[0m\u001b[0mdate_published\u001b[0m\u001b[0;34m=\u001b[0m\u001b[0mpd\u001b[0m\u001b[0;34m.\u001b[0m\u001b[0mto_datetime\u001b[0m\u001b[0;34m(\u001b[0m\u001b[0mall\u001b[0m\u001b[0;34m.\u001b[0m\u001b[0mdate_published\u001b[0m\u001b[0;34m)\u001b[0m\u001b[0;34m\u001b[0m\u001b[0;34m\u001b[0m\u001b[0m\n\u001b[0m",
            "\u001b[0;32m/usr/local/lib/python3.6/dist-packages/pandas/core/tools/datetimes.py\u001b[0m in \u001b[0;36mto_datetime\u001b[0;34m(arg, errors, dayfirst, yearfirst, utc, format, exact, unit, infer_datetime_format, origin, cache)\u001b[0m\n\u001b[1;32m    722\u001b[0m                 \u001b[0mresult\u001b[0m \u001b[0;34m=\u001b[0m \u001b[0mresult\u001b[0m\u001b[0;34m.\u001b[0m\u001b[0mtz_localize\u001b[0m\u001b[0;34m(\u001b[0m\u001b[0mtz\u001b[0m\u001b[0;34m)\u001b[0m\u001b[0;34m\u001b[0m\u001b[0;34m\u001b[0m\u001b[0m\n\u001b[1;32m    723\u001b[0m     \u001b[0;32melif\u001b[0m \u001b[0misinstance\u001b[0m\u001b[0;34m(\u001b[0m\u001b[0marg\u001b[0m\u001b[0;34m,\u001b[0m \u001b[0mABCSeries\u001b[0m\u001b[0;34m)\u001b[0m\u001b[0;34m:\u001b[0m\u001b[0;34m\u001b[0m\u001b[0;34m\u001b[0m\u001b[0m\n\u001b[0;32m--> 724\u001b[0;31m         \u001b[0mcache_array\u001b[0m \u001b[0;34m=\u001b[0m \u001b[0m_maybe_cache\u001b[0m\u001b[0;34m(\u001b[0m\u001b[0marg\u001b[0m\u001b[0;34m,\u001b[0m \u001b[0mformat\u001b[0m\u001b[0;34m,\u001b[0m \u001b[0mcache\u001b[0m\u001b[0;34m,\u001b[0m \u001b[0mconvert_listlike\u001b[0m\u001b[0;34m)\u001b[0m\u001b[0;34m\u001b[0m\u001b[0;34m\u001b[0m\u001b[0m\n\u001b[0m\u001b[1;32m    725\u001b[0m         \u001b[0;32mif\u001b[0m \u001b[0;32mnot\u001b[0m \u001b[0mcache_array\u001b[0m\u001b[0;34m.\u001b[0m\u001b[0mempty\u001b[0m\u001b[0;34m:\u001b[0m\u001b[0;34m\u001b[0m\u001b[0;34m\u001b[0m\u001b[0m\n\u001b[1;32m    726\u001b[0m             \u001b[0mresult\u001b[0m \u001b[0;34m=\u001b[0m \u001b[0marg\u001b[0m\u001b[0;34m.\u001b[0m\u001b[0mmap\u001b[0m\u001b[0;34m(\u001b[0m\u001b[0mcache_array\u001b[0m\u001b[0;34m)\u001b[0m\u001b[0;34m\u001b[0m\u001b[0;34m\u001b[0m\u001b[0m\n",
            "\u001b[0;32m/usr/local/lib/python3.6/dist-packages/pandas/core/tools/datetimes.py\u001b[0m in \u001b[0;36m_maybe_cache\u001b[0;34m(arg, format, cache, convert_listlike)\u001b[0m\n\u001b[1;32m    150\u001b[0m         \u001b[0munique_dates\u001b[0m \u001b[0;34m=\u001b[0m \u001b[0munique\u001b[0m\u001b[0;34m(\u001b[0m\u001b[0marg\u001b[0m\u001b[0;34m)\u001b[0m\u001b[0;34m\u001b[0m\u001b[0;34m\u001b[0m\u001b[0m\n\u001b[1;32m    151\u001b[0m         \u001b[0;32mif\u001b[0m \u001b[0mlen\u001b[0m\u001b[0;34m(\u001b[0m\u001b[0munique_dates\u001b[0m\u001b[0;34m)\u001b[0m \u001b[0;34m<\u001b[0m \u001b[0mlen\u001b[0m\u001b[0;34m(\u001b[0m\u001b[0marg\u001b[0m\u001b[0;34m)\u001b[0m\u001b[0;34m:\u001b[0m\u001b[0;34m\u001b[0m\u001b[0;34m\u001b[0m\u001b[0m\n\u001b[0;32m--> 152\u001b[0;31m             \u001b[0mcache_dates\u001b[0m \u001b[0;34m=\u001b[0m \u001b[0mconvert_listlike\u001b[0m\u001b[0;34m(\u001b[0m\u001b[0munique_dates\u001b[0m\u001b[0;34m,\u001b[0m \u001b[0mformat\u001b[0m\u001b[0;34m)\u001b[0m\u001b[0;34m\u001b[0m\u001b[0;34m\u001b[0m\u001b[0m\n\u001b[0m\u001b[1;32m    153\u001b[0m             \u001b[0mcache_array\u001b[0m \u001b[0;34m=\u001b[0m \u001b[0mSeries\u001b[0m\u001b[0;34m(\u001b[0m\u001b[0mcache_dates\u001b[0m\u001b[0;34m,\u001b[0m \u001b[0mindex\u001b[0m\u001b[0;34m=\u001b[0m\u001b[0munique_dates\u001b[0m\u001b[0;34m)\u001b[0m\u001b[0;34m\u001b[0m\u001b[0;34m\u001b[0m\u001b[0m\n\u001b[1;32m    154\u001b[0m     \u001b[0;32mreturn\u001b[0m \u001b[0mcache_array\u001b[0m\u001b[0;34m\u001b[0m\u001b[0;34m\u001b[0m\u001b[0m\n",
            "\u001b[0;32m/usr/local/lib/python3.6/dist-packages/pandas/core/tools/datetimes.py\u001b[0m in \u001b[0;36m_convert_listlike_datetimes\u001b[0;34m(arg, format, name, tz, unit, errors, infer_datetime_format, dayfirst, yearfirst, exact)\u001b[0m\n\u001b[1;32m    445\u001b[0m             \u001b[0merrors\u001b[0m\u001b[0;34m=\u001b[0m\u001b[0merrors\u001b[0m\u001b[0;34m,\u001b[0m\u001b[0;34m\u001b[0m\u001b[0;34m\u001b[0m\u001b[0m\n\u001b[1;32m    446\u001b[0m             \u001b[0mrequire_iso8601\u001b[0m\u001b[0;34m=\u001b[0m\u001b[0mrequire_iso8601\u001b[0m\u001b[0;34m,\u001b[0m\u001b[0;34m\u001b[0m\u001b[0;34m\u001b[0m\u001b[0m\n\u001b[0;32m--> 447\u001b[0;31m             \u001b[0mallow_object\u001b[0m\u001b[0;34m=\u001b[0m\u001b[0;32mTrue\u001b[0m\u001b[0;34m,\u001b[0m\u001b[0;34m\u001b[0m\u001b[0;34m\u001b[0m\u001b[0m\n\u001b[0m\u001b[1;32m    448\u001b[0m         )\n\u001b[1;32m    449\u001b[0m \u001b[0;34m\u001b[0m\u001b[0m\n",
            "\u001b[0;32m/usr/local/lib/python3.6/dist-packages/pandas/core/arrays/datetimes.py\u001b[0m in \u001b[0;36mobjects_to_datetime64ns\u001b[0;34m(data, dayfirst, yearfirst, utc, errors, require_iso8601, allow_object)\u001b[0m\n\u001b[1;32m   1861\u001b[0m             \u001b[0;32mreturn\u001b[0m \u001b[0mvalues\u001b[0m\u001b[0;34m.\u001b[0m\u001b[0mview\u001b[0m\u001b[0;34m(\u001b[0m\u001b[0;34m\"i8\"\u001b[0m\u001b[0;34m)\u001b[0m\u001b[0;34m,\u001b[0m \u001b[0mtz_parsed\u001b[0m\u001b[0;34m\u001b[0m\u001b[0;34m\u001b[0m\u001b[0m\n\u001b[1;32m   1862\u001b[0m         \u001b[0;32mexcept\u001b[0m \u001b[0;34m(\u001b[0m\u001b[0mValueError\u001b[0m\u001b[0;34m,\u001b[0m \u001b[0mTypeError\u001b[0m\u001b[0;34m)\u001b[0m\u001b[0;34m:\u001b[0m\u001b[0;34m\u001b[0m\u001b[0;34m\u001b[0m\u001b[0m\n\u001b[0;32m-> 1863\u001b[0;31m             \u001b[0;32mraise\u001b[0m \u001b[0me\u001b[0m\u001b[0;34m\u001b[0m\u001b[0;34m\u001b[0m\u001b[0m\n\u001b[0m\u001b[1;32m   1864\u001b[0m \u001b[0;34m\u001b[0m\u001b[0m\n\u001b[1;32m   1865\u001b[0m     \u001b[0;32mif\u001b[0m \u001b[0mtz_parsed\u001b[0m \u001b[0;32mis\u001b[0m \u001b[0;32mnot\u001b[0m \u001b[0;32mNone\u001b[0m\u001b[0;34m:\u001b[0m\u001b[0;34m\u001b[0m\u001b[0;34m\u001b[0m\u001b[0m\n",
            "\u001b[0;32m/usr/local/lib/python3.6/dist-packages/pandas/core/arrays/datetimes.py\u001b[0m in \u001b[0;36mobjects_to_datetime64ns\u001b[0;34m(data, dayfirst, yearfirst, utc, errors, require_iso8601, allow_object)\u001b[0m\n\u001b[1;32m   1852\u001b[0m             \u001b[0mdayfirst\u001b[0m\u001b[0;34m=\u001b[0m\u001b[0mdayfirst\u001b[0m\u001b[0;34m,\u001b[0m\u001b[0;34m\u001b[0m\u001b[0;34m\u001b[0m\u001b[0m\n\u001b[1;32m   1853\u001b[0m             \u001b[0myearfirst\u001b[0m\u001b[0;34m=\u001b[0m\u001b[0myearfirst\u001b[0m\u001b[0;34m,\u001b[0m\u001b[0;34m\u001b[0m\u001b[0;34m\u001b[0m\u001b[0m\n\u001b[0;32m-> 1854\u001b[0;31m             \u001b[0mrequire_iso8601\u001b[0m\u001b[0;34m=\u001b[0m\u001b[0mrequire_iso8601\u001b[0m\u001b[0;34m,\u001b[0m\u001b[0;34m\u001b[0m\u001b[0;34m\u001b[0m\u001b[0m\n\u001b[0m\u001b[1;32m   1855\u001b[0m         )\n\u001b[1;32m   1856\u001b[0m     \u001b[0;32mexcept\u001b[0m \u001b[0mValueError\u001b[0m \u001b[0;32mas\u001b[0m \u001b[0me\u001b[0m\u001b[0;34m:\u001b[0m\u001b[0;34m\u001b[0m\u001b[0;34m\u001b[0m\u001b[0m\n",
            "\u001b[0;32mpandas/_libs/tslib.pyx\u001b[0m in \u001b[0;36mpandas._libs.tslib.array_to_datetime\u001b[0;34m()\u001b[0m\n",
            "\u001b[0;32mpandas/_libs/tslib.pyx\u001b[0m in \u001b[0;36mpandas._libs.tslib.array_to_datetime\u001b[0;34m()\u001b[0m\n",
            "\u001b[0;32mpandas/_libs/tslib.pyx\u001b[0m in \u001b[0;36mpandas._libs.tslib.array_to_datetime_object\u001b[0;34m()\u001b[0m\n",
            "\u001b[0;32mpandas/_libs/tslib.pyx\u001b[0m in \u001b[0;36mpandas._libs.tslib.array_to_datetime_object\u001b[0;34m()\u001b[0m\n",
            "\u001b[0;32mpandas/_libs/tslibs/parsing.pyx\u001b[0m in \u001b[0;36mpandas._libs.tslibs.parsing.parse_datetime_string\u001b[0;34m()\u001b[0m\n",
            "\u001b[0;32m/usr/local/lib/python3.6/dist-packages/dateutil/parser/_parser.py\u001b[0m in \u001b[0;36mparse\u001b[0;34m(timestr, parserinfo, **kwargs)\u001b[0m\n\u001b[1;32m   1372\u001b[0m         \u001b[0;32mreturn\u001b[0m \u001b[0mparser\u001b[0m\u001b[0;34m(\u001b[0m\u001b[0mparserinfo\u001b[0m\u001b[0;34m)\u001b[0m\u001b[0;34m.\u001b[0m\u001b[0mparse\u001b[0m\u001b[0;34m(\u001b[0m\u001b[0mtimestr\u001b[0m\u001b[0;34m,\u001b[0m \u001b[0;34m**\u001b[0m\u001b[0mkwargs\u001b[0m\u001b[0;34m)\u001b[0m\u001b[0;34m\u001b[0m\u001b[0;34m\u001b[0m\u001b[0m\n\u001b[1;32m   1373\u001b[0m     \u001b[0;32melse\u001b[0m\u001b[0;34m:\u001b[0m\u001b[0;34m\u001b[0m\u001b[0;34m\u001b[0m\u001b[0m\n\u001b[0;32m-> 1374\u001b[0;31m         \u001b[0;32mreturn\u001b[0m \u001b[0mDEFAULTPARSER\u001b[0m\u001b[0;34m.\u001b[0m\u001b[0mparse\u001b[0m\u001b[0;34m(\u001b[0m\u001b[0mtimestr\u001b[0m\u001b[0;34m,\u001b[0m \u001b[0;34m**\u001b[0m\u001b[0mkwargs\u001b[0m\u001b[0;34m)\u001b[0m\u001b[0;34m\u001b[0m\u001b[0;34m\u001b[0m\u001b[0m\n\u001b[0m\u001b[1;32m   1375\u001b[0m \u001b[0;34m\u001b[0m\u001b[0m\n\u001b[1;32m   1376\u001b[0m \u001b[0;34m\u001b[0m\u001b[0m\n",
            "\u001b[0;32m/usr/local/lib/python3.6/dist-packages/dateutil/parser/_parser.py\u001b[0m in \u001b[0;36mparse\u001b[0;34m(self, timestr, default, ignoretz, tzinfos, **kwargs)\u001b[0m\n\u001b[1;32m    647\u001b[0m \u001b[0;34m\u001b[0m\u001b[0m\n\u001b[1;32m    648\u001b[0m         \u001b[0;32mif\u001b[0m \u001b[0mres\u001b[0m \u001b[0;32mis\u001b[0m \u001b[0;32mNone\u001b[0m\u001b[0;34m:\u001b[0m\u001b[0;34m\u001b[0m\u001b[0;34m\u001b[0m\u001b[0m\n\u001b[0;32m--> 649\u001b[0;31m             \u001b[0;32mraise\u001b[0m \u001b[0mParserError\u001b[0m\u001b[0;34m(\u001b[0m\u001b[0;34m\"Unknown string format: %s\"\u001b[0m\u001b[0;34m,\u001b[0m \u001b[0mtimestr\u001b[0m\u001b[0;34m)\u001b[0m\u001b[0;34m\u001b[0m\u001b[0;34m\u001b[0m\u001b[0m\n\u001b[0m\u001b[1;32m    650\u001b[0m \u001b[0;34m\u001b[0m\u001b[0m\n\u001b[1;32m    651\u001b[0m         \u001b[0;32mif\u001b[0m \u001b[0mlen\u001b[0m\u001b[0;34m(\u001b[0m\u001b[0mres\u001b[0m\u001b[0;34m)\u001b[0m \u001b[0;34m==\u001b[0m \u001b[0;36m0\u001b[0m\u001b[0;34m:\u001b[0m\u001b[0;34m\u001b[0m\u001b[0;34m\u001b[0m\u001b[0m\n",
            "\u001b[0;31mParserError\u001b[0m: Unknown string format: TV Movie 2019"
          ]
        }
      ]
    },
    {
      "cell_type": "code",
      "metadata": {
        "id": "P5sC_LO0Vtmv",
        "outputId": "cfd9740e-7d91-455f-f0bc-a2407c73305e",
        "colab": {
          "base_uri": "https://localhost:8080/",
          "height": 34
        }
      },
      "source": [
        "all.date_published[all.date_published=='TV Movie 2019'].count()"
      ],
      "execution_count": null,
      "outputs": [
        {
          "output_type": "execute_result",
          "data": {
            "text/plain": [
              "10"
            ]
          },
          "metadata": {
            "tags": []
          },
          "execution_count": 58
        }
      ]
    },
    {
      "cell_type": "markdown",
      "metadata": {
        "id": "6pBHiXP0VgVq"
      },
      "source": [
        "these 10 rows originally had values that were  not in any form convertable to datetime "
      ]
    },
    {
      "cell_type": "code",
      "metadata": {
        "id": "KThd2pcrWeC2"
      },
      "source": [
        "all.drop(all[all.date_published=='TV Movie 2019'].index,inplace=True)"
      ],
      "execution_count": null,
      "outputs": []
    },
    {
      "cell_type": "code",
      "metadata": {
        "id": "0_0c-s2LTipN"
      },
      "source": [
        "all.date_published=pd.to_datetime(all.date_published)"
      ],
      "execution_count": null,
      "outputs": []
    },
    {
      "cell_type": "markdown",
      "metadata": {
        "id": "i47sXD4t1TqF"
      },
      "source": [
        "######date of birth and date of death"
      ]
    },
    {
      "cell_type": "code",
      "metadata": {
        "id": "J3vPgRp7VRE2",
        "outputId": "db0a9cd6-81de-4c1d-cd4e-7895b81cb7c0",
        "colab": {
          "base_uri": "https://localhost:8080/"
        }
      },
      "source": [
        "all.date_of_birth= pd.to_datetime(all.date_of_birth)\n",
        "all.date_of_death= pd.to_datetime(all.date_of_death)"
      ],
      "execution_count": null,
      "outputs": [
        {
          "output_type": "error",
          "ename": "ParserError",
          "evalue": "ignored",
          "traceback": [
            "\u001b[0;31m---------------------------------------------------------------------------\u001b[0m",
            "\u001b[0;31mTypeError\u001b[0m                                 Traceback (most recent call last)",
            "\u001b[0;32m/usr/local/lib/python3.6/dist-packages/pandas/core/arrays/datetimes.py\u001b[0m in \u001b[0;36mobjects_to_datetime64ns\u001b[0;34m(data, dayfirst, yearfirst, utc, errors, require_iso8601, allow_object)\u001b[0m\n\u001b[1;32m   1857\u001b[0m         \u001b[0;32mtry\u001b[0m\u001b[0;34m:\u001b[0m\u001b[0;34m\u001b[0m\u001b[0;34m\u001b[0m\u001b[0m\n\u001b[0;32m-> 1858\u001b[0;31m             \u001b[0mvalues\u001b[0m\u001b[0;34m,\u001b[0m \u001b[0mtz_parsed\u001b[0m \u001b[0;34m=\u001b[0m \u001b[0mconversion\u001b[0m\u001b[0;34m.\u001b[0m\u001b[0mdatetime_to_datetime64\u001b[0m\u001b[0;34m(\u001b[0m\u001b[0mdata\u001b[0m\u001b[0;34m)\u001b[0m\u001b[0;34m\u001b[0m\u001b[0;34m\u001b[0m\u001b[0m\n\u001b[0m\u001b[1;32m   1859\u001b[0m             \u001b[0;31m# If tzaware, these values represent unix timestamps, so we\u001b[0m\u001b[0;34m\u001b[0m\u001b[0;34m\u001b[0m\u001b[0;34m\u001b[0m\u001b[0m\n",
            "\u001b[0;32mpandas/_libs/tslibs/conversion.pyx\u001b[0m in \u001b[0;36mpandas._libs.tslibs.conversion.datetime_to_datetime64\u001b[0;34m()\u001b[0m\n",
            "\u001b[0;31mTypeError\u001b[0m: Unrecognized value type: <class 'str'>",
            "\nDuring handling of the above exception, another exception occurred:\n",
            "\u001b[0;31mParserError\u001b[0m                               Traceback (most recent call last)",
            "\u001b[0;32m<ipython-input-61-1895de21247c>\u001b[0m in \u001b[0;36m<module>\u001b[0;34m()\u001b[0m\n\u001b[0;32m----> 1\u001b[0;31m \u001b[0mall\u001b[0m\u001b[0;34m.\u001b[0m\u001b[0mdate_of_birth\u001b[0m\u001b[0;34m=\u001b[0m \u001b[0mpd\u001b[0m\u001b[0;34m.\u001b[0m\u001b[0mto_datetime\u001b[0m\u001b[0;34m(\u001b[0m\u001b[0mall\u001b[0m\u001b[0;34m.\u001b[0m\u001b[0mdate_of_birth\u001b[0m\u001b[0;34m)\u001b[0m\u001b[0;34m\u001b[0m\u001b[0;34m\u001b[0m\u001b[0m\n\u001b[0m\u001b[1;32m      2\u001b[0m \u001b[0mall\u001b[0m\u001b[0;34m.\u001b[0m\u001b[0mdate_of_death\u001b[0m\u001b[0;34m=\u001b[0m \u001b[0mpd\u001b[0m\u001b[0;34m.\u001b[0m\u001b[0mto_datetime\u001b[0m\u001b[0;34m(\u001b[0m\u001b[0mall\u001b[0m\u001b[0;34m.\u001b[0m\u001b[0mdate_of_death\u001b[0m\u001b[0;34m)\u001b[0m\u001b[0;34m\u001b[0m\u001b[0;34m\u001b[0m\u001b[0m\n",
            "\u001b[0;32m/usr/local/lib/python3.6/dist-packages/pandas/core/tools/datetimes.py\u001b[0m in \u001b[0;36mto_datetime\u001b[0;34m(arg, errors, dayfirst, yearfirst, utc, format, exact, unit, infer_datetime_format, origin, cache)\u001b[0m\n\u001b[1;32m    722\u001b[0m                 \u001b[0mresult\u001b[0m \u001b[0;34m=\u001b[0m \u001b[0mresult\u001b[0m\u001b[0;34m.\u001b[0m\u001b[0mtz_localize\u001b[0m\u001b[0;34m(\u001b[0m\u001b[0mtz\u001b[0m\u001b[0;34m)\u001b[0m\u001b[0;34m\u001b[0m\u001b[0;34m\u001b[0m\u001b[0m\n\u001b[1;32m    723\u001b[0m     \u001b[0;32melif\u001b[0m \u001b[0misinstance\u001b[0m\u001b[0;34m(\u001b[0m\u001b[0marg\u001b[0m\u001b[0;34m,\u001b[0m \u001b[0mABCSeries\u001b[0m\u001b[0;34m)\u001b[0m\u001b[0;34m:\u001b[0m\u001b[0;34m\u001b[0m\u001b[0;34m\u001b[0m\u001b[0m\n\u001b[0;32m--> 724\u001b[0;31m         \u001b[0mcache_array\u001b[0m \u001b[0;34m=\u001b[0m \u001b[0m_maybe_cache\u001b[0m\u001b[0;34m(\u001b[0m\u001b[0marg\u001b[0m\u001b[0;34m,\u001b[0m \u001b[0mformat\u001b[0m\u001b[0;34m,\u001b[0m \u001b[0mcache\u001b[0m\u001b[0;34m,\u001b[0m \u001b[0mconvert_listlike\u001b[0m\u001b[0;34m)\u001b[0m\u001b[0;34m\u001b[0m\u001b[0;34m\u001b[0m\u001b[0m\n\u001b[0m\u001b[1;32m    725\u001b[0m         \u001b[0;32mif\u001b[0m \u001b[0;32mnot\u001b[0m \u001b[0mcache_array\u001b[0m\u001b[0;34m.\u001b[0m\u001b[0mempty\u001b[0m\u001b[0;34m:\u001b[0m\u001b[0;34m\u001b[0m\u001b[0;34m\u001b[0m\u001b[0m\n\u001b[1;32m    726\u001b[0m             \u001b[0mresult\u001b[0m \u001b[0;34m=\u001b[0m \u001b[0marg\u001b[0m\u001b[0;34m.\u001b[0m\u001b[0mmap\u001b[0m\u001b[0;34m(\u001b[0m\u001b[0mcache_array\u001b[0m\u001b[0;34m)\u001b[0m\u001b[0;34m\u001b[0m\u001b[0;34m\u001b[0m\u001b[0m\n",
            "\u001b[0;32m/usr/local/lib/python3.6/dist-packages/pandas/core/tools/datetimes.py\u001b[0m in \u001b[0;36m_maybe_cache\u001b[0;34m(arg, format, cache, convert_listlike)\u001b[0m\n\u001b[1;32m    150\u001b[0m         \u001b[0munique_dates\u001b[0m \u001b[0;34m=\u001b[0m \u001b[0munique\u001b[0m\u001b[0;34m(\u001b[0m\u001b[0marg\u001b[0m\u001b[0;34m)\u001b[0m\u001b[0;34m\u001b[0m\u001b[0;34m\u001b[0m\u001b[0m\n\u001b[1;32m    151\u001b[0m         \u001b[0;32mif\u001b[0m \u001b[0mlen\u001b[0m\u001b[0;34m(\u001b[0m\u001b[0munique_dates\u001b[0m\u001b[0;34m)\u001b[0m \u001b[0;34m<\u001b[0m \u001b[0mlen\u001b[0m\u001b[0;34m(\u001b[0m\u001b[0marg\u001b[0m\u001b[0;34m)\u001b[0m\u001b[0;34m:\u001b[0m\u001b[0;34m\u001b[0m\u001b[0;34m\u001b[0m\u001b[0m\n\u001b[0;32m--> 152\u001b[0;31m             \u001b[0mcache_dates\u001b[0m \u001b[0;34m=\u001b[0m \u001b[0mconvert_listlike\u001b[0m\u001b[0;34m(\u001b[0m\u001b[0munique_dates\u001b[0m\u001b[0;34m,\u001b[0m \u001b[0mformat\u001b[0m\u001b[0;34m)\u001b[0m\u001b[0;34m\u001b[0m\u001b[0;34m\u001b[0m\u001b[0m\n\u001b[0m\u001b[1;32m    153\u001b[0m             \u001b[0mcache_array\u001b[0m \u001b[0;34m=\u001b[0m \u001b[0mSeries\u001b[0m\u001b[0;34m(\u001b[0m\u001b[0mcache_dates\u001b[0m\u001b[0;34m,\u001b[0m \u001b[0mindex\u001b[0m\u001b[0;34m=\u001b[0m\u001b[0munique_dates\u001b[0m\u001b[0;34m)\u001b[0m\u001b[0;34m\u001b[0m\u001b[0;34m\u001b[0m\u001b[0m\n\u001b[1;32m    154\u001b[0m     \u001b[0;32mreturn\u001b[0m \u001b[0mcache_array\u001b[0m\u001b[0;34m\u001b[0m\u001b[0;34m\u001b[0m\u001b[0m\n",
            "\u001b[0;32m/usr/local/lib/python3.6/dist-packages/pandas/core/tools/datetimes.py\u001b[0m in \u001b[0;36m_convert_listlike_datetimes\u001b[0;34m(arg, format, name, tz, unit, errors, infer_datetime_format, dayfirst, yearfirst, exact)\u001b[0m\n\u001b[1;32m    445\u001b[0m             \u001b[0merrors\u001b[0m\u001b[0;34m=\u001b[0m\u001b[0merrors\u001b[0m\u001b[0;34m,\u001b[0m\u001b[0;34m\u001b[0m\u001b[0;34m\u001b[0m\u001b[0m\n\u001b[1;32m    446\u001b[0m             \u001b[0mrequire_iso8601\u001b[0m\u001b[0;34m=\u001b[0m\u001b[0mrequire_iso8601\u001b[0m\u001b[0;34m,\u001b[0m\u001b[0;34m\u001b[0m\u001b[0;34m\u001b[0m\u001b[0m\n\u001b[0;32m--> 447\u001b[0;31m             \u001b[0mallow_object\u001b[0m\u001b[0;34m=\u001b[0m\u001b[0;32mTrue\u001b[0m\u001b[0;34m,\u001b[0m\u001b[0;34m\u001b[0m\u001b[0;34m\u001b[0m\u001b[0m\n\u001b[0m\u001b[1;32m    448\u001b[0m         )\n\u001b[1;32m    449\u001b[0m \u001b[0;34m\u001b[0m\u001b[0m\n",
            "\u001b[0;32m/usr/local/lib/python3.6/dist-packages/pandas/core/arrays/datetimes.py\u001b[0m in \u001b[0;36mobjects_to_datetime64ns\u001b[0;34m(data, dayfirst, yearfirst, utc, errors, require_iso8601, allow_object)\u001b[0m\n\u001b[1;32m   1861\u001b[0m             \u001b[0;32mreturn\u001b[0m \u001b[0mvalues\u001b[0m\u001b[0;34m.\u001b[0m\u001b[0mview\u001b[0m\u001b[0;34m(\u001b[0m\u001b[0;34m\"i8\"\u001b[0m\u001b[0;34m)\u001b[0m\u001b[0;34m,\u001b[0m \u001b[0mtz_parsed\u001b[0m\u001b[0;34m\u001b[0m\u001b[0;34m\u001b[0m\u001b[0m\n\u001b[1;32m   1862\u001b[0m         \u001b[0;32mexcept\u001b[0m \u001b[0;34m(\u001b[0m\u001b[0mValueError\u001b[0m\u001b[0;34m,\u001b[0m \u001b[0mTypeError\u001b[0m\u001b[0;34m)\u001b[0m\u001b[0;34m:\u001b[0m\u001b[0;34m\u001b[0m\u001b[0;34m\u001b[0m\u001b[0m\n\u001b[0;32m-> 1863\u001b[0;31m             \u001b[0;32mraise\u001b[0m \u001b[0me\u001b[0m\u001b[0;34m\u001b[0m\u001b[0;34m\u001b[0m\u001b[0m\n\u001b[0m\u001b[1;32m   1864\u001b[0m \u001b[0;34m\u001b[0m\u001b[0m\n\u001b[1;32m   1865\u001b[0m     \u001b[0;32mif\u001b[0m \u001b[0mtz_parsed\u001b[0m \u001b[0;32mis\u001b[0m \u001b[0;32mnot\u001b[0m \u001b[0;32mNone\u001b[0m\u001b[0;34m:\u001b[0m\u001b[0;34m\u001b[0m\u001b[0;34m\u001b[0m\u001b[0m\n",
            "\u001b[0;32m/usr/local/lib/python3.6/dist-packages/pandas/core/arrays/datetimes.py\u001b[0m in \u001b[0;36mobjects_to_datetime64ns\u001b[0;34m(data, dayfirst, yearfirst, utc, errors, require_iso8601, allow_object)\u001b[0m\n\u001b[1;32m   1852\u001b[0m             \u001b[0mdayfirst\u001b[0m\u001b[0;34m=\u001b[0m\u001b[0mdayfirst\u001b[0m\u001b[0;34m,\u001b[0m\u001b[0;34m\u001b[0m\u001b[0;34m\u001b[0m\u001b[0m\n\u001b[1;32m   1853\u001b[0m             \u001b[0myearfirst\u001b[0m\u001b[0;34m=\u001b[0m\u001b[0myearfirst\u001b[0m\u001b[0;34m,\u001b[0m\u001b[0;34m\u001b[0m\u001b[0;34m\u001b[0m\u001b[0m\n\u001b[0;32m-> 1854\u001b[0;31m             \u001b[0mrequire_iso8601\u001b[0m\u001b[0;34m=\u001b[0m\u001b[0mrequire_iso8601\u001b[0m\u001b[0;34m,\u001b[0m\u001b[0;34m\u001b[0m\u001b[0;34m\u001b[0m\u001b[0m\n\u001b[0m\u001b[1;32m   1855\u001b[0m         )\n\u001b[1;32m   1856\u001b[0m     \u001b[0;32mexcept\u001b[0m \u001b[0mValueError\u001b[0m \u001b[0;32mas\u001b[0m \u001b[0me\u001b[0m\u001b[0;34m:\u001b[0m\u001b[0;34m\u001b[0m\u001b[0;34m\u001b[0m\u001b[0m\n",
            "\u001b[0;32mpandas/_libs/tslib.pyx\u001b[0m in \u001b[0;36mpandas._libs.tslib.array_to_datetime\u001b[0;34m()\u001b[0m\n",
            "\u001b[0;32mpandas/_libs/tslib.pyx\u001b[0m in \u001b[0;36mpandas._libs.tslib.array_to_datetime\u001b[0;34m()\u001b[0m\n",
            "\u001b[0;32mpandas/_libs/tslib.pyx\u001b[0m in \u001b[0;36mpandas._libs.tslib.array_to_datetime_object\u001b[0;34m()\u001b[0m\n",
            "\u001b[0;32mpandas/_libs/tslib.pyx\u001b[0m in \u001b[0;36mpandas._libs.tslib.array_to_datetime_object\u001b[0;34m()\u001b[0m\n",
            "\u001b[0;32mpandas/_libs/tslibs/parsing.pyx\u001b[0m in \u001b[0;36mpandas._libs.tslibs.parsing.parse_datetime_string\u001b[0;34m()\u001b[0m\n",
            "\u001b[0;32m/usr/local/lib/python3.6/dist-packages/dateutil/parser/_parser.py\u001b[0m in \u001b[0;36mparse\u001b[0;34m(timestr, parserinfo, **kwargs)\u001b[0m\n\u001b[1;32m   1372\u001b[0m         \u001b[0;32mreturn\u001b[0m \u001b[0mparser\u001b[0m\u001b[0;34m(\u001b[0m\u001b[0mparserinfo\u001b[0m\u001b[0;34m)\u001b[0m\u001b[0;34m.\u001b[0m\u001b[0mparse\u001b[0m\u001b[0;34m(\u001b[0m\u001b[0mtimestr\u001b[0m\u001b[0;34m,\u001b[0m \u001b[0;34m**\u001b[0m\u001b[0mkwargs\u001b[0m\u001b[0;34m)\u001b[0m\u001b[0;34m\u001b[0m\u001b[0;34m\u001b[0m\u001b[0m\n\u001b[1;32m   1373\u001b[0m     \u001b[0;32melse\u001b[0m\u001b[0;34m:\u001b[0m\u001b[0;34m\u001b[0m\u001b[0;34m\u001b[0m\u001b[0m\n\u001b[0;32m-> 1374\u001b[0;31m         \u001b[0;32mreturn\u001b[0m \u001b[0mDEFAULTPARSER\u001b[0m\u001b[0;34m.\u001b[0m\u001b[0mparse\u001b[0m\u001b[0;34m(\u001b[0m\u001b[0mtimestr\u001b[0m\u001b[0;34m,\u001b[0m \u001b[0;34m**\u001b[0m\u001b[0mkwargs\u001b[0m\u001b[0;34m)\u001b[0m\u001b[0;34m\u001b[0m\u001b[0;34m\u001b[0m\u001b[0m\n\u001b[0m\u001b[1;32m   1375\u001b[0m \u001b[0;34m\u001b[0m\u001b[0m\n\u001b[1;32m   1376\u001b[0m \u001b[0;34m\u001b[0m\u001b[0m\n",
            "\u001b[0;32m/usr/local/lib/python3.6/dist-packages/dateutil/parser/_parser.py\u001b[0m in \u001b[0;36mparse\u001b[0;34m(self, timestr, default, ignoretz, tzinfos, **kwargs)\u001b[0m\n\u001b[1;32m    647\u001b[0m \u001b[0;34m\u001b[0m\u001b[0m\n\u001b[1;32m    648\u001b[0m         \u001b[0;32mif\u001b[0m \u001b[0mres\u001b[0m \u001b[0;32mis\u001b[0m \u001b[0;32mNone\u001b[0m\u001b[0;34m:\u001b[0m\u001b[0;34m\u001b[0m\u001b[0;34m\u001b[0m\u001b[0m\n\u001b[0;32m--> 649\u001b[0;31m             \u001b[0;32mraise\u001b[0m \u001b[0mParserError\u001b[0m\u001b[0;34m(\u001b[0m\u001b[0;34m\"Unknown string format: %s\"\u001b[0m\u001b[0;34m,\u001b[0m \u001b[0mtimestr\u001b[0m\u001b[0;34m)\u001b[0m\u001b[0;34m\u001b[0m\u001b[0;34m\u001b[0m\u001b[0m\n\u001b[0m\u001b[1;32m    650\u001b[0m \u001b[0;34m\u001b[0m\u001b[0m\n\u001b[1;32m    651\u001b[0m         \u001b[0;32mif\u001b[0m \u001b[0mlen\u001b[0m\u001b[0;34m(\u001b[0m\u001b[0mres\u001b[0m\u001b[0;34m)\u001b[0m \u001b[0;34m==\u001b[0m \u001b[0;36m0\u001b[0m\u001b[0;34m:\u001b[0m\u001b[0;34m\u001b[0m\u001b[0;34m\u001b[0m\u001b[0m\n",
            "\u001b[0;31mParserError\u001b[0m: Unknown string format: 1879 in Australia"
          ]
        }
      ]
    },
    {
      "cell_type": "code",
      "metadata": {
        "id": "XSD3DdBBXbFl",
        "outputId": "2754cb39-4f1d-4b44-b177-cc5a5b4751ca",
        "colab": {
          "base_uri": "https://localhost:8080/"
        }
      },
      "source": [
        "all[all.date_of_birth=='1879 in Australia']"
      ],
      "execution_count": null,
      "outputs": [
        {
          "output_type": "execute_result",
          "data": {
            "text/html": [
              "<div>\n",
              "<style scoped>\n",
              "    .dataframe tbody tr th:only-of-type {\n",
              "        vertical-align: middle;\n",
              "    }\n",
              "\n",
              "    .dataframe tbody tr th {\n",
              "        vertical-align: top;\n",
              "    }\n",
              "\n",
              "    .dataframe thead th {\n",
              "        text-align: right;\n",
              "    }\n",
              "</style>\n",
              "<table border=\"1\" class=\"dataframe\">\n",
              "  <thead>\n",
              "    <tr style=\"text-align: right;\">\n",
              "      <th></th>\n",
              "      <th>imdb_title_id</th>\n",
              "      <th>title</th>\n",
              "      <th>original_title</th>\n",
              "      <th>year</th>\n",
              "      <th>date_published</th>\n",
              "      <th>genre</th>\n",
              "      <th>duration</th>\n",
              "      <th>country</th>\n",
              "      <th>director</th>\n",
              "      <th>production_company</th>\n",
              "      <th>reviews_from_users</th>\n",
              "      <th>reviews_from_critics</th>\n",
              "      <th>ordering</th>\n",
              "      <th>imdb_name_id</th>\n",
              "      <th>category</th>\n",
              "      <th>characters</th>\n",
              "      <th>weighted_average_vote</th>\n",
              "      <th>total_votes</th>\n",
              "      <th>mean_vote</th>\n",
              "      <th>median_vote</th>\n",
              "      <th>votes_10</th>\n",
              "      <th>votes_9</th>\n",
              "      <th>votes_8</th>\n",
              "      <th>votes_7</th>\n",
              "      <th>votes_6</th>\n",
              "      <th>votes_5</th>\n",
              "      <th>votes_4</th>\n",
              "      <th>votes_3</th>\n",
              "      <th>votes_2</th>\n",
              "      <th>votes_1</th>\n",
              "      <th>top1000_voters_rating</th>\n",
              "      <th>top1000_voters_votes</th>\n",
              "      <th>us_voters_rating</th>\n",
              "      <th>us_voters_votes</th>\n",
              "      <th>non_us_voters_rating</th>\n",
              "      <th>non_us_voters_votes</th>\n",
              "      <th>name</th>\n",
              "      <th>birth_name</th>\n",
              "      <th>height</th>\n",
              "      <th>date_of_birth</th>\n",
              "      <th>date_of_death</th>\n",
              "      <th>spouses</th>\n",
              "      <th>divorces</th>\n",
              "      <th>spouses_with_children</th>\n",
              "      <th>children</th>\n",
              "      <th>city of birth</th>\n",
              "      <th>city_of_death</th>\n",
              "    </tr>\n",
              "  </thead>\n",
              "  <tbody>\n",
              "  </tbody>\n",
              "</table>\n",
              "</div>"
            ],
            "text/plain": [
              "Empty DataFrame\n",
              "Columns: [imdb_title_id, title, original_title, year, date_published, genre, duration, country, director, production_company, reviews_from_users, reviews_from_critics, ordering, imdb_name_id, category, characters, weighted_average_vote, total_votes, mean_vote, median_vote, votes_10, votes_9, votes_8, votes_7, votes_6, votes_5, votes_4, votes_3, votes_2, votes_1, top1000_voters_rating, top1000_voters_votes, us_voters_rating, us_voters_votes, non_us_voters_rating, non_us_voters_votes, name, birth_name, height, date_of_birth, date_of_death, spouses, divorces, spouses_with_children, children, city of birth, city_of_death]\n",
              "Index: []"
            ]
          },
          "metadata": {
            "tags": []
          },
          "execution_count": 62
        }
      ]
    },
    {
      "cell_type": "code",
      "metadata": {
        "id": "JRrNZWyt2ysq"
      },
      "source": [
        "all.drop(columns=['date_of_birth','date_of_death'],inplace=True)"
      ],
      "execution_count": null,
      "outputs": []
    },
    {
      "cell_type": "markdown",
      "metadata": {
        "id": "iVHAI7fclK9w"
      },
      "source": [
        "most values were not compliant with any format that could be converted to datetime frame.This information is therefore not relevant for our analysis"
      ]
    },
    {
      "cell_type": "markdown",
      "metadata": {
        "id": "w8NkQRF_mJ4x"
      },
      "source": [
        "####creating a sql table"
      ]
    },
    {
      "cell_type": "code",
      "metadata": {
        "id": "YxXQ4ZQamJLN",
        "outputId": "be08f3a7-1efa-4ecf-f02c-95562932ea8f",
        "colab": {
          "base_uri": "https://localhost:8080/",
          "height": 88
        }
      },
      "source": [
        "sq_all=all\n",
        "%sql drop table if exists sq_all\n",
        "%sql persist sq_all"
      ],
      "execution_count": null,
      "outputs": [
        {
          "output_type": "stream",
          "text": [
            " * sqlite://\n",
            "Done.\n",
            " * sqlite://\n"
          ],
          "name": "stdout"
        },
        {
          "output_type": "execute_result",
          "data": {
            "application/vnd.google.colaboratory.intrinsic+json": {
              "type": "string"
            },
            "text/plain": [
              "'Persisted sq_all'"
            ]
          },
          "metadata": {
            "tags": []
          },
          "execution_count": 66
        }
      ]
    },
    {
      "cell_type": "code",
      "metadata": {
        "id": "Ara6TDJWgxiE",
        "outputId": "920db618-d807-42b7-c837-7338c16047e1",
        "colab": {
          "base_uri": "https://localhost:8080/",
          "height": 480
        }
      },
      "source": [
        "%sql select * from sq_all limit 5"
      ],
      "execution_count": null,
      "outputs": [
        {
          "output_type": "stream",
          "text": [
            " * sqlite://\n",
            "Done.\n"
          ],
          "name": "stdout"
        },
        {
          "output_type": "execute_result",
          "data": {
            "text/html": [
              "<table>\n",
              "    <tr>\n",
              "        <th>index</th>\n",
              "        <th>imdb_title_id</th>\n",
              "        <th>title</th>\n",
              "        <th>original_title</th>\n",
              "        <th>year</th>\n",
              "        <th>date_published</th>\n",
              "        <th>genre</th>\n",
              "        <th>duration</th>\n",
              "        <th>country</th>\n",
              "        <th>director</th>\n",
              "        <th>production_company</th>\n",
              "        <th>reviews_from_users</th>\n",
              "        <th>reviews_from_critics</th>\n",
              "        <th>ordering</th>\n",
              "        <th>imdb_name_id</th>\n",
              "        <th>category</th>\n",
              "        <th>characters</th>\n",
              "        <th>weighted_average_vote</th>\n",
              "        <th>total_votes</th>\n",
              "        <th>mean_vote</th>\n",
              "        <th>median_vote</th>\n",
              "        <th>votes_10</th>\n",
              "        <th>votes_9</th>\n",
              "        <th>votes_8</th>\n",
              "        <th>votes_7</th>\n",
              "        <th>votes_6</th>\n",
              "        <th>votes_5</th>\n",
              "        <th>votes_4</th>\n",
              "        <th>votes_3</th>\n",
              "        <th>votes_2</th>\n",
              "        <th>votes_1</th>\n",
              "        <th>top1000_voters_rating</th>\n",
              "        <th>top1000_voters_votes</th>\n",
              "        <th>us_voters_rating</th>\n",
              "        <th>us_voters_votes</th>\n",
              "        <th>non_us_voters_rating</th>\n",
              "        <th>non_us_voters_votes</th>\n",
              "        <th>name</th>\n",
              "        <th>birth_name</th>\n",
              "        <th>height</th>\n",
              "        <th>spouses</th>\n",
              "        <th>divorces</th>\n",
              "        <th>spouses_with_children</th>\n",
              "        <th>children</th>\n",
              "        <th>city of birth</th>\n",
              "        <th>city_of_death</th>\n",
              "    </tr>\n",
              "    <tr>\n",
              "        <td>0</td>\n",
              "        <td>tt0000009</td>\n",
              "        <td>Miss Jerry</td>\n",
              "        <td>Miss Jerry</td>\n",
              "        <td>1894</td>\n",
              "        <td>1894-10-09 00:00:00.000000</td>\n",
              "        <td>Romance</td>\n",
              "        <td>45</td>\n",
              "        <td>USA</td>\n",
              "        <td>Alexander Black</td>\n",
              "        <td>Alexander Black Photoplays</td>\n",
              "        <td>1.0</td>\n",
              "        <td>2.0</td>\n",
              "        <td>1</td>\n",
              "        <td>nm0063086</td>\n",
              "        <td>actress</td>\n",
              "        <td>Miss Geraldine Holbrook (Miss Jerry)</td>\n",
              "        <td>5.9</td>\n",
              "        <td>154</td>\n",
              "        <td>5.9</td>\n",
              "        <td>6.0</td>\n",
              "        <td>12</td>\n",
              "        <td>4</td>\n",
              "        <td>10</td>\n",
              "        <td>43</td>\n",
              "        <td>28</td>\n",
              "        <td>28</td>\n",
              "        <td>9</td>\n",
              "        <td>1</td>\n",
              "        <td>5</td>\n",
              "        <td>14</td>\n",
              "        <td>5.7</td>\n",
              "        <td>34.0</td>\n",
              "        <td>6.4</td>\n",
              "        <td>51.0</td>\n",
              "        <td>6.0</td>\n",
              "        <td>70.0</td>\n",
              "        <td>Blanche Bayliss</td>\n",
              "        <td>Blanche Bayliss</td>\n",
              "        <td>-</td>\n",
              "        <td>0</td>\n",
              "        <td>0</td>\n",
              "        <td>0</td>\n",
              "        <td>0</td>\n",
              "        <td>Lexington</td>\n",
              "        <td>Forest Hills</td>\n",
              "    </tr>\n",
              "    <tr>\n",
              "        <td>1</td>\n",
              "        <td>tt0000009</td>\n",
              "        <td>Miss Jerry</td>\n",
              "        <td>Miss Jerry</td>\n",
              "        <td>1894</td>\n",
              "        <td>1894-10-09 00:00:00.000000</td>\n",
              "        <td>Romance</td>\n",
              "        <td>45</td>\n",
              "        <td>USA</td>\n",
              "        <td>Alexander Black</td>\n",
              "        <td>Alexander Black Photoplays</td>\n",
              "        <td>1.0</td>\n",
              "        <td>2.0</td>\n",
              "        <td>2</td>\n",
              "        <td>nm0183823</td>\n",
              "        <td>actor</td>\n",
              "        <td>Mr. Hamilton</td>\n",
              "        <td>5.9</td>\n",
              "        <td>154</td>\n",
              "        <td>5.9</td>\n",
              "        <td>6.0</td>\n",
              "        <td>12</td>\n",
              "        <td>4</td>\n",
              "        <td>10</td>\n",
              "        <td>43</td>\n",
              "        <td>28</td>\n",
              "        <td>28</td>\n",
              "        <td>9</td>\n",
              "        <td>1</td>\n",
              "        <td>5</td>\n",
              "        <td>14</td>\n",
              "        <td>5.7</td>\n",
              "        <td>34.0</td>\n",
              "        <td>6.4</td>\n",
              "        <td>51.0</td>\n",
              "        <td>6.0</td>\n",
              "        <td>70.0</td>\n",
              "        <td>William Courtenay</td>\n",
              "        <td>William Hancock Kelly</td>\n",
              "        <td>-</td>\n",
              "        <td>1</td>\n",
              "        <td>0</td>\n",
              "        <td>0</td>\n",
              "        <td>0</td>\n",
              "        <td>Worcester</td>\n",
              "        <td>Rye</td>\n",
              "    </tr>\n",
              "    <tr>\n",
              "        <td>2</td>\n",
              "        <td>tt0020403</td>\n",
              "        <td>Rivista delle nazioni</td>\n",
              "        <td>Show of Shows</td>\n",
              "        <td>1929</td>\n",
              "        <td>1929-12-29 00:00:00.000000</td>\n",
              "        <td>Musical</td>\n",
              "        <td>128</td>\n",
              "        <td>USA</td>\n",
              "        <td>John G. Adolfi</td>\n",
              "        <td>Warner Bros.</td>\n",
              "        <td>27.0</td>\n",
              "        <td>3.0</td>\n",
              "        <td>2</td>\n",
              "        <td>nm0183823</td>\n",
              "        <td>actor</td>\n",
              "        <td>The Minister - Guillotine Sequence</td>\n",
              "        <td>5.8</td>\n",
              "        <td>367</td>\n",
              "        <td>6.4</td>\n",
              "        <td>6.0</td>\n",
              "        <td>49</td>\n",
              "        <td>18</td>\n",
              "        <td>46</td>\n",
              "        <td>53</td>\n",
              "        <td>75</td>\n",
              "        <td>57</td>\n",
              "        <td>33</td>\n",
              "        <td>17</td>\n",
              "        <td>12</td>\n",
              "        <td>7</td>\n",
              "        <td>5.7</td>\n",
              "        <td>71.0</td>\n",
              "        <td>5.8</td>\n",
              "        <td>198.0</td>\n",
              "        <td>5.8</td>\n",
              "        <td>71.0</td>\n",
              "        <td>William Courtenay</td>\n",
              "        <td>William Hancock Kelly</td>\n",
              "        <td>-</td>\n",
              "        <td>1</td>\n",
              "        <td>0</td>\n",
              "        <td>0</td>\n",
              "        <td>0</td>\n",
              "        <td>Worcester</td>\n",
              "        <td>Rye</td>\n",
              "    </tr>\n",
              "    <tr>\n",
              "        <td>3</td>\n",
              "        <td>tt0000009</td>\n",
              "        <td>Miss Jerry</td>\n",
              "        <td>Miss Jerry</td>\n",
              "        <td>1894</td>\n",
              "        <td>1894-10-09 00:00:00.000000</td>\n",
              "        <td>Romance</td>\n",
              "        <td>45</td>\n",
              "        <td>USA</td>\n",
              "        <td>Alexander Black</td>\n",
              "        <td>Alexander Black Photoplays</td>\n",
              "        <td>1.0</td>\n",
              "        <td>2.0</td>\n",
              "        <td>3</td>\n",
              "        <td>nm1309758</td>\n",
              "        <td>actor</td>\n",
              "        <td>Chauncey Depew - the Director of the New York Central Railroad</td>\n",
              "        <td>5.9</td>\n",
              "        <td>154</td>\n",
              "        <td>5.9</td>\n",
              "        <td>6.0</td>\n",
              "        <td>12</td>\n",
              "        <td>4</td>\n",
              "        <td>10</td>\n",
              "        <td>43</td>\n",
              "        <td>28</td>\n",
              "        <td>28</td>\n",
              "        <td>9</td>\n",
              "        <td>1</td>\n",
              "        <td>5</td>\n",
              "        <td>14</td>\n",
              "        <td>5.7</td>\n",
              "        <td>34.0</td>\n",
              "        <td>6.4</td>\n",
              "        <td>51.0</td>\n",
              "        <td>6.0</td>\n",
              "        <td>70.0</td>\n",
              "        <td>Chauncey Depew</td>\n",
              "        <td>Chauncey Mitchell Depew</td>\n",
              "        <td>-</td>\n",
              "        <td>2</td>\n",
              "        <td>0</td>\n",
              "        <td>1</td>\n",
              "        <td>1</td>\n",
              "        <td>Peekskill</td>\n",
              "        <td>New York City</td>\n",
              "    </tr>\n",
              "    <tr>\n",
              "        <td>4</td>\n",
              "        <td>tt0000009</td>\n",
              "        <td>Miss Jerry</td>\n",
              "        <td>Miss Jerry</td>\n",
              "        <td>1894</td>\n",
              "        <td>1894-10-09 00:00:00.000000</td>\n",
              "        <td>Romance</td>\n",
              "        <td>45</td>\n",
              "        <td>USA</td>\n",
              "        <td>Alexander Black</td>\n",
              "        <td>Alexander Black Photoplays</td>\n",
              "        <td>1.0</td>\n",
              "        <td>2.0</td>\n",
              "        <td>4</td>\n",
              "        <td>nm0085156</td>\n",
              "        <td>director</td>\n",
              "        <td>-</td>\n",
              "        <td>5.9</td>\n",
              "        <td>154</td>\n",
              "        <td>5.9</td>\n",
              "        <td>6.0</td>\n",
              "        <td>12</td>\n",
              "        <td>4</td>\n",
              "        <td>10</td>\n",
              "        <td>43</td>\n",
              "        <td>28</td>\n",
              "        <td>28</td>\n",
              "        <td>9</td>\n",
              "        <td>1</td>\n",
              "        <td>5</td>\n",
              "        <td>14</td>\n",
              "        <td>5.7</td>\n",
              "        <td>34.0</td>\n",
              "        <td>6.4</td>\n",
              "        <td>51.0</td>\n",
              "        <td>6.0</td>\n",
              "        <td>70.0</td>\n",
              "        <td>Alexander Black</td>\n",
              "        <td>Alexander Black</td>\n",
              "        <td>-</td>\n",
              "        <td>0</td>\n",
              "        <td>0</td>\n",
              "        <td>0</td>\n",
              "        <td>0</td>\n",
              "        <td>Brooklyn</td>\n",
              "        <td>New York City</td>\n",
              "    </tr>\n",
              "</table>"
            ],
            "text/plain": [
              "[(0, 'tt0000009', 'Miss Jerry', 'Miss Jerry', '1894', '1894-10-09 00:00:00.000000', 'Romance', 45, 'USA', 'Alexander Black', 'Alexander Black Photoplays', '1.0', '2.0', 1, 'nm0063086', 'actress', 'Miss Geraldine Holbrook (Miss Jerry)', 5.9, 154, 5.9, 6.0, 12, 4, 10, 43, 28, 28, 9, 1, 5, 14, 5.7, 34.0, 6.4, 51.0, 6.0, 70.0, 'Blanche Bayliss', 'Blanche Bayliss', '-', 0, 0, 0, 0, 'Lexington', 'Forest Hills'),\n",
              " (1, 'tt0000009', 'Miss Jerry', 'Miss Jerry', '1894', '1894-10-09 00:00:00.000000', 'Romance', 45, 'USA', 'Alexander Black', 'Alexander Black Photoplays', '1.0', '2.0', 2, 'nm0183823', 'actor', 'Mr. Hamilton', 5.9, 154, 5.9, 6.0, 12, 4, 10, 43, 28, 28, 9, 1, 5, 14, 5.7, 34.0, 6.4, 51.0, 6.0, 70.0, 'William Courtenay', 'William Hancock Kelly', '-', 1, 0, 0, 0, 'Worcester', 'Rye'),\n",
              " (2, 'tt0020403', 'Rivista delle nazioni', 'Show of Shows', '1929', '1929-12-29 00:00:00.000000', 'Musical', 128, 'USA', 'John G. Adolfi', 'Warner Bros.', '27.0', '3.0', 2, 'nm0183823', 'actor', 'The Minister - Guillotine Sequence', 5.8, 367, 6.4, 6.0, 49, 18, 46, 53, 75, 57, 33, 17, 12, 7, 5.7, 71.0, 5.8, 198.0, 5.8, 71.0, 'William Courtenay', 'William Hancock Kelly', '-', 1, 0, 0, 0, 'Worcester', 'Rye'),\n",
              " (3, 'tt0000009', 'Miss Jerry', 'Miss Jerry', '1894', '1894-10-09 00:00:00.000000', 'Romance', 45, 'USA', 'Alexander Black', 'Alexander Black Photoplays', '1.0', '2.0', 3, 'nm1309758', 'actor', 'Chauncey Depew - the Director of the New York Central Railroad', 5.9, 154, 5.9, 6.0, 12, 4, 10, 43, 28, 28, 9, 1, 5, 14, 5.7, 34.0, 6.4, 51.0, 6.0, 70.0, 'Chauncey Depew', 'Chauncey Mitchell Depew', '-', 2, 0, 1, 1, 'Peekskill', 'New York City'),\n",
              " (4, 'tt0000009', 'Miss Jerry', 'Miss Jerry', '1894', '1894-10-09 00:00:00.000000', 'Romance', 45, 'USA', 'Alexander Black', 'Alexander Black Photoplays', '1.0', '2.0', 4, 'nm0085156', 'director', '-', 5.9, 154, 5.9, 6.0, 12, 4, 10, 43, 28, 28, 9, 1, 5, 14, 5.7, 34.0, 6.4, 51.0, 6.0, 70.0, 'Alexander Black', 'Alexander Black', '-', 0, 0, 0, 0, 'Brooklyn', 'New York City')]"
            ]
          },
          "metadata": {
            "tags": []
          },
          "execution_count": 67
        }
      ]
    },
    {
      "cell_type": "markdown",
      "metadata": {
        "id": "6ot2mTIt2yUR"
      },
      "source": [
        "###analysis"
      ]
    },
    {
      "cell_type": "markdown",
      "metadata": {
        "id": "ZkEpDUBmQOvF"
      },
      "source": [
        "####what kind of movies are most successful, in  IMDB website between 2006 and 2020."
      ]
    },
    {
      "cell_type": "code",
      "metadata": {
        "id": "y-Lyu2Z6RU2b",
        "outputId": "7d3d6fe4-7ca6-48de-a434-0bc0b440c21d",
        "colab": {
          "base_uri": "https://localhost:8080/",
          "height": 347
        }
      },
      "source": [
        "needed=all[['imdb_title_id','title','genre','total_votes']][(all['date_published']>='2006')&(all['date_published']<='2020')].drop_duplicates()\n",
        "needed.sort_values(by='total_votes',ascending=False).head(10)"
      ],
      "execution_count": null,
      "outputs": [
        {
          "output_type": "execute_result",
          "data": {
            "text/html": [
              "<div>\n",
              "<style scoped>\n",
              "    .dataframe tbody tr th:only-of-type {\n",
              "        vertical-align: middle;\n",
              "    }\n",
              "\n",
              "    .dataframe tbody tr th {\n",
              "        vertical-align: top;\n",
              "    }\n",
              "\n",
              "    .dataframe thead th {\n",
              "        text-align: right;\n",
              "    }\n",
              "</style>\n",
              "<table border=\"1\" class=\"dataframe\">\n",
              "  <thead>\n",
              "    <tr style=\"text-align: right;\">\n",
              "      <th></th>\n",
              "      <th>imdb_title_id</th>\n",
              "      <th>title</th>\n",
              "      <th>genre</th>\n",
              "      <th>total_votes</th>\n",
              "    </tr>\n",
              "  </thead>\n",
              "  <tbody>\n",
              "    <tr>\n",
              "      <th>78281</th>\n",
              "      <td>tt0468569</td>\n",
              "      <td>Il cavaliere oscuro</td>\n",
              "      <td>Action, Crime, Drama</td>\n",
              "      <td>2241615</td>\n",
              "    </tr>\n",
              "    <tr>\n",
              "      <th>297430</th>\n",
              "      <td>tt1375666</td>\n",
              "      <td>Inception</td>\n",
              "      <td>Action, Adventure, Sci-Fi</td>\n",
              "      <td>2002816</td>\n",
              "    </tr>\n",
              "    <tr>\n",
              "      <th>78282</th>\n",
              "      <td>tt1345836</td>\n",
              "      <td>Il cavaliere oscuro - Il ritorno</td>\n",
              "      <td>Action, Adventure</td>\n",
              "      <td>1480582</td>\n",
              "    </tr>\n",
              "    <tr>\n",
              "      <th>297421</th>\n",
              "      <td>tt0816692</td>\n",
              "      <td>Interstellar</td>\n",
              "      <td>Adventure, Drama, Sci-Fi</td>\n",
              "      <td>1449256</td>\n",
              "    </tr>\n",
              "    <tr>\n",
              "      <th>314427</th>\n",
              "      <td>tt1853728</td>\n",
              "      <td>Django Unchained</td>\n",
              "      <td>Drama, Western</td>\n",
              "      <td>1317856</td>\n",
              "    </tr>\n",
              "    <tr>\n",
              "      <th>213549</th>\n",
              "      <td>tt0848228</td>\n",
              "      <td>The Avengers</td>\n",
              "      <td>Action, Adventure, Sci-Fi</td>\n",
              "      <td>1241220</td>\n",
              "    </tr>\n",
              "    <tr>\n",
              "      <th>314424</th>\n",
              "      <td>tt0361748</td>\n",
              "      <td>Bastardi senza gloria</td>\n",
              "      <td>Adventure, Drama, War</td>\n",
              "      <td>1229958</td>\n",
              "    </tr>\n",
              "    <tr>\n",
              "      <th>134017</th>\n",
              "      <td>tt0407887</td>\n",
              "      <td>The Departed - Il bene e il male</td>\n",
              "      <td>Crime, Drama, Thriller</td>\n",
              "      <td>1159703</td>\n",
              "    </tr>\n",
              "    <tr>\n",
              "      <th>77619</th>\n",
              "      <td>tt0482571</td>\n",
              "      <td>The Prestige</td>\n",
              "      <td>Drama, Mystery, Sci-Fi</td>\n",
              "      <td>1155723</td>\n",
              "    </tr>\n",
              "    <tr>\n",
              "      <th>190558</th>\n",
              "      <td>tt0993846</td>\n",
              "      <td>The Wolf of Wall Street</td>\n",
              "      <td>Biography, Crime, Drama</td>\n",
              "      <td>1141549</td>\n",
              "    </tr>\n",
              "  </tbody>\n",
              "</table>\n",
              "</div>"
            ],
            "text/plain": [
              "       imdb_title_id  ... total_votes\n",
              "78281      tt0468569  ...     2241615\n",
              "297430     tt1375666  ...     2002816\n",
              "78282      tt1345836  ...     1480582\n",
              "297421     tt0816692  ...     1449256\n",
              "314427     tt1853728  ...     1317856\n",
              "213549     tt0848228  ...     1241220\n",
              "314424     tt0361748  ...     1229958\n",
              "134017     tt0407887  ...     1159703\n",
              "77619      tt0482571  ...     1155723\n",
              "190558     tt0993846  ...     1141549\n",
              "\n",
              "[10 rows x 4 columns]"
            ]
          },
          "metadata": {
            "tags": []
          },
          "execution_count": 64
        }
      ]
    },
    {
      "cell_type": "markdown",
      "metadata": {
        "id": "467If4LSoZZ2"
      },
      "source": [
        " we based our success based on total votes made by users"
      ]
    },
    {
      "cell_type": "markdown",
      "metadata": {
        "id": "vLmhosWqql9Q"
      },
      "source": [
        "######actors from the most succsesfull movie since 2006 till present"
      ]
    },
    {
      "cell_type": "code",
      "metadata": {
        "id": "SxFGysWcqH_m",
        "outputId": "ed093790-8ea9-429b-d50b-ede91d77a66f",
        "colab": {
          "base_uri": "https://localhost:8080/",
          "height": 248
        }
      },
      "source": [
        "%sql select name from sq_all where \"imdb_title_id\"=='tt0468569'"
      ],
      "execution_count": null,
      "outputs": [
        {
          "output_type": "stream",
          "text": [
            " * sqlite://\n",
            "Done.\n"
          ],
          "name": "stdout"
        },
        {
          "output_type": "execute_result",
          "data": {
            "text/html": [
              "<table>\n",
              "    <tr>\n",
              "        <th>name</th>\n",
              "    </tr>\n",
              "    <tr>\n",
              "        <td>Bob Kane</td>\n",
              "    </tr>\n",
              "    <tr>\n",
              "        <td>Michael Caine</td>\n",
              "    </tr>\n",
              "    <tr>\n",
              "        <td>Charles Roven</td>\n",
              "    </tr>\n",
              "    <tr>\n",
              "        <td>Christian Bale</td>\n",
              "    </tr>\n",
              "    <tr>\n",
              "        <td>David S. Goyer</td>\n",
              "    </tr>\n",
              "    <tr>\n",
              "        <td>Aaron Eckhart</td>\n",
              "    </tr>\n",
              "    <tr>\n",
              "        <td>Lorne Orleans</td>\n",
              "    </tr>\n",
              "    <tr>\n",
              "        <td>Heath Ledger</td>\n",
              "    </tr>\n",
              "    <tr>\n",
              "        <td>Christopher Nolan</td>\n",
              "    </tr>\n",
              "    <tr>\n",
              "        <td>Jonathan Nolan</td>\n",
              "    </tr>\n",
              "</table>"
            ],
            "text/plain": [
              "[('Bob Kane',),\n",
              " ('Michael Caine',),\n",
              " ('Charles Roven',),\n",
              " ('Christian Bale',),\n",
              " ('David S. Goyer',),\n",
              " ('Aaron Eckhart',),\n",
              " ('Lorne Orleans',),\n",
              " ('Heath Ledger',),\n",
              " ('Christopher Nolan',),\n",
              " ('Jonathan Nolan',)]"
            ]
          },
          "metadata": {
            "tags": []
          },
          "execution_count": 68
        }
      ]
    },
    {
      "cell_type": "markdown",
      "metadata": {
        "id": "Axj54eZE001a"
      },
      "source": [
        "####"
      ]
    },
    {
      "cell_type": "code",
      "metadata": {
        "id": "fSq7obAH1kgg"
      },
      "source": [
        "tst=all[['imdb_title_id','year','weighted_average_vote','total_votes','mean_vote']]"
      ],
      "execution_count": null,
      "outputs": []
    },
    {
      "cell_type": "code",
      "metadata": {
        "id": "-Bs6r62i5MBS",
        "outputId": "fe6c73bb-be16-4d68-9f7c-cce2901cfe90",
        "colab": {
          "base_uri": "https://localhost:8080/",
          "height": 293
        }
      },
      "source": [
        "x=tst.year\n",
        "y=tst.total_votes\n",
        "plt.scatter(x, y, marker='o')"
      ],
      "execution_count": null,
      "outputs": [
        {
          "output_type": "execute_result",
          "data": {
            "text/plain": [
              "<matplotlib.collections.PathCollection at 0x7f7141453c18>"
            ]
          },
          "metadata": {
            "tags": []
          },
          "execution_count": 73
        },
        {
          "output_type": "display_data",
          "data": {
            "image/png": "[encoded data removed]",
            "text/plain": [
              "<Figure size 432x288 with 1 Axes>"
            ]
          },
          "metadata": {
            "tags": [],
            "needs_background": "light"
          }
        }
      ]
    },
    {
      "cell_type": "code",
      "metadata": {
        "id": "0BvFft8x-nXM",
        "outputId": "7dc5e714-bfbe-4e14-cde2-a018e9efb6b9",
        "colab": {
          "base_uri": "https://localhost:8080/",
          "height": 282
        }
      },
      "source": [
        "x=tst.year\n",
        "y=tst.weighted_average_vote\n",
        "plt.scatter(x, y, marker='o')"
      ],
      "execution_count": null,
      "outputs": [
        {
          "output_type": "execute_result",
          "data": {
            "text/plain": [
              "<matplotlib.collections.PathCollection at 0x7f713f90ce80>"
            ]
          },
          "metadata": {
            "tags": []
          },
          "execution_count": 78
        },
        {
          "output_type": "display_data",
          "data": {
            "image/png": "[encoded data removed]",
            "text/plain": [
              "<Figure size 432x288 with 1 Axes>"
            ]
          },
          "metadata": {
            "tags": [],
            "needs_background": "light"
          }
        }
      ]
    },
    {
      "cell_type": "code",
      "metadata": {
        "id": "5_RzLOBlAFCD",
        "outputId": "5594ebc7-d587-4d6c-af82-f7f5bde8c4f1",
        "colab": {
          "base_uri": "https://localhost:8080/",
          "height": 347
        }
      },
      "source": [
        "needed_w=all[['imdb_title_id','title','genre','weighted_average_vote']][(all['date_published']>='2006')&(all['date_published']<='2020')].drop_duplicates()\n",
        "needed_w.sort_values(by='weighted_average_vote',ascending=False).head(10)"
      ],
      "execution_count": null,
      "outputs": [
        {
          "output_type": "execute_result",
          "data": {
            "text/html": [
              "<div>\n",
              "<style scoped>\n",
              "    .dataframe tbody tr th:only-of-type {\n",
              "        vertical-align: middle;\n",
              "    }\n",
              "\n",
              "    .dataframe tbody tr th {\n",
              "        vertical-align: top;\n",
              "    }\n",
              "\n",
              "    .dataframe thead th {\n",
              "        text-align: right;\n",
              "    }\n",
              "</style>\n",
              "<table border=\"1\" class=\"dataframe\">\n",
              "  <thead>\n",
              "    <tr style=\"text-align: right;\">\n",
              "      <th></th>\n",
              "      <th>imdb_title_id</th>\n",
              "      <th>title</th>\n",
              "      <th>genre</th>\n",
              "      <th>weighted_average_vote</th>\n",
              "    </tr>\n",
              "  </thead>\n",
              "  <tbody>\n",
              "    <tr>\n",
              "      <th>288095</th>\n",
              "      <td>tt7822474</td>\n",
              "      <td>Suvarna Sundari</td>\n",
              "      <td>Action, Thriller</td>\n",
              "      <td>9.9</td>\n",
              "    </tr>\n",
              "    <tr>\n",
              "      <th>501236</th>\n",
              "      <td>tt12492650</td>\n",
              "      <td>Ek</td>\n",
              "      <td>Action, Drama</td>\n",
              "      <td>9.8</td>\n",
              "    </tr>\n",
              "    <tr>\n",
              "      <th>288063</th>\n",
              "      <td>tt9008642</td>\n",
              "      <td>Notuku Potu</td>\n",
              "      <td>Horror, Mystery</td>\n",
              "      <td>9.8</td>\n",
              "    </tr>\n",
              "    <tr>\n",
              "      <th>639471</th>\n",
              "      <td>tt1508669</td>\n",
              "      <td>Hopeful Notes</td>\n",
              "      <td>Drama</td>\n",
              "      <td>9.7</td>\n",
              "    </tr>\n",
              "    <tr>\n",
              "      <th>494081</th>\n",
              "      <td>tt8571428</td>\n",
              "      <td>Vaarthakal Ithuvare</td>\n",
              "      <td>Comedy</td>\n",
              "      <td>9.7</td>\n",
              "    </tr>\n",
              "    <tr>\n",
              "      <th>351573</th>\n",
              "      <td>tt2673212</td>\n",
              "      <td>The Best Years</td>\n",
              "      <td>Comedy, Crime, Drama</td>\n",
              "      <td>9.4</td>\n",
              "    </tr>\n",
              "    <tr>\n",
              "      <th>627539</th>\n",
              "      <td>tt6735740</td>\n",
              "      <td>Love in Kilnerry</td>\n",
              "      <td>Comedy</td>\n",
              "      <td>9.3</td>\n",
              "    </tr>\n",
              "    <tr>\n",
              "      <th>633729</th>\n",
              "      <td>tt10218912</td>\n",
              "      <td>As I Am</td>\n",
              "      <td>Drama, Fantasy, Romance</td>\n",
              "      <td>9.3</td>\n",
              "    </tr>\n",
              "    <tr>\n",
              "      <th>650066</th>\n",
              "      <td>tt9610354</td>\n",
              "      <td>Ninnu Thalachi</td>\n",
              "      <td>Comedy, Romance</td>\n",
              "      <td>9.3</td>\n",
              "    </tr>\n",
              "    <tr>\n",
              "      <th>419907</th>\n",
              "      <td>tt8569206</td>\n",
              "      <td>Little Baby</td>\n",
              "      <td>Family</td>\n",
              "      <td>9.2</td>\n",
              "    </tr>\n",
              "  </tbody>\n",
              "</table>\n",
              "</div>"
            ],
            "text/plain": [
              "       imdb_title_id  ... weighted_average_vote\n",
              "288095     tt7822474  ...                   9.9\n",
              "501236    tt12492650  ...                   9.8\n",
              "288063     tt9008642  ...                   9.8\n",
              "639471     tt1508669  ...                   9.7\n",
              "494081     tt8571428  ...                   9.7\n",
              "351573     tt2673212  ...                   9.4\n",
              "627539     tt6735740  ...                   9.3\n",
              "633729    tt10218912  ...                   9.3\n",
              "650066     tt9610354  ...                   9.3\n",
              "419907     tt8569206  ...                   9.2\n",
              "\n",
              "[10 rows x 4 columns]"
            ]
          },
          "metadata": {
            "tags": []
          },
          "execution_count": 79
        }
      ]
    },
    {
      "cell_type": "code",
      "metadata": {
        "id": "qQ1ddFP1BFpy",
        "outputId": "97395efd-93e8-4ebe-a5c4-a7cdc0ef5aa2",
        "colab": {
          "base_uri": "https://localhost:8080/",
          "height": 248
        }
      },
      "source": [
        "%sql select name from sq_all where \"imdb_title_id\"=='tt7822474'"
      ],
      "execution_count": null,
      "outputs": [
        {
          "output_type": "stream",
          "text": [
            " * sqlite://\n",
            "Done.\n"
          ],
          "name": "stdout"
        },
        {
          "output_type": "execute_result",
          "data": {
            "text/html": [
              "<table>\n",
              "    <tr>\n",
              "        <th>name</th>\n",
              "    </tr>\n",
              "    <tr>\n",
              "        <td>Jaya Prada</td>\n",
              "    </tr>\n",
              "    <tr>\n",
              "        <td>Avinash</td>\n",
              "    </tr>\n",
              "    <tr>\n",
              "        <td>Shamna Kasim</td>\n",
              "    </tr>\n",
              "    <tr>\n",
              "        <td>Pudi Prawin</td>\n",
              "    </tr>\n",
              "    <tr>\n",
              "        <td>Sakshi Chaudhary</td>\n",
              "    </tr>\n",
              "    <tr>\n",
              "        <td>Sai Karthik</td>\n",
              "    </tr>\n",
              "    <tr>\n",
              "        <td>Eshwar Yellumahanthi</td>\n",
              "    </tr>\n",
              "    <tr>\n",
              "        <td>Avantika Vandanapu</td>\n",
              "    </tr>\n",
              "    <tr>\n",
              "        <td>Msn Surya</td>\n",
              "    </tr>\n",
              "    <tr>\n",
              "        <td>M.l.Lakshmi</td>\n",
              "    </tr>\n",
              "</table>"
            ],
            "text/plain": [
              "[('Jaya Prada',),\n",
              " ('Avinash',),\n",
              " ('Shamna Kasim',),\n",
              " ('Pudi Prawin',),\n",
              " ('Sakshi Chaudhary',),\n",
              " ('Sai Karthik',),\n",
              " ('Eshwar Yellumahanthi',),\n",
              " ('Avantika Vandanapu',),\n",
              " ('Msn Surya',),\n",
              " ('M.l.Lakshmi',)]"
            ]
          },
          "metadata": {
            "tags": []
          },
          "execution_count": 80
        }
      ]
    },
    {
      "cell_type": "markdown",
      "metadata": {
        "id": "N6Go4jft86SO"
      },
      "source": [
        "####Which year has the highest release of movies?"
      ]
    },
    {
      "cell_type": "code",
      "metadata": {
        "id": "xxxueBKj87tR",
        "outputId": "b22c9b0d-2a1f-40fb-80e1-7f9904719123",
        "colab": {
          "base_uri": "https://localhost:8080/",
          "height": 420
        }
      },
      "source": [
        "yr=all[['year','imdb_title_id']].drop_duplicates()\n",
        "yrr=yr.pivot_table(index='year',values='imdb_title_id',aggfunc='count')\n",
        "yrr.sort_values(by='imdb_title_id',ascending=False)"
      ],
      "execution_count": null,
      "outputs": [
        {
          "output_type": "execute_result",
          "data": {
            "text/html": [
              "<div>\n",
              "<style scoped>\n",
              "    .dataframe tbody tr th:only-of-type {\n",
              "        vertical-align: middle;\n",
              "    }\n",
              "\n",
              "    .dataframe tbody tr th {\n",
              "        vertical-align: top;\n",
              "    }\n",
              "\n",
              "    .dataframe thead th {\n",
              "        text-align: right;\n",
              "    }\n",
              "</style>\n",
              "<table border=\"1\" class=\"dataframe\">\n",
              "  <thead>\n",
              "    <tr style=\"text-align: right;\">\n",
              "      <th></th>\n",
              "      <th>imdb_title_id</th>\n",
              "    </tr>\n",
              "    <tr>\n",
              "      <th>year</th>\n",
              "      <th></th>\n",
              "    </tr>\n",
              "  </thead>\n",
              "  <tbody>\n",
              "    <tr>\n",
              "      <th>2017</th>\n",
              "      <td>3328</td>\n",
              "    </tr>\n",
              "    <tr>\n",
              "      <th>2018</th>\n",
              "      <td>3257</td>\n",
              "    </tr>\n",
              "    <tr>\n",
              "      <th>2016</th>\n",
              "      <td>3137</td>\n",
              "    </tr>\n",
              "    <tr>\n",
              "      <th>2015</th>\n",
              "      <td>2977</td>\n",
              "    </tr>\n",
              "    <tr>\n",
              "      <th>2014</th>\n",
              "      <td>2939</td>\n",
              "    </tr>\n",
              "    <tr>\n",
              "      <th>...</th>\n",
              "      <td>...</td>\n",
              "    </tr>\n",
              "    <tr>\n",
              "      <th>1913</th>\n",
              "      <td>13</td>\n",
              "    </tr>\n",
              "    <tr>\n",
              "      <th>1911</th>\n",
              "      <td>5</td>\n",
              "    </tr>\n",
              "    <tr>\n",
              "      <th>1912</th>\n",
              "      <td>5</td>\n",
              "    </tr>\n",
              "    <tr>\n",
              "      <th>1906</th>\n",
              "      <td>1</td>\n",
              "    </tr>\n",
              "    <tr>\n",
              "      <th>1894</th>\n",
              "      <td>1</td>\n",
              "    </tr>\n",
              "  </tbody>\n",
              "</table>\n",
              "<p>112 rows × 1 columns</p>\n",
              "</div>"
            ],
            "text/plain": [
              "      imdb_title_id\n",
              "year               \n",
              "2017           3328\n",
              "2018           3257\n",
              "2016           3137\n",
              "2015           2977\n",
              "2014           2939\n",
              "...             ...\n",
              "1913             13\n",
              "1911              5\n",
              "1912              5\n",
              "1906              1\n",
              "1894              1\n",
              "\n",
              "[112 rows x 1 columns]"
            ]
          },
          "metadata": {
            "tags": []
          },
          "execution_count": 265
        }
      ]
    },
    {
      "cell_type": "code",
      "metadata": {
        "id": "zic1FpAGwHkr",
        "outputId": "edabc13a-e8a7-449d-8b59-d2cfd85b2bef",
        "colab": {
          "base_uri": "https://localhost:8080/",
          "height": 296
        }
      },
      "source": [
        "yrr.plot(kind='line')"
      ],
      "execution_count": null,
      "outputs": [
        {
          "output_type": "execute_result",
          "data": {
            "text/plain": [
              "<matplotlib.axes._subplots.AxesSubplot at 0x7f1b4e89ca20>"
            ]
          },
          "metadata": {
            "tags": []
          },
          "execution_count": 267
        },
        {
          "output_type": "display_data",
          "data": {
            "image/png": "[encoded data removed]",
            "text/plain": [
              "<Figure size 432x288 with 1 Axes>"
            ]
          },
          "metadata": {
            "tags": [],
            "needs_background": "light"
          }
        }
      ]
    },
    {
      "cell_type": "markdown",
      "metadata": {
        "id": "q17vQ8y8D0J7"
      },
      "source": [
        ""
      ]
    },
    {
      "cell_type": "markdown",
      "metadata": {
        "id": "WRWuM7tZ8yIm"
      },
      "source": [
        "####Which Movie Has The Highest Or Lowest Profit? Top 10 movies which earn highest profit?"
      ]
    },
    {
      "cell_type": "code",
      "metadata": {
        "id": "NKhVcaFF81A4"
      },
      "source": [
        "#we had already droped the columns containing the budget and income columns because they had too many missing values and could not have given us a conclusive results\n",
        "#"
      ],
      "execution_count": null,
      "outputs": []
    },
    {
      "cell_type": "markdown",
      "metadata": {
        "id": "-SRIsJss8vha"
      },
      "source": [
        "####Movie with Highest And Lowest Budget?"
      ]
    },
    {
      "cell_type": "code",
      "metadata": {
        "id": "Rxu-pmZ68xks"
      },
      "source": [
        "#we had already droped the columns containing the budget and income columns because they had too many missing values and could not have given us a conclusive results\n",
        "#"
      ],
      "execution_count": null,
      "outputs": []
    },
    {
      "cell_type": "markdown",
      "metadata": {
        "id": "ufRxVB2Z8oXO"
      },
      "source": [
        "####Which movie made the highest revenue and lowest as well?"
      ]
    },
    {
      "cell_type": "code",
      "metadata": {
        "id": "gYGRygR08s-4"
      },
      "source": [
        "#we had already droped the columns containing the budget and income columns because they had too many missing values and could not have given us a conclusive results\n",
        "#"
      ],
      "execution_count": null,
      "outputs": []
    },
    {
      "cell_type": "markdown",
      "metadata": {
        "id": "YJrStXnl75kK"
      },
      "source": [
        "####Movie with shortest and longest runtime?"
      ]
    },
    {
      "cell_type": "code",
      "metadata": {
        "id": "zta31Q7v8nBy"
      },
      "source": [
        "shrt=all[['imdb_title_id','title','duration']].drop_duplicates()"
      ],
      "execution_count": null,
      "outputs": []
    },
    {
      "cell_type": "code",
      "metadata": {
        "id": "Vh-lGtsdn58O",
        "outputId": "370bfce4-ea4d-4b3f-9c46-4a15d3eb3abe",
        "colab": {
          "base_uri": "https://localhost:8080/",
          "height": 88
        }
      },
      "source": [
        "srt=shrt\n",
        "%sql drop table if exists srt\n",
        "%sql persist srt"
      ],
      "execution_count": null,
      "outputs": [
        {
          "output_type": "stream",
          "text": [
            " * sqlite://\n",
            "Done.\n",
            " * sqlite://\n"
          ],
          "name": "stdout"
        },
        {
          "output_type": "execute_result",
          "data": {
            "application/vnd.google.colaboratory.intrinsic+json": {
              "type": "string"
            },
            "text/plain": [
              "'Persisted srt'"
            ]
          },
          "metadata": {
            "tags": []
          },
          "execution_count": 192
        }
      ]
    },
    {
      "cell_type": "code",
      "metadata": {
        "id": "dTN5iOKNoD5z",
        "outputId": "04e805b0-ec54-4da9-ce3b-ad048340e64b",
        "colab": {
          "base_uri": "https://localhost:8080/",
          "height": 88
        }
      },
      "source": [
        "%sql select title,min(duration) from srt"
      ],
      "execution_count": null,
      "outputs": [
        {
          "output_type": "stream",
          "text": [
            " * sqlite://\n",
            "Done.\n"
          ],
          "name": "stdout"
        },
        {
          "output_type": "execute_result",
          "data": {
            "text/html": [
              "<table>\n",
              "    <tr>\n",
              "        <th>title</th>\n",
              "        <th>min(duration)</th>\n",
              "    </tr>\n",
              "    <tr>\n",
              "        <td>Dragon Ball Z: La vendetta divina</td>\n",
              "        <td>41</td>\n",
              "    </tr>\n",
              "</table>"
            ],
            "text/plain": [
              "[('Dragon Ball Z: La vendetta divina', 41)]"
            ]
          },
          "metadata": {
            "tags": []
          },
          "execution_count": 193
        }
      ]
    },
    {
      "cell_type": "code",
      "metadata": {
        "id": "VMNPAJBIpMcG",
        "outputId": "49c50f48-c3c9-4708-dd06-8d6f9ca616d6",
        "colab": {
          "base_uri": "https://localhost:8080/",
          "height": 88
        }
      },
      "source": [
        "%sql select title,max(duration) from srt"
      ],
      "execution_count": null,
      "outputs": [
        {
          "output_type": "stream",
          "text": [
            " * sqlite://\n",
            "Done.\n"
          ],
          "name": "stdout"
        },
        {
          "output_type": "execute_result",
          "data": {
            "text/html": [
              "<table>\n",
              "    <tr>\n",
              "        <th>title</th>\n",
              "        <th>max(duration)</th>\n",
              "    </tr>\n",
              "    <tr>\n",
              "        <td>La flor</td>\n",
              "        <td>808</td>\n",
              "    </tr>\n",
              "</table>"
            ],
            "text/plain": [
              "[('La flor', 808)]"
            ]
          },
          "metadata": {
            "tags": []
          },
          "execution_count": 198
        }
      ]
    },
    {
      "cell_type": "markdown",
      "metadata": {
        "id": "-GETKKW_pThm"
      },
      "source": [
        "sql is more accurate in picking precise values\n",
        "\n",
        "in this pandas insatance we realised it picked the minimum of all columns instead of the minimum in the necesary column"
      ]
    },
    {
      "cell_type": "code",
      "metadata": {
        "id": "2-ueIK2xDGEM",
        "outputId": "3d222cbf-e37e-4512-c8e4-356bf17f9e1d",
        "colab": {
          "base_uri": "https://localhost:8080/",
          "height": 87
        }
      },
      "source": [
        "shrt.min()"
      ],
      "execution_count": null,
      "outputs": [
        {
          "output_type": "execute_result",
          "data": {
            "text/plain": [
              "imdb_title_id    tt0000009\n",
              "title             \"Giliap\"\n",
              "duration                41\n",
              "dtype: object"
            ]
          },
          "metadata": {
            "tags": []
          },
          "execution_count": 196
        }
      ]
    },
    {
      "cell_type": "code",
      "metadata": {
        "id": "uPCwMVnkDKjJ",
        "outputId": "7d8ae99e-a781-4572-ca18-abdd9c132922",
        "colab": {
          "base_uri": "https://localhost:8080/",
          "height": 87
        }
      },
      "source": [
        "shrt.max()"
      ],
      "execution_count": null,
      "outputs": [
        {
          "output_type": "execute_result",
          "data": {
            "text/plain": [
              "imdb_title_id    tt9914942\n",
              "title               ärtico\n",
              "duration               808\n",
              "dtype: object"
            ]
          },
          "metadata": {
            "tags": []
          },
          "execution_count": 86
        }
      ]
    },
    {
      "cell_type": "markdown",
      "metadata": {
        "id": "olFNGkes7Lzq"
      },
      "source": [
        "####Which movie get the highest or lowest votes (Ratings)."
      ]
    },
    {
      "cell_type": "code",
      "metadata": {
        "id": "TYiQDPUD7fc6",
        "outputId": "a25b5fef-77c2-49c5-a1e2-e48aedcf04fc",
        "colab": {
          "base_uri": "https://localhost:8080/",
          "height": 105
        }
      },
      "source": [
        "needed_w.max()"
      ],
      "execution_count": null,
      "outputs": [
        {
          "output_type": "execute_result",
          "data": {
            "text/plain": [
              "imdb_title_id            tt9914286\n",
              "title                       ärtico\n",
              "genre                      Western\n",
              "weighted_average_vote          9.9\n",
              "dtype: object"
            ]
          },
          "metadata": {
            "tags": []
          },
          "execution_count": 184
        }
      ]
    },
    {
      "cell_type": "code",
      "metadata": {
        "id": "FphqS_LrkDXp",
        "outputId": "92653a4e-cd86-441a-881d-e53b28f64119",
        "colab": {
          "base_uri": "https://localhost:8080/",
          "height": 105
        }
      },
      "source": [
        "needed_w.min()"
      ],
      "execution_count": null,
      "outputs": [
        {
          "output_type": "execute_result",
          "data": {
            "text/plain": [
              "imdb_title_id                        tt0013579\n",
              "title                    #73, Shaanthi Nivaasa\n",
              "genre                                   Action\n",
              "weighted_average_vote                        1\n",
              "dtype: object"
            ]
          },
          "metadata": {
            "tags": []
          },
          "execution_count": 185
        }
      ]
    },
    {
      "cell_type": "markdown",
      "metadata": {
        "id": "DiQC_7wn7Hx5"
      },
      "source": [
        "####Which Year Has The Highest Profit Rate?"
      ]
    },
    {
      "cell_type": "code",
      "metadata": {
        "id": "VRwdyULZ7LNp"
      },
      "source": [
        "#we had already droped the columns containing the budget and income columns because they had too many missing values and could not have given us a conclusive results\n",
        "#"
      ],
      "execution_count": null,
      "outputs": []
    },
    {
      "cell_type": "markdown",
      "metadata": {
        "id": "hoeR2pta7DaG"
      },
      "source": [
        "####Which length of movies most liked by the audiences according to their popularity?"
      ]
    },
    {
      "cell_type": "code",
      "metadata": {
        "id": "dzTv6JLq7HYK",
        "outputId": "629b3d83-00af-415d-dbf8-4bb77a938a41",
        "colab": {
          "base_uri": "https://localhost:8080/",
          "height": 436
        }
      },
      "source": [
        "lng=all[['title','duration','weighted_average_vote']].drop_duplicates()\n",
        "lng.groupby('duration').count()"
      ],
      "execution_count": null,
      "outputs": [
        {
          "output_type": "execute_result",
          "data": {
            "text/html": [
              "<div>\n",
              "<style scoped>\n",
              "    .dataframe tbody tr th:only-of-type {\n",
              "        vertical-align: middle;\n",
              "    }\n",
              "\n",
              "    .dataframe tbody tr th {\n",
              "        vertical-align: top;\n",
              "    }\n",
              "\n",
              "    .dataframe thead th {\n",
              "        text-align: right;\n",
              "    }\n",
              "</style>\n",
              "<table border=\"1\" class=\"dataframe\">\n",
              "  <thead>\n",
              "    <tr style=\"text-align: right;\">\n",
              "      <th></th>\n",
              "      <th>title</th>\n",
              "      <th>weighted_average_vote</th>\n",
              "    </tr>\n",
              "    <tr>\n",
              "      <th>duration</th>\n",
              "      <th></th>\n",
              "      <th></th>\n",
              "    </tr>\n",
              "  </thead>\n",
              "  <tbody>\n",
              "    <tr>\n",
              "      <th>41</th>\n",
              "      <td>1</td>\n",
              "      <td>1</td>\n",
              "    </tr>\n",
              "    <tr>\n",
              "      <th>42</th>\n",
              "      <td>1</td>\n",
              "      <td>1</td>\n",
              "    </tr>\n",
              "    <tr>\n",
              "      <th>43</th>\n",
              "      <td>1</td>\n",
              "      <td>1</td>\n",
              "    </tr>\n",
              "    <tr>\n",
              "      <th>44</th>\n",
              "      <td>1</td>\n",
              "      <td>1</td>\n",
              "    </tr>\n",
              "    <tr>\n",
              "      <th>45</th>\n",
              "      <td>62</td>\n",
              "      <td>62</td>\n",
              "    </tr>\n",
              "    <tr>\n",
              "      <th>...</th>\n",
              "      <td>...</td>\n",
              "      <td>...</td>\n",
              "    </tr>\n",
              "    <tr>\n",
              "      <th>540</th>\n",
              "      <td>3</td>\n",
              "      <td>3</td>\n",
              "    </tr>\n",
              "    <tr>\n",
              "      <th>570</th>\n",
              "      <td>1</td>\n",
              "      <td>1</td>\n",
              "    </tr>\n",
              "    <tr>\n",
              "      <th>580</th>\n",
              "      <td>1</td>\n",
              "      <td>1</td>\n",
              "    </tr>\n",
              "    <tr>\n",
              "      <th>729</th>\n",
              "      <td>1</td>\n",
              "      <td>1</td>\n",
              "    </tr>\n",
              "    <tr>\n",
              "      <th>808</th>\n",
              "      <td>1</td>\n",
              "      <td>1</td>\n",
              "    </tr>\n",
              "  </tbody>\n",
              "</table>\n",
              "<p>266 rows × 2 columns</p>\n",
              "</div>"
            ],
            "text/plain": [
              "          title  weighted_average_vote\n",
              "duration                              \n",
              "41            1                      1\n",
              "42            1                      1\n",
              "43            1                      1\n",
              "44            1                      1\n",
              "45           62                     62\n",
              "...         ...                    ...\n",
              "540           3                      3\n",
              "570           1                      1\n",
              "580           1                      1\n",
              "729           1                      1\n",
              "808           1                      1\n",
              "\n",
              "[266 rows x 2 columns]"
            ]
          },
          "metadata": {
            "tags": []
          },
          "execution_count": 116
        }
      ]
    },
    {
      "cell_type": "markdown",
      "metadata": {
        "id": "z-lHcrqM63I3"
      },
      "source": [
        "####Average Runtime Of Movies From Year To Year?"
      ]
    },
    {
      "cell_type": "code",
      "metadata": {
        "id": "GPzh-BXi7Cei",
        "outputId": "dc8826e9-8183-4562-d56b-3dd3ecd0df1a",
        "colab": {
          "base_uri": "https://localhost:8080/",
          "height": 436
        }
      },
      "source": [
        "rntm=all[['title','year','duration']].drop_duplicates()\n",
        "av_rn=rntm.pivot_table(index='year',values='duration',aggfunc='mean')\n",
        "av_rn"
      ],
      "execution_count": null,
      "outputs": [
        {
          "output_type": "execute_result",
          "data": {
            "text/html": [
              "<div>\n",
              "<style scoped>\n",
              "    .dataframe tbody tr th:only-of-type {\n",
              "        vertical-align: middle;\n",
              "    }\n",
              "\n",
              "    .dataframe tbody tr th {\n",
              "        vertical-align: top;\n",
              "    }\n",
              "\n",
              "    .dataframe thead th {\n",
              "        text-align: right;\n",
              "    }\n",
              "</style>\n",
              "<table border=\"1\" class=\"dataframe\">\n",
              "  <thead>\n",
              "    <tr style=\"text-align: right;\">\n",
              "      <th></th>\n",
              "      <th>duration</th>\n",
              "    </tr>\n",
              "    <tr>\n",
              "      <th>year</th>\n",
              "      <th></th>\n",
              "    </tr>\n",
              "  </thead>\n",
              "  <tbody>\n",
              "    <tr>\n",
              "      <th>1894</th>\n",
              "      <td>45.000000</td>\n",
              "    </tr>\n",
              "    <tr>\n",
              "      <th>1906</th>\n",
              "      <td>70.000000</td>\n",
              "    </tr>\n",
              "    <tr>\n",
              "      <th>1911</th>\n",
              "      <td>70.200000</td>\n",
              "    </tr>\n",
              "    <tr>\n",
              "      <th>1912</th>\n",
              "      <td>76.000000</td>\n",
              "    </tr>\n",
              "    <tr>\n",
              "      <th>1913</th>\n",
              "      <td>86.230769</td>\n",
              "    </tr>\n",
              "    <tr>\n",
              "      <th>...</th>\n",
              "      <td>...</td>\n",
              "    </tr>\n",
              "    <tr>\n",
              "      <th>2016</th>\n",
              "      <td>102.092126</td>\n",
              "    </tr>\n",
              "    <tr>\n",
              "      <th>2017</th>\n",
              "      <td>102.278846</td>\n",
              "    </tr>\n",
              "    <tr>\n",
              "      <th>2018</th>\n",
              "      <td>103.385749</td>\n",
              "    </tr>\n",
              "    <tr>\n",
              "      <th>2019</th>\n",
              "      <td>105.261972</td>\n",
              "    </tr>\n",
              "    <tr>\n",
              "      <th>2020</th>\n",
              "      <td>104.635324</td>\n",
              "    </tr>\n",
              "  </tbody>\n",
              "</table>\n",
              "<p>112 rows × 1 columns</p>\n",
              "</div>"
            ],
            "text/plain": [
              "        duration\n",
              "year            \n",
              "1894   45.000000\n",
              "1906   70.000000\n",
              "1911   70.200000\n",
              "1912   76.000000\n",
              "1913   86.230769\n",
              "...          ...\n",
              "2016  102.092126\n",
              "2017  102.278846\n",
              "2018  103.385749\n",
              "2019  105.261972\n",
              "2020  104.635324\n",
              "\n",
              "[112 rows x 1 columns]"
            ]
          },
          "metadata": {
            "tags": []
          },
          "execution_count": 96
        }
      ]
    },
    {
      "cell_type": "code",
      "metadata": {
        "id": "Fd47TpTdGenQ",
        "outputId": "ad80076d-bcfd-4a42-9265-38a8e97fde5d",
        "colab": {
          "base_uri": "https://localhost:8080/",
          "height": 296
        }
      },
      "source": [
        "av_rn.plot(kind='line')"
      ],
      "execution_count": null,
      "outputs": [
        {
          "output_type": "execute_result",
          "data": {
            "text/plain": [
              "<matplotlib.axes._subplots.AxesSubplot at 0x7f7136c219e8>"
            ]
          },
          "metadata": {
            "tags": []
          },
          "execution_count": 98
        },
        {
          "output_type": "display_data",
          "data": {
            "image/png": "[encoded data removed]",
            "text/plain": [
              "<Figure size 432x288 with 1 Axes>"
            ]
          },
          "metadata": {
            "tags": [],
            "needs_background": "light"
          }
        }
      ]
    },
    {
      "cell_type": "markdown",
      "metadata": {
        "id": "tAHQDA1p6yRq"
      },
      "source": [
        "####Which Genre Has The Highest Release Of Movies?"
      ]
    },
    {
      "cell_type": "code",
      "metadata": {
        "id": "my2K86nsMZxk",
        "outputId": "fb1828a0-dd81-4c5b-9a88-ad41c98cadc9",
        "colab": {
          "base_uri": "https://localhost:8080/",
          "height": 105
        }
      },
      "source": [
        "all.genre.describe()"
      ],
      "execution_count": null,
      "outputs": [
        {
          "output_type": "execute_result",
          "data": {
            "text/plain": [
              "count     835483\n",
              "unique      1257\n",
              "top        Drama\n",
              "freq      121259\n",
              "Name: genre, dtype: object"
            ]
          },
          "metadata": {
            "tags": []
          },
          "execution_count": 123
        }
      ]
    },
    {
      "cell_type": "code",
      "metadata": {
        "id": "cXydKZcI6xHM",
        "outputId": "6bdcd3b1-cb2d-46d1-ea66-b2904c5e7c2b",
        "colab": {
          "base_uri": "https://localhost:8080/",
          "height": 677
        }
      },
      "source": [
        "prod_C=all[['imdb_title_id','genre']].drop_duplicates()\n",
        "prod_C.groupby('genre').count().sort_values(by='imdb_title_id',ascending=False).head(20)"
      ],
      "execution_count": null,
      "outputs": [
        {
          "output_type": "execute_result",
          "data": {
            "text/html": [
              "<div>\n",
              "<style scoped>\n",
              "    .dataframe tbody tr th:only-of-type {\n",
              "        vertical-align: middle;\n",
              "    }\n",
              "\n",
              "    .dataframe tbody tr th {\n",
              "        vertical-align: top;\n",
              "    }\n",
              "\n",
              "    .dataframe thead th {\n",
              "        text-align: right;\n",
              "    }\n",
              "</style>\n",
              "<table border=\"1\" class=\"dataframe\">\n",
              "  <thead>\n",
              "    <tr style=\"text-align: right;\">\n",
              "      <th></th>\n",
              "      <th>imdb_title_id</th>\n",
              "    </tr>\n",
              "    <tr>\n",
              "      <th>genre</th>\n",
              "      <th></th>\n",
              "    </tr>\n",
              "  </thead>\n",
              "  <tbody>\n",
              "    <tr>\n",
              "      <th>Drama</th>\n",
              "      <td>12540</td>\n",
              "    </tr>\n",
              "    <tr>\n",
              "      <th>Comedy</th>\n",
              "      <td>7690</td>\n",
              "    </tr>\n",
              "    <tr>\n",
              "      <th>Comedy, Drama</th>\n",
              "      <td>4039</td>\n",
              "    </tr>\n",
              "    <tr>\n",
              "      <th>Drama, Romance</th>\n",
              "      <td>3455</td>\n",
              "    </tr>\n",
              "    <tr>\n",
              "      <th>Comedy, Romance</th>\n",
              "      <td>2508</td>\n",
              "    </tr>\n",
              "    <tr>\n",
              "      <th>Comedy, Drama, Romance</th>\n",
              "      <td>2293</td>\n",
              "    </tr>\n",
              "    <tr>\n",
              "      <th>Horror</th>\n",
              "      <td>2268</td>\n",
              "    </tr>\n",
              "    <tr>\n",
              "      <th>Drama, Thriller</th>\n",
              "      <td>1348</td>\n",
              "    </tr>\n",
              "    <tr>\n",
              "      <th>Crime, Drama</th>\n",
              "      <td>1343</td>\n",
              "    </tr>\n",
              "    <tr>\n",
              "      <th>Action, Crime, Drama</th>\n",
              "      <td>1310</td>\n",
              "    </tr>\n",
              "    <tr>\n",
              "      <th>Thriller</th>\n",
              "      <td>1245</td>\n",
              "    </tr>\n",
              "    <tr>\n",
              "      <th>Horror, Thriller</th>\n",
              "      <td>1214</td>\n",
              "    </tr>\n",
              "    <tr>\n",
              "      <th>Crime, Drama, Thriller</th>\n",
              "      <td>1021</td>\n",
              "    </tr>\n",
              "    <tr>\n",
              "      <th>Action, Drama</th>\n",
              "      <td>881</td>\n",
              "    </tr>\n",
              "    <tr>\n",
              "      <th>Drama, War</th>\n",
              "      <td>761</td>\n",
              "    </tr>\n",
              "    <tr>\n",
              "      <th>Action</th>\n",
              "      <td>715</td>\n",
              "    </tr>\n",
              "    <tr>\n",
              "      <th>Crime, Drama, Mystery</th>\n",
              "      <td>667</td>\n",
              "    </tr>\n",
              "    <tr>\n",
              "      <th>Action, Adventure, Drama</th>\n",
              "      <td>608</td>\n",
              "    </tr>\n",
              "    <tr>\n",
              "      <th>Action, Adventure, Comedy</th>\n",
              "      <td>606</td>\n",
              "    </tr>\n",
              "    <tr>\n",
              "      <th>Comedy, Crime</th>\n",
              "      <td>592</td>\n",
              "    </tr>\n",
              "  </tbody>\n",
              "</table>\n",
              "</div>"
            ],
            "text/plain": [
              "                           imdb_title_id\n",
              "genre                                   \n",
              "Drama                              12540\n",
              "Comedy                              7690\n",
              "Comedy, Drama                       4039\n",
              "Drama, Romance                      3455\n",
              "Comedy, Romance                     2508\n",
              "Comedy, Drama, Romance              2293\n",
              "Horror                              2268\n",
              "Drama, Thriller                     1348\n",
              "Crime, Drama                        1343\n",
              "Action, Crime, Drama                1310\n",
              "Thriller                            1245\n",
              "Horror, Thriller                    1214\n",
              "Crime, Drama, Thriller              1021\n",
              "Action, Drama                        881\n",
              "Drama, War                           761\n",
              "Action                               715\n",
              "Crime, Drama, Mystery                667\n",
              "Action, Adventure, Drama             608\n",
              "Action, Adventure, Comedy            606\n",
              "Comedy, Crime                        592"
            ]
          },
          "metadata": {
            "tags": []
          },
          "execution_count": 128
        }
      ]
    },
    {
      "cell_type": "code",
      "metadata": {
        "id": "4j3Yr1rbPQDi",
        "outputId": "071def2f-b237-4ea2-9a63-07fe84a180a2",
        "colab": {
          "base_uri": "https://localhost:8080/",
          "height": 87
        }
      },
      "source": [
        "all[['genre1','genre2','genre3']].count()"
      ],
      "execution_count": null,
      "outputs": [
        {
          "output_type": "execute_result",
          "data": {
            "text/plain": [
              "genre1    835483\n",
              "genre2    574265\n",
              "genre3    305782\n",
              "dtype: int64"
            ]
          },
          "metadata": {
            "tags": []
          },
          "execution_count": 113
        }
      ]
    },
    {
      "cell_type": "code",
      "metadata": {
        "id": "s02R0OU_QHKx",
        "outputId": "d5043f7e-6ede-4ba4-a633-fb24212579cb",
        "colab": {
          "base_uri": "https://localhost:8080/",
          "height": 767
        }
      },
      "source": [
        "ln=all[['imdb_title_id','genre1','genre2','genre3']].drop_duplicates()\n",
        "kln=ln.groupby('genre1').count()\n",
        "kln['total']=kln['imdb_title_id']+kln['genre2']+kln['genre3']\n",
        "#kln.drop(columns=['imdb_title_id','genre2','genre3'],inplace=True)\n",
        "kln.sort_values(by='total',ascending=False)"
      ],
      "execution_count": null,
      "outputs": [
        {
          "output_type": "execute_result",
          "data": {
            "text/html": [
              "<div>\n",
              "<style scoped>\n",
              "    .dataframe tbody tr th:only-of-type {\n",
              "        vertical-align: middle;\n",
              "    }\n",
              "\n",
              "    .dataframe tbody tr th {\n",
              "        vertical-align: top;\n",
              "    }\n",
              "\n",
              "    .dataframe thead th {\n",
              "        text-align: right;\n",
              "    }\n",
              "</style>\n",
              "<table border=\"1\" class=\"dataframe\">\n",
              "  <thead>\n",
              "    <tr style=\"text-align: right;\">\n",
              "      <th></th>\n",
              "      <th>total</th>\n",
              "    </tr>\n",
              "    <tr>\n",
              "      <th>genre1</th>\n",
              "      <th></th>\n",
              "    </tr>\n",
              "  </thead>\n",
              "  <tbody>\n",
              "    <tr>\n",
              "      <th>Comedy</th>\n",
              "      <td>48002</td>\n",
              "    </tr>\n",
              "    <tr>\n",
              "      <th>Drama</th>\n",
              "      <td>42825</td>\n",
              "    </tr>\n",
              "    <tr>\n",
              "      <th>Action</th>\n",
              "      <td>32268</td>\n",
              "    </tr>\n",
              "    <tr>\n",
              "      <th>Crime</th>\n",
              "      <td>14490</td>\n",
              "    </tr>\n",
              "    <tr>\n",
              "      <th>Adventure</th>\n",
              "      <td>9366</td>\n",
              "    </tr>\n",
              "    <tr>\n",
              "      <th>Horror</th>\n",
              "      <td>8936</td>\n",
              "    </tr>\n",
              "    <tr>\n",
              "      <th>Animation</th>\n",
              "      <td>5905</td>\n",
              "    </tr>\n",
              "    <tr>\n",
              "      <th>Biography</th>\n",
              "      <td>5530</td>\n",
              "    </tr>\n",
              "    <tr>\n",
              "      <th>Thriller</th>\n",
              "      <td>1540</td>\n",
              "    </tr>\n",
              "    <tr>\n",
              "      <th>Fantasy</th>\n",
              "      <td>1164</td>\n",
              "    </tr>\n",
              "    <tr>\n",
              "      <th>Mystery</th>\n",
              "      <td>1161</td>\n",
              "    </tr>\n",
              "    <tr>\n",
              "      <th>Romance</th>\n",
              "      <td>1155</td>\n",
              "    </tr>\n",
              "    <tr>\n",
              "      <th>Family</th>\n",
              "      <td>1120</td>\n",
              "    </tr>\n",
              "    <tr>\n",
              "      <th>Western</th>\n",
              "      <td>651</td>\n",
              "    </tr>\n",
              "    <tr>\n",
              "      <th>Musical</th>\n",
              "      <td>596</td>\n",
              "    </tr>\n",
              "    <tr>\n",
              "      <th>Sci-Fi</th>\n",
              "      <td>594</td>\n",
              "    </tr>\n",
              "    <tr>\n",
              "      <th>War</th>\n",
              "      <td>163</td>\n",
              "    </tr>\n",
              "    <tr>\n",
              "      <th>History</th>\n",
              "      <td>150</td>\n",
              "    </tr>\n",
              "    <tr>\n",
              "      <th>Music</th>\n",
              "      <td>140</td>\n",
              "    </tr>\n",
              "    <tr>\n",
              "      <th>Film-Noir</th>\n",
              "      <td>69</td>\n",
              "    </tr>\n",
              "    <tr>\n",
              "      <th>Sport</th>\n",
              "      <td>17</td>\n",
              "    </tr>\n",
              "    <tr>\n",
              "      <th>Adult</th>\n",
              "      <td>6</td>\n",
              "    </tr>\n",
              "    <tr>\n",
              "      <th>Documentary</th>\n",
              "      <td>4</td>\n",
              "    </tr>\n",
              "  </tbody>\n",
              "</table>\n",
              "</div>"
            ],
            "text/plain": [
              "             total\n",
              "genre1            \n",
              "Comedy       48002\n",
              "Drama        42825\n",
              "Action       32268\n",
              "Crime        14490\n",
              "Adventure     9366\n",
              "Horror        8936\n",
              "Animation     5905\n",
              "Biography     5530\n",
              "Thriller      1540\n",
              "Fantasy       1164\n",
              "Mystery       1161\n",
              "Romance       1155\n",
              "Family        1120\n",
              "Western        651\n",
              "Musical        596\n",
              "Sci-Fi         594\n",
              "War            163\n",
              "History        150\n",
              "Music          140\n",
              "Film-Noir       69\n",
              "Sport           17\n",
              "Adult            6\n",
              "Documentary      4"
            ]
          },
          "metadata": {
            "tags": []
          },
          "execution_count": 179
        }
      ]
    },
    {
      "cell_type": "markdown",
      "metadata": {
        "id": "2ysbAe4WTJqN"
      },
      "source": [
        "####Which genres are most popular from year to year?\n"
      ]
    },
    {
      "cell_type": "code",
      "metadata": {
        "id": "YddDU2sqbH2z"
      },
      "source": [
        "dfa = gy.groupby([\"year\"])\n",
        "dfb= dfa.apply(lambda x: x.sort_values(['date']))\n",
        "df6=dfb.reset_index(drop=True)\n",
        "df6.head()\n",
        "df6.groupby('year').tail(1)"
      ],
      "execution_count": null,
      "outputs": []
    },
    {
      "cell_type": "code",
      "metadata": {
        "id": "qUT2e3qfdEWo",
        "outputId": "af342086-406d-4ffb-8d49-f11736a7bd8c",
        "colab": {
          "base_uri": "https://localhost:8080/",
          "height": 436
        }
      },
      "source": [
        "rm=all[['title','year','genre','weighted_average_vote']].drop_duplicates()\n",
        "arn=rm.pivot_table(index=['year','genre'],values='weighted_average_vote',aggfunc='max')\n",
        "arn"
      ],
      "execution_count": null,
      "outputs": [
        {
          "output_type": "execute_result",
          "data": {
            "text/html": [
              "<div>\n",
              "<style scoped>\n",
              "    .dataframe tbody tr th:only-of-type {\n",
              "        vertical-align: middle;\n",
              "    }\n",
              "\n",
              "    .dataframe tbody tr th {\n",
              "        vertical-align: top;\n",
              "    }\n",
              "\n",
              "    .dataframe thead th {\n",
              "        text-align: right;\n",
              "    }\n",
              "</style>\n",
              "<table border=\"1\" class=\"dataframe\">\n",
              "  <thead>\n",
              "    <tr style=\"text-align: right;\">\n",
              "      <th></th>\n",
              "      <th></th>\n",
              "      <th>weighted_average_vote</th>\n",
              "    </tr>\n",
              "    <tr>\n",
              "      <th>year</th>\n",
              "      <th>genre</th>\n",
              "      <th></th>\n",
              "    </tr>\n",
              "  </thead>\n",
              "  <tbody>\n",
              "    <tr>\n",
              "      <th>1894</th>\n",
              "      <th>Romance</th>\n",
              "      <td>5.9</td>\n",
              "    </tr>\n",
              "    <tr>\n",
              "      <th>1906</th>\n",
              "      <th>Biography, Crime, Drama</th>\n",
              "      <td>6.1</td>\n",
              "    </tr>\n",
              "    <tr>\n",
              "      <th rowspan=\"3\" valign=\"top\">1911</th>\n",
              "      <th>Adventure, Drama, Fantasy</th>\n",
              "      <td>7.0</td>\n",
              "    </tr>\n",
              "    <tr>\n",
              "      <th>Drama</th>\n",
              "      <td>5.8</td>\n",
              "    </tr>\n",
              "    <tr>\n",
              "      <th>Drama, War</th>\n",
              "      <td>6.2</td>\n",
              "    </tr>\n",
              "    <tr>\n",
              "      <th>...</th>\n",
              "      <th>...</th>\n",
              "      <td>...</td>\n",
              "    </tr>\n",
              "    <tr>\n",
              "      <th rowspan=\"5\" valign=\"top\">2020</th>\n",
              "      <th>Sci-Fi, Thriller</th>\n",
              "      <td>4.0</td>\n",
              "    </tr>\n",
              "    <tr>\n",
              "      <th>Sport</th>\n",
              "      <td>6.0</td>\n",
              "    </tr>\n",
              "    <tr>\n",
              "      <th>Thriller</th>\n",
              "      <td>7.3</td>\n",
              "    </tr>\n",
              "    <tr>\n",
              "      <th>War</th>\n",
              "      <td>7.2</td>\n",
              "    </tr>\n",
              "    <tr>\n",
              "      <th>Western</th>\n",
              "      <td>6.2</td>\n",
              "    </tr>\n",
              "  </tbody>\n",
              "</table>\n",
              "<p>17204 rows × 1 columns</p>\n",
              "</div>"
            ],
            "text/plain": [
              "                                weighted_average_vote\n",
              "year genre                                           \n",
              "1894 Romance                                      5.9\n",
              "1906 Biography, Crime, Drama                      6.1\n",
              "1911 Adventure, Drama, Fantasy                    7.0\n",
              "     Drama                                        5.8\n",
              "     Drama, War                                   6.2\n",
              "...                                               ...\n",
              "2020 Sci-Fi, Thriller                             4.0\n",
              "     Sport                                        6.0\n",
              "     Thriller                                     7.3\n",
              "     War                                          7.2\n",
              "     Western                                      6.2\n",
              "\n",
              "[17204 rows x 1 columns]"
            ]
          },
          "metadata": {
            "tags": []
          },
          "execution_count": 189
        }
      ]
    },
    {
      "cell_type": "markdown",
      "metadata": {
        "id": "Vvl75mQQYjz8"
      },
      "source": [
        "####most frequent star cast"
      ]
    },
    {
      "cell_type": "code",
      "metadata": {
        "id": "syeu2IzPIpr_",
        "outputId": "8a9eda32-02b4-4da9-e5b2-c09dc305d8a3",
        "colab": {
          "base_uri": "https://localhost:8080/",
          "height": 50
        }
      },
      "source": [
        "%sql select * from sq_all where \"category\"='actress'"
      ],
      "execution_count": null,
      "outputs": [
        {
          "output_type": "stream",
          "text": [
            " * sqlite://\n",
            "Done.\n"
          ],
          "name": "stdout"
        }
      ]
    },
    {
      "cell_type": "code",
      "metadata": {
        "id": "_JnSg6sm01jo",
        "outputId": "b9df9594-0eda-4f99-8b01-e5ca4d505568",
        "colab": {
          "base_uri": "https://localhost:8080/",
          "height": 66
        }
      },
      "source": [
        "all['category'].unique()"
      ],
      "execution_count": null,
      "outputs": [
        {
          "output_type": "execute_result",
          "data": {
            "text/plain": [
              "array(['actress', 'actor', 'director', 'producer', 'composer',\n",
              "       'cinematographer', 'writer', 'production_designer',\n",
              "       'archive_footage', 'self', 'editor', 'archive_sound'], dtype=object)"
            ]
          },
          "metadata": {
            "tags": []
          },
          "execution_count": 160
        }
      ]
    },
    {
      "cell_type": "code",
      "metadata": {
        "id": "afVZ327sYkLg",
        "outputId": "9fc41616-5d77-421b-a2b8-5d7fb6d0771b",
        "colab": {
          "base_uri": "https://localhost:8080/",
          "height": 651
        }
      },
      "source": [
        "star=all[['imdb_name_id','name','imdb_title_id']][(all['category']=='actress')|(all['category']=='actor')].drop_duplicates()\n",
        "star.groupby(['imdb_name_id','name']).count().sort_values(by='imdb_title_id',ascending=False).head(20)"
      ],
      "execution_count": null,
      "outputs": [
        {
          "output_type": "execute_result",
          "data": {
            "text/html": [
              "<div>\n",
              "<style scoped>\n",
              "    .dataframe tbody tr th:only-of-type {\n",
              "        vertical-align: middle;\n",
              "    }\n",
              "\n",
              "    .dataframe tbody tr th {\n",
              "        vertical-align: top;\n",
              "    }\n",
              "\n",
              "    .dataframe thead th {\n",
              "        text-align: right;\n",
              "    }\n",
              "</style>\n",
              "<table border=\"1\" class=\"dataframe\">\n",
              "  <thead>\n",
              "    <tr style=\"text-align: right;\">\n",
              "      <th></th>\n",
              "      <th></th>\n",
              "      <th>imdb_title_id</th>\n",
              "    </tr>\n",
              "    <tr>\n",
              "      <th>imdb_name_id</th>\n",
              "      <th>name</th>\n",
              "      <th></th>\n",
              "    </tr>\n",
              "  </thead>\n",
              "  <tbody>\n",
              "    <tr>\n",
              "      <th>nm0482320</th>\n",
              "      <th>Mohanlal</th>\n",
              "      <td>163</td>\n",
              "    </tr>\n",
              "    <tr>\n",
              "      <th>nm0000821</th>\n",
              "      <th>Amitabh Bachchan</th>\n",
              "      <td>142</td>\n",
              "    </tr>\n",
              "    <tr>\n",
              "      <th>nm0007123</th>\n",
              "      <th>Mammootty</th>\n",
              "      <td>140</td>\n",
              "    </tr>\n",
              "    <tr>\n",
              "      <th>nm0000616</th>\n",
              "      <th>Eric Roberts</th>\n",
              "      <td>133</td>\n",
              "    </tr>\n",
              "    <tr>\n",
              "      <th>nm0000078</th>\n",
              "      <th>John Wayne</th>\n",
              "      <td>132</td>\n",
              "    </tr>\n",
              "    <tr>\n",
              "      <th>nm0000367</th>\n",
              "      <th>Gérard Depardieu</th>\n",
              "      <td>130</td>\n",
              "    </tr>\n",
              "    <tr>\n",
              "      <th>nm0695177</th>\n",
              "      <th>Prakash Raj</th>\n",
              "      <td>125</td>\n",
              "    </tr>\n",
              "    <tr>\n",
              "      <th>nm0474774</th>\n",
              "      <th>Akshay Kumar</th>\n",
              "      <td>115</td>\n",
              "    </tr>\n",
              "    <tr>\n",
              "      <th>nm0000514</th>\n",
              "      <th>Michael Madsen</th>\n",
              "      <td>107</td>\n",
              "    </tr>\n",
              "    <tr>\n",
              "      <th>nm0490489</th>\n",
              "      <th>Andy Lau</th>\n",
              "      <td>102</td>\n",
              "    </tr>\n",
              "    <tr>\n",
              "      <th>nm0000366</th>\n",
              "      <th>Catherine Deneuve</th>\n",
              "      <td>101</td>\n",
              "    </tr>\n",
              "    <tr>\n",
              "      <th>nm0451600</th>\n",
              "      <th>Anupam Kher</th>\n",
              "      <td>99</td>\n",
              "    </tr>\n",
              "    <tr>\n",
              "      <th>nm0103977</th>\n",
              "      <th>Brahmanandam</th>\n",
              "      <td>99</td>\n",
              "    </tr>\n",
              "    <tr>\n",
              "      <th>nm0222426</th>\n",
              "      <th>Ajay Devgn</th>\n",
              "      <td>94</td>\n",
              "    </tr>\n",
              "    <tr>\n",
              "      <th>nm0000323</th>\n",
              "      <th>Michael Caine</th>\n",
              "      <td>94</td>\n",
              "    </tr>\n",
              "    <tr>\n",
              "      <th>nm0000489</th>\n",
              "      <th>Christopher Lee</th>\n",
              "      <td>93</td>\n",
              "    </tr>\n",
              "    <tr>\n",
              "      <th>nm0004569</th>\n",
              "      <th>Sanjay Dutt</th>\n",
              "      <td>88</td>\n",
              "    </tr>\n",
              "    <tr>\n",
              "      <th>nm0000051</th>\n",
              "      <th>James Mason</th>\n",
              "      <td>88</td>\n",
              "    </tr>\n",
              "    <tr>\n",
              "      <th>nm0000063</th>\n",
              "      <th>Anthony Quinn</th>\n",
              "      <td>88</td>\n",
              "    </tr>\n",
              "    <tr>\n",
              "      <th>nm0001376</th>\n",
              "      <th>Isabelle Huppert</th>\n",
              "      <td>87</td>\n",
              "    </tr>\n",
              "  </tbody>\n",
              "</table>\n",
              "</div>"
            ],
            "text/plain": [
              "                                imdb_title_id\n",
              "imdb_name_id name                            \n",
              "nm0482320    Mohanlal                     163\n",
              "nm0000821    Amitabh Bachchan             142\n",
              "nm0007123    Mammootty                    140\n",
              "nm0000616    Eric Roberts                 133\n",
              "nm0000078    John Wayne                   132\n",
              "nm0000367    Gérard Depardieu             130\n",
              "nm0695177    Prakash Raj                  125\n",
              "nm0474774    Akshay Kumar                 115\n",
              "nm0000514    Michael Madsen               107\n",
              "nm0490489    Andy Lau                     102\n",
              "nm0000366    Catherine Deneuve            101\n",
              "nm0451600    Anupam Kher                   99\n",
              "nm0103977    Brahmanandam                  99\n",
              "nm0222426    Ajay Devgn                    94\n",
              "nm0000323    Michael Caine                 94\n",
              "nm0000489    Christopher Lee               93\n",
              "nm0004569    Sanjay Dutt                   88\n",
              "nm0000051    James Mason                   88\n",
              "nm0000063    Anthony Quinn                 88\n",
              "nm0001376    Isabelle Huppert              87"
            ]
          },
          "metadata": {
            "tags": []
          },
          "execution_count": 158
        }
      ]
    },
    {
      "cell_type": "markdown",
      "metadata": {
        "id": "08UjEUD3rHTz"
      },
      "source": [
        "####top 20 production companies with the most releases"
      ]
    },
    {
      "cell_type": "code",
      "metadata": {
        "id": "u4uylBI_rOK3",
        "outputId": "6da743e5-1f8f-4222-8e2a-14210623a7f8",
        "colab": {
          "base_uri": "https://localhost:8080/",
          "height": 651
        }
      },
      "source": [
        "prod_C=all[['title','production_company']].drop_duplicates()\n",
        "prod_C.groupby('production_company').count().sort_values(by='title',ascending=False).head(20)"
      ],
      "execution_count": null,
      "outputs": [
        {
          "output_type": "execute_result",
          "data": {
            "text/html": [
              "<div>\n",
              "<style scoped>\n",
              "    .dataframe tbody tr th:only-of-type {\n",
              "        vertical-align: middle;\n",
              "    }\n",
              "\n",
              "    .dataframe tbody tr th {\n",
              "        vertical-align: top;\n",
              "    }\n",
              "\n",
              "    .dataframe thead th {\n",
              "        text-align: right;\n",
              "    }\n",
              "</style>\n",
              "<table border=\"1\" class=\"dataframe\">\n",
              "  <thead>\n",
              "    <tr style=\"text-align: right;\">\n",
              "      <th></th>\n",
              "      <th>title</th>\n",
              "    </tr>\n",
              "    <tr>\n",
              "      <th>production_company</th>\n",
              "      <th></th>\n",
              "    </tr>\n",
              "  </thead>\n",
              "  <tbody>\n",
              "    <tr>\n",
              "      <th>-</th>\n",
              "      <td>4439</td>\n",
              "    </tr>\n",
              "    <tr>\n",
              "      <th>Metro-Goldwyn-Mayer (MGM)</th>\n",
              "      <td>1267</td>\n",
              "    </tr>\n",
              "    <tr>\n",
              "      <th>Warner Bros.</th>\n",
              "      <td>1145</td>\n",
              "    </tr>\n",
              "    <tr>\n",
              "      <th>Columbia Pictures</th>\n",
              "      <td>907</td>\n",
              "    </tr>\n",
              "    <tr>\n",
              "      <th>Paramount Pictures</th>\n",
              "      <td>893</td>\n",
              "    </tr>\n",
              "    <tr>\n",
              "      <th>Twentieth Century Fox</th>\n",
              "      <td>863</td>\n",
              "    </tr>\n",
              "    <tr>\n",
              "      <th>Universal Pictures</th>\n",
              "      <td>725</td>\n",
              "    </tr>\n",
              "    <tr>\n",
              "      <th>RKO Radio Pictures</th>\n",
              "      <td>533</td>\n",
              "    </tr>\n",
              "    <tr>\n",
              "      <th>Mosfilm</th>\n",
              "      <td>279</td>\n",
              "    </tr>\n",
              "    <tr>\n",
              "      <th>Universal International Pictures (UI)</th>\n",
              "      <td>272</td>\n",
              "    </tr>\n",
              "    <tr>\n",
              "      <th>Canal+</th>\n",
              "      <td>231</td>\n",
              "    </tr>\n",
              "    <tr>\n",
              "      <th>Republic Pictures (I)</th>\n",
              "      <td>208</td>\n",
              "    </tr>\n",
              "    <tr>\n",
              "      <th>New Line Cinema</th>\n",
              "      <td>205</td>\n",
              "    </tr>\n",
              "    <tr>\n",
              "      <th>CJ Entertainment</th>\n",
              "      <td>175</td>\n",
              "    </tr>\n",
              "    <tr>\n",
              "      <th>Shaw Brothers</th>\n",
              "      <td>169</td>\n",
              "    </tr>\n",
              "    <tr>\n",
              "      <th>Toho Company</th>\n",
              "      <td>158</td>\n",
              "    </tr>\n",
              "    <tr>\n",
              "      <th>First National Pictures</th>\n",
              "      <td>155</td>\n",
              "    </tr>\n",
              "    <tr>\n",
              "      <th>Shochiku</th>\n",
              "      <td>144</td>\n",
              "    </tr>\n",
              "    <tr>\n",
              "      <th>Golden Harvest Company</th>\n",
              "      <td>140</td>\n",
              "    </tr>\n",
              "    <tr>\n",
              "      <th>Touchstone Pictures</th>\n",
              "      <td>140</td>\n",
              "    </tr>\n",
              "  </tbody>\n",
              "</table>\n",
              "</div>"
            ],
            "text/plain": [
              "                                       title\n",
              "production_company                          \n",
              "-                                       4439\n",
              "Metro-Goldwyn-Mayer (MGM)               1267\n",
              "Warner Bros.                            1145\n",
              "Columbia Pictures                        907\n",
              "Paramount Pictures                       893\n",
              "Twentieth Century Fox                    863\n",
              "Universal Pictures                       725\n",
              "RKO Radio Pictures                       533\n",
              "Mosfilm                                  279\n",
              "Universal International Pictures (UI)    272\n",
              "Canal+                                   231\n",
              "Republic Pictures (I)                    208\n",
              "New Line Cinema                          205\n",
              "CJ Entertainment                         175\n",
              "Shaw Brothers                            169\n",
              "Toho Company                             158\n",
              "First National Pictures                  155\n",
              "Shochiku                                 144\n",
              "Golden Harvest Company                   140\n",
              "Touchstone Pictures                      140"
            ]
          },
          "metadata": {
            "tags": []
          },
          "execution_count": 145
        }
      ]
    },
    {
      "cell_type": "markdown",
      "metadata": {
        "id": "GuMdBXx5_eTY"
      },
      "source": [
        "####20 directirs in 2018"
      ]
    },
    {
      "cell_type": "code",
      "metadata": {
        "id": "VxwiwuwVuvk5",
        "outputId": "33ff5452-e5dd-4c22-d6b9-add401626be2",
        "colab": {
          "base_uri": "https://localhost:8080/",
          "height": 677
        }
      },
      "source": [
        "directors=all[['imdb_title_id','director']][(all.year=='2018')].drop_duplicates()\n",
        "directors.groupby('director').count().sort_values(by='imdb_title_id',ascending=False).head(20)"
      ],
      "execution_count": null,
      "outputs": [
        {
          "output_type": "execute_result",
          "data": {
            "text/html": [
              "<div>\n",
              "<style scoped>\n",
              "    .dataframe tbody tr th:only-of-type {\n",
              "        vertical-align: middle;\n",
              "    }\n",
              "\n",
              "    .dataframe tbody tr th {\n",
              "        vertical-align: top;\n",
              "    }\n",
              "\n",
              "    .dataframe thead th {\n",
              "        text-align: right;\n",
              "    }\n",
              "</style>\n",
              "<table border=\"1\" class=\"dataframe\">\n",
              "  <thead>\n",
              "    <tr style=\"text-align: right;\">\n",
              "      <th></th>\n",
              "      <th>imdb_title_id</th>\n",
              "    </tr>\n",
              "    <tr>\n",
              "      <th>director</th>\n",
              "      <th></th>\n",
              "    </tr>\n",
              "  </thead>\n",
              "  <tbody>\n",
              "    <tr>\n",
              "      <th>-</th>\n",
              "      <td>5</td>\n",
              "    </tr>\n",
              "    <tr>\n",
              "      <th>Justin Lee</th>\n",
              "      <td>4</td>\n",
              "    </tr>\n",
              "    <tr>\n",
              "      <th>Andrew Jones</th>\n",
              "      <td>4</td>\n",
              "    </tr>\n",
              "    <tr>\n",
              "      <th>Smeep Kang</th>\n",
              "      <td>3</td>\n",
              "    </tr>\n",
              "    <tr>\n",
              "      <th>Shô Tsukikawa</th>\n",
              "      <td>3</td>\n",
              "    </tr>\n",
              "    <tr>\n",
              "      <th>Kamil Cetin</th>\n",
              "      <td>3</td>\n",
              "    </tr>\n",
              "    <tr>\n",
              "      <th>Paolo Sorrentino</th>\n",
              "      <td>3</td>\n",
              "    </tr>\n",
              "    <tr>\n",
              "      <th>Alex Magaña</th>\n",
              "      <td>3</td>\n",
              "    </tr>\n",
              "    <tr>\n",
              "      <th>Rob Pallatina</th>\n",
              "      <td>3</td>\n",
              "    </tr>\n",
              "    <tr>\n",
              "      <th>Michael Feifer</th>\n",
              "      <td>3</td>\n",
              "    </tr>\n",
              "    <tr>\n",
              "      <th>Egor Baranov</th>\n",
              "      <td>3</td>\n",
              "    </tr>\n",
              "    <tr>\n",
              "      <th>Luis Eduardo Reyes</th>\n",
              "      <td>3</td>\n",
              "    </tr>\n",
              "    <tr>\n",
              "      <th>Scott Speer</th>\n",
              "      <td>3</td>\n",
              "    </tr>\n",
              "    <tr>\n",
              "      <th>Charlie Steeds</th>\n",
              "      <td>3</td>\n",
              "    </tr>\n",
              "    <tr>\n",
              "      <th>Ben Meyerson</th>\n",
              "      <td>3</td>\n",
              "    </tr>\n",
              "    <tr>\n",
              "      <th>Danny J. Boyle</th>\n",
              "      <td>3</td>\n",
              "    </tr>\n",
              "    <tr>\n",
              "      <th>Rene Perez</th>\n",
              "      <td>3</td>\n",
              "    </tr>\n",
              "    <tr>\n",
              "      <th>James Kondelik, Jon Kondelik</th>\n",
              "      <td>3</td>\n",
              "    </tr>\n",
              "    <tr>\n",
              "      <th>Louisa Warren</th>\n",
              "      <td>3</td>\n",
              "    </tr>\n",
              "    <tr>\n",
              "      <th>Nicholas Winter</th>\n",
              "      <td>2</td>\n",
              "    </tr>\n",
              "  </tbody>\n",
              "</table>\n",
              "</div>"
            ],
            "text/plain": [
              "                              imdb_title_id\n",
              "director                                   \n",
              "-                                         5\n",
              "Justin Lee                                4\n",
              "Andrew Jones                              4\n",
              "Smeep Kang                                3\n",
              "Shô Tsukikawa                             3\n",
              "Kamil Cetin                               3\n",
              "Paolo Sorrentino                          3\n",
              "Alex Magaña                               3\n",
              "Rob Pallatina                             3\n",
              "Michael Feifer                            3\n",
              "Egor Baranov                              3\n",
              "Luis Eduardo Reyes                        3\n",
              "Scott Speer                               3\n",
              "Charlie Steeds                            3\n",
              "Ben Meyerson                              3\n",
              "Danny J. Boyle                            3\n",
              "Rene Perez                                3\n",
              "James Kondelik, Jon Kondelik              3\n",
              "Louisa Warren                             3\n",
              "Nicholas Winter                           2"
            ]
          },
          "metadata": {
            "tags": []
          },
          "execution_count": 190
        }
      ]
    },
    {
      "cell_type": "markdown",
      "metadata": {
        "id": "_X_Lq2mqnZMn"
      },
      "source": [
        "We used title id as reference since it is a unique identifier"
      ]
    }
  ]
}